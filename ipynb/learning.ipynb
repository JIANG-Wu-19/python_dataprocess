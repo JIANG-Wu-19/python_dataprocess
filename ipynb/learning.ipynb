{
 "cells": [
  {
   "cell_type": "code",
   "execution_count": 1,
   "id": "2f0ff95e",
   "metadata": {},
   "outputs": [],
   "source": [
    "_hello=\"helloworld\"\n",
    "score=0\n",
    "y=20\n",
    "y=True"
   ]
  },
  {
   "cell_type": "code",
   "execution_count": 2,
   "id": "e2de3f42",
   "metadata": {},
   "outputs": [
    {
     "name": "stdout",
     "output_type": "stream",
     "text": [
      "helloworld\n"
     ]
    }
   ],
   "source": [
    "print(_hello)"
   ]
  },
  {
   "cell_type": "code",
   "execution_count": 3,
   "id": "13340214",
   "metadata": {},
   "outputs": [
    {
     "name": "stdout",
     "output_type": "stream",
     "text": [
      "0\n"
     ]
    }
   ],
   "source": [
    "print(score)"
   ]
  },
  {
   "cell_type": "code",
   "execution_count": 4,
   "id": "7f1e85bf",
   "metadata": {},
   "outputs": [
    {
     "name": "stdout",
     "output_type": "stream",
     "text": [
      "True\n"
     ]
    }
   ],
   "source": [
    "print(y)"
   ]
  },
  {
   "cell_type": "markdown",
   "id": "d5767105",
   "metadata": {},
   "source": [
    "# 变量\n",
    "python是动态类型语言，不检查数据类型\n",
    "可以接收其他类型的数据"
   ]
  },
  {
   "cell_type": "code",
   "execution_count": 1,
   "id": "a016ab9a",
   "metadata": {},
   "outputs": [],
   "source": [
    "a=b=c=10"
   ]
  },
  {
   "cell_type": "markdown",
   "id": "2c547251",
   "metadata": {},
   "source": [
    "* python支持链式赋值语句"
   ]
  },
  {
   "cell_type": "code",
   "execution_count": 2,
   "id": "3803353f",
   "metadata": {},
   "outputs": [
    {
     "name": "stdout",
     "output_type": "stream",
     "text": [
      "10\n"
     ]
    }
   ],
   "source": [
    "print(a)"
   ]
  },
  {
   "cell_type": "code",
   "execution_count": 21,
   "id": "401913d0",
   "metadata": {},
   "outputs": [
    {
     "name": "stdout",
     "output_type": "stream",
     "text": [
      "20\n",
      "10.0\n",
      "helloworld\n"
     ]
    }
   ],
   "source": [
    "#coding=utf-8\n",
    "#file:chapter4/4.4/hello.py\n",
    "\n",
    "_hello=\"helloworld\"\n",
    "score_for_student=10.0 #没有错误发生\n",
    "y=20\n",
    "\n",
    "name1=\"Tom\";name2=\"Tony\"\n",
    "#链式赋值语句\n",
    "a=b=c=10\n",
    "\n",
    "if y>10:\n",
    "    print(y)\n",
    "    print(score_for_student)\n",
    "else:\n",
    "    print(y*10)\n",
    "print(_hello)"
   ]
  },
  {
   "cell_type": "code",
   "execution_count": 5,
   "id": "ef94ebd0",
   "metadata": {},
   "outputs": [
    {
     "name": "stdout",
     "output_type": "stream",
     "text": [
      "20\n",
      "10.0\n",
      "helloworld\n"
     ]
    }
   ],
   "source": [
    "#coding=utf-8\n",
    "#file:chapter4/4.4/hello.py\n",
    "\n",
    "_hello=\"helloworld\"\n",
    "score_for_student=10.0 #没有错误发生\n",
    "y=20\n",
    "\n",
    "name1=\"Tom\";name2=\"Tony\"\n",
    "#链式赋值语句\n",
    "a=b=c=10\n",
    "\n",
    "if y>10:\n",
    "    print(y)\n",
    "    print(score_for_student)\n",
    "else:\n",
    "    print(y*10)\n",
    "print(_hello)"
   ]
  },
  {
   "cell_type": "code",
   "execution_count": 12,
   "id": "c70b10ab",
   "metadata": {},
   "outputs": [
    {
     "name": "stdout",
     "output_type": "stream",
     "text": [
      "20\n",
      "True\n",
      "10.0\n"
     ]
    }
   ],
   "source": [
    "# coding=utf-8\n",
    "import module1\n",
    "from module1 import z\n",
    "\n",
    "y=20\n",
    "\n",
    "print(y)\n",
    "print(module1.y)\n",
    "print(z)"
   ]
  },
  {
   "cell_type": "code",
   "execution_count": 13,
   "id": "be7dfd09",
   "metadata": {},
   "outputs": [
    {
     "name": "stdout",
     "output_type": "stream",
     "text": [
      "20\n",
      "True\n",
      "10.0\n"
     ]
    }
   ],
   "source": [
    "# coding=utf-8\n",
    "import module1\n",
    "from module1 import z\n",
    "\n",
    "y=20\n",
    "\n",
    "print(y)\n",
    "print(module1.y)\n",
    "print(z)"
   ]
  },
  {
   "cell_type": "code",
   "execution_count": 15,
   "id": "c7ee0082",
   "metadata": {},
   "outputs": [
    {
     "name": "stdout",
     "output_type": "stream",
     "text": [
      "10.1\n",
      "20\n",
      "True\n",
      "10.0\n"
     ]
    }
   ],
   "source": [
    "import com.pkg2.hello as module1\n",
    "from com.pkg2.hello import z as x\n",
    "print(x)\n",
    "y=20\n",
    "print(y)\n",
    "print(module1.y)\n",
    "print(z)"
   ]
  },
  {
   "cell_type": "markdown",
   "id": "e4d9de53",
   "metadata": {},
   "source": [
    "# 编码规范\n",
    "\n",
    "## 命名规范\n",
    "* 包名： 全部小写字母，中间可以由的隔开，不推荐使用下画线。作为命名空间，包名野窍应该具有唯一性，推荐采用公司或组织域名的倒置，如com.apple . quicktime . v2 。\n",
    "* 模块名： 全部小写字母，如果是多个单词构成， 可以用下画线隔开， 如dummy_threading 。\n",
    "* 类名： 采用大驼峰法命名③，如SplitViewController 。\n",
    "* 异常名：异常属于类， 命名同类命名，但应该使用Error 作为后缀。如FileNotFoundError 。\n",
    "* 变量名： 全部小写字母，如果由多个单词构成，可以用下画线隔开。如果变量应用于模块或函数内部，则变量名可以由单下画线开头： 变量类内部私有使用变量名可以双下画线开头。不要命名双下画线开头和结尾的变量，这是Python 保留的。另外，避免使用小写L 、大写0 和大写I 作为变量名。\n",
    "* 函数名和方法名： 命名同变量命名，如balance_account 、_push_cm_ exit 。\n",
    "* 常量名： 全部大写字母，如果是由多个单词构成，可以用下画线隔开，如YEAR 和WEEK OF MONTH 。\n",
    "\n",
    "## 注释规范\n",
    "单行注释、多行注释和文档注释\n",
    "### 文件注释\n",
    "文件注释就是在每一个文件开头添加注释，采用多行注释。文件注释通常包括如下信息：版权信息、文件名、所在模块、作者信息、历史版本信息、文件内容和作用等。\n",
    "```\n",
    "#\n",
    "#版权所有2015 北京智捷东方科技有限公司\n",
    "#许可信息查看LICENSE . txt 文件\n",
    "#描述：\n",
    "# 实现日期基本功能\n",
    "#历史版本：\n",
    "# 2015 7 22 ：创建关东升\n",
    "# 2015 - 8 - 20 ： 添加socket 库\n",
    "# 2015 - 8 - 22 ：添加math 库\n",
    "#\n",
    "```\n",
    "上述注释只是提供了版权信息、文件内容和历史版本信息等，文件注释要根据实际情况包\n",
    "括内容。\n",
    "\n",
    "### 文档注释\n",
    "### 代码注释\n",
    "### 使用todo注释\n",
    "\n",
    "## 导入规范\n",
    "导入语句应该按照从通用到特殊的顺序分组， 顺序是： 标准库→ 第三方库→ 自己模块。每一组之间有一个空行，而且组中模块是按照英文字母顺序排序的。\n",
    "```\n",
    "import io\n",
    "import os\n",
    "import pkgutil\n",
    "import platform\n",
    "import re\n",
    "import sys\n",
    "import time\n",
    "from html import unescape\n",
    "from com.pkgl import example\n",
    "```\n",
    "\n",
    "## 代码规范\n",
    "### 空行\n",
    "* import 语句块前后保留两个空行\n",
    "* 函数声明之前保留两个空行\n",
    "* 类声明之前保留两个空行\n",
    "* 方法声明之前保留一个空行\n",
    "* 两个逻辑代码块之间应该保留一个空行\n",
    "### 空格\n",
    "* 赋值符号“＝”前后各有一个空格\n",
    "* 所有的二元运算符都应该使用空格与操作数分开\n",
    "* 一元运算符：算法运算符取反“”和运算符取反“ ～ ”\n",
    "* 括号内不要有空格， Python 中括号包括小括号“（）飞中括号“ ［］”和大括号“｛｝”\n",
    "* 不要在逗号、分号、冒号前面有空格，而是要在它们后面有一个空格，除非该符号已经是行尾了\n",
    "* 参数列表、索引或切片的左括号前不应有空格\n",
    "### 缩进\n",
    "4 个空格常被作为缩进排版的一个级别。虽然在开发时程序员可以使用制表符进行缩进，而默认情况下一个制表符等于8 个空格，但是不同的IDE 工具中一个制表符与空格对应个数会有不同，所以不要使用制表符缩进。\n",
    "### 断行\n",
    "一行代码中最多79 个字符， 对于文档注释和多行注释时一行最多72 个字符，但是如果注释中包含URL 地址可以不受这个限制。否则，如果超过则需断行，可以依据下面的一般规范断开。\n",
    "* 在逗号后面断开\n",
    "* 在运算符前面断开\n",
    "* 尽量不要使用续行符“ ＼ ” ， 当有括号（包括大括号、中括号和小括号） 则在括号中断开， 这样可以不使用续行符"
   ]
  },
  {
   "cell_type": "markdown",
   "id": "35c99881",
   "metadata": {},
   "source": [
    "# 数据类型\n",
    "## 数字类型\n",
    "### 整数类型"
   ]
  },
  {
   "cell_type": "code",
   "execution_count": 1,
   "id": "8ecc5b51",
   "metadata": {},
   "outputs": [
    {
     "data": {
      "text/plain": [
       "28"
      ]
     },
     "execution_count": 1,
     "metadata": {},
     "output_type": "execute_result"
    }
   ],
   "source": [
    "28"
   ]
  },
  {
   "cell_type": "code",
   "execution_count": 17,
   "id": "e68f7984",
   "metadata": {},
   "outputs": [
    {
     "data": {
      "text/plain": [
       "28"
      ]
     },
     "execution_count": 17,
     "metadata": {},
     "output_type": "execute_result"
    }
   ],
   "source": [
    "0b11100"
   ]
  },
  {
   "cell_type": "code",
   "execution_count": 18,
   "id": "d45174b7",
   "metadata": {},
   "outputs": [
    {
     "data": {
      "text/plain": [
       "28"
      ]
     },
     "execution_count": 18,
     "metadata": {},
     "output_type": "execute_result"
    }
   ],
   "source": [
    "0o34"
   ]
  },
  {
   "cell_type": "code",
   "execution_count": 19,
   "id": "f658a3a8",
   "metadata": {},
   "outputs": [
    {
     "data": {
      "text/plain": [
       "28"
      ]
     },
     "execution_count": 19,
     "metadata": {},
     "output_type": "execute_result"
    }
   ],
   "source": [
    "0x1c"
   ]
  },
  {
   "cell_type": "markdown",
   "id": "af24a5ba",
   "metadata": {},
   "source": [
    "### 浮点类型"
   ]
  },
  {
   "cell_type": "code",
   "execution_count": 20,
   "id": "9ad47dfd",
   "metadata": {},
   "outputs": [
    {
     "data": {
      "text/plain": [
       "1.0"
      ]
     },
     "execution_count": 20,
     "metadata": {},
     "output_type": "execute_result"
    }
   ],
   "source": [
    "1.0"
   ]
  },
  {
   "cell_type": "code",
   "execution_count": 21,
   "id": "17b223e3",
   "metadata": {},
   "outputs": [
    {
     "data": {
      "text/plain": [
       "0.0"
      ]
     },
     "execution_count": 21,
     "metadata": {},
     "output_type": "execute_result"
    }
   ],
   "source": [
    "0.0"
   ]
  },
  {
   "cell_type": "code",
   "execution_count": 22,
   "id": "c3317f2a",
   "metadata": {},
   "outputs": [
    {
     "data": {
      "text/plain": [
       "336.0"
      ]
     },
     "execution_count": 22,
     "metadata": {},
     "output_type": "execute_result"
    }
   ],
   "source": [
    "3.36e2"
   ]
  },
  {
   "cell_type": "code",
   "execution_count": 23,
   "id": "0188c1b9",
   "metadata": {},
   "outputs": [
    {
     "data": {
      "text/plain": [
       "0.0156"
      ]
     },
     "execution_count": 23,
     "metadata": {},
     "output_type": "execute_result"
    }
   ],
   "source": [
    "1.56e-2"
   ]
  },
  {
   "cell_type": "markdown",
   "id": "cb705f65",
   "metadata": {},
   "source": [
    "### 复数类型"
   ]
  },
  {
   "cell_type": "code",
   "execution_count": 24,
   "id": "f3126b61",
   "metadata": {},
   "outputs": [
    {
     "data": {
      "text/plain": [
       "(1+2j)"
      ]
     },
     "execution_count": 24,
     "metadata": {},
     "output_type": "execute_result"
    }
   ],
   "source": [
    "1+2j"
   ]
  },
  {
   "cell_type": "code",
   "execution_count": 25,
   "id": "f8345dfd",
   "metadata": {},
   "outputs": [
    {
     "data": {
      "text/plain": [
       "(2+4j)"
      ]
     },
     "execution_count": 25,
     "metadata": {},
     "output_type": "execute_result"
    }
   ],
   "source": [
    "(1+2j)+(1+2j)"
   ]
  },
  {
   "cell_type": "markdown",
   "id": "7b64a162",
   "metadata": {},
   "source": [
    "### 布尔类型"
   ]
  },
  {
   "cell_type": "code",
   "execution_count": 26,
   "id": "48bbfee3",
   "metadata": {},
   "outputs": [
    {
     "data": {
      "text/plain": [
       "False"
      ]
     },
     "execution_count": 26,
     "metadata": {},
     "output_type": "execute_result"
    }
   ],
   "source": [
    "bool(0)"
   ]
  },
  {
   "cell_type": "code",
   "execution_count": 27,
   "id": "689750b2",
   "metadata": {},
   "outputs": [
    {
     "data": {
      "text/plain": [
       "True"
      ]
     },
     "execution_count": 27,
     "metadata": {},
     "output_type": "execute_result"
    }
   ],
   "source": [
    "bool(2)"
   ]
  },
  {
   "cell_type": "code",
   "execution_count": 28,
   "id": "6a5843d0",
   "metadata": {},
   "outputs": [
    {
     "data": {
      "text/plain": [
       "True"
      ]
     },
     "execution_count": 28,
     "metadata": {},
     "output_type": "execute_result"
    }
   ],
   "source": [
    "bool(1)"
   ]
  },
  {
   "cell_type": "code",
   "execution_count": 29,
   "id": "753dfef2",
   "metadata": {},
   "outputs": [
    {
     "data": {
      "text/plain": [
       "False"
      ]
     },
     "execution_count": 29,
     "metadata": {},
     "output_type": "execute_result"
    }
   ],
   "source": [
    "bool('')"
   ]
  },
  {
   "cell_type": "code",
   "execution_count": 30,
   "id": "1c3b1453",
   "metadata": {},
   "outputs": [
    {
     "data": {
      "text/plain": [
       "True"
      ]
     },
     "execution_count": 30,
     "metadata": {},
     "output_type": "execute_result"
    }
   ],
   "source": [
    "bool(' ')"
   ]
  },
  {
   "cell_type": "code",
   "execution_count": 31,
   "id": "d17ca03b",
   "metadata": {},
   "outputs": [
    {
     "data": {
      "text/plain": [
       "False"
      ]
     },
     "execution_count": 31,
     "metadata": {},
     "output_type": "execute_result"
    }
   ],
   "source": [
    "bool([])"
   ]
  },
  {
   "cell_type": "code",
   "execution_count": 32,
   "id": "c8a071b6",
   "metadata": {},
   "outputs": [
    {
     "data": {
      "text/plain": [
       "False"
      ]
     },
     "execution_count": 32,
     "metadata": {},
     "output_type": "execute_result"
    }
   ],
   "source": [
    "bool({})"
   ]
  },
  {
   "cell_type": "markdown",
   "id": "77c21f9c",
   "metadata": {},
   "source": [
    "## 数字类型相互转换\n",
    "### 隐式类型转换"
   ]
  },
  {
   "cell_type": "code",
   "execution_count": 33,
   "id": "a23c20df",
   "metadata": {},
   "outputs": [],
   "source": [
    "a=1+True"
   ]
  },
  {
   "cell_type": "code",
   "execution_count": 34,
   "id": "c297c330",
   "metadata": {},
   "outputs": [
    {
     "name": "stdout",
     "output_type": "stream",
     "text": [
      "2\n"
     ]
    }
   ],
   "source": [
    "print(a)"
   ]
  },
  {
   "cell_type": "code",
   "execution_count": 35,
   "id": "65ba218c",
   "metadata": {},
   "outputs": [],
   "source": [
    "a=1.0+1"
   ]
  },
  {
   "cell_type": "code",
   "execution_count": 36,
   "id": "00c2b8c2",
   "metadata": {},
   "outputs": [
    {
     "data": {
      "text/plain": [
       "float"
      ]
     },
     "execution_count": 36,
     "metadata": {},
     "output_type": "execute_result"
    }
   ],
   "source": [
    "type(a)"
   ]
  },
  {
   "cell_type": "code",
   "execution_count": 37,
   "id": "ec5f2ba3",
   "metadata": {},
   "outputs": [
    {
     "name": "stdout",
     "output_type": "stream",
     "text": [
      "2.0\n"
     ]
    }
   ],
   "source": [
    "print(a)"
   ]
  },
  {
   "cell_type": "code",
   "execution_count": 38,
   "id": "60bd5359",
   "metadata": {},
   "outputs": [],
   "source": [
    "a=1.0+True"
   ]
  },
  {
   "cell_type": "code",
   "execution_count": 39,
   "id": "0340b23f",
   "metadata": {},
   "outputs": [
    {
     "name": "stdout",
     "output_type": "stream",
     "text": [
      "2.0\n"
     ]
    }
   ],
   "source": [
    "print(a)"
   ]
  },
  {
   "cell_type": "code",
   "execution_count": 40,
   "id": "d908202e",
   "metadata": {},
   "outputs": [],
   "source": [
    "a=1.0+1+True"
   ]
  },
  {
   "cell_type": "code",
   "execution_count": 41,
   "id": "4c920357",
   "metadata": {},
   "outputs": [
    {
     "name": "stdout",
     "output_type": "stream",
     "text": [
      "3.0\n"
     ]
    }
   ],
   "source": [
    "print(a)"
   ]
  },
  {
   "cell_type": "code",
   "execution_count": 42,
   "id": "281627e1",
   "metadata": {},
   "outputs": [],
   "source": [
    "a=1.0+1+False"
   ]
  },
  {
   "cell_type": "code",
   "execution_count": 43,
   "id": "6156a956",
   "metadata": {},
   "outputs": [
    {
     "name": "stdout",
     "output_type": "stream",
     "text": [
      "2.0\n"
     ]
    }
   ],
   "source": [
    "print(a)"
   ]
  },
  {
   "cell_type": "markdown",
   "id": "74befba9",
   "metadata": {},
   "source": [
    "### 显式类型转换"
   ]
  },
  {
   "cell_type": "code",
   "execution_count": 44,
   "id": "cb3dae92",
   "metadata": {},
   "outputs": [
    {
     "data": {
      "text/plain": [
       "0"
      ]
     },
     "execution_count": 44,
     "metadata": {},
     "output_type": "execute_result"
    }
   ],
   "source": [
    "int(False)"
   ]
  },
  {
   "cell_type": "code",
   "execution_count": 45,
   "id": "c0390461",
   "metadata": {},
   "outputs": [
    {
     "data": {
      "text/plain": [
       "1"
      ]
     },
     "execution_count": 45,
     "metadata": {},
     "output_type": "execute_result"
    }
   ],
   "source": [
    "int(True)"
   ]
  },
  {
   "cell_type": "code",
   "execution_count": 46,
   "id": "104fc6a5",
   "metadata": {},
   "outputs": [
    {
     "data": {
      "text/plain": [
       "19"
      ]
     },
     "execution_count": 46,
     "metadata": {},
     "output_type": "execute_result"
    }
   ],
   "source": [
    "int(19.6)"
   ]
  },
  {
   "cell_type": "code",
   "execution_count": 47,
   "id": "c7b19ea4",
   "metadata": {},
   "outputs": [
    {
     "data": {
      "text/plain": [
       "5.0"
      ]
     },
     "execution_count": 47,
     "metadata": {},
     "output_type": "execute_result"
    }
   ],
   "source": [
    "float(5)"
   ]
  },
  {
   "cell_type": "code",
   "execution_count": 48,
   "id": "943c3a84",
   "metadata": {},
   "outputs": [
    {
     "data": {
      "text/plain": [
       "0.0"
      ]
     },
     "execution_count": 48,
     "metadata": {},
     "output_type": "execute_result"
    }
   ],
   "source": [
    "float(False)"
   ]
  },
  {
   "cell_type": "code",
   "execution_count": 49,
   "id": "668947aa",
   "metadata": {},
   "outputs": [
    {
     "data": {
      "text/plain": [
       "1.0"
      ]
     },
     "execution_count": 49,
     "metadata": {},
     "output_type": "execute_result"
    }
   ],
   "source": [
    "float(True)"
   ]
  },
  {
   "cell_type": "markdown",
   "id": "f170c72e",
   "metadata": {},
   "source": [
    "## 字符串类型\n",
    "### 字符串表示方式"
   ]
  },
  {
   "cell_type": "code",
   "execution_count": 50,
   "id": "e07c1d3c",
   "metadata": {},
   "outputs": [],
   "source": [
    "s = 'Hello World'"
   ]
  },
  {
   "cell_type": "code",
   "execution_count": 51,
   "id": "014ca16e",
   "metadata": {},
   "outputs": [
    {
     "name": "stdout",
     "output_type": "stream",
     "text": [
      "Hello World\n"
     ]
    }
   ],
   "source": [
    "print(s)"
   ]
  },
  {
   "cell_type": "code",
   "execution_count": 53,
   "id": "f8a90f72",
   "metadata": {},
   "outputs": [],
   "source": [
    "s=\"Hello World\""
   ]
  },
  {
   "cell_type": "code",
   "execution_count": 54,
   "id": "cde6c00f",
   "metadata": {},
   "outputs": [
    {
     "name": "stdout",
     "output_type": "stream",
     "text": [
      "Hello World\n"
     ]
    }
   ],
   "source": [
    "print(s)"
   ]
  },
  {
   "cell_type": "code",
   "execution_count": 55,
   "id": "510127ce",
   "metadata": {},
   "outputs": [],
   "source": [
    "s='\\u0048\\u0065\\u006c\\u006c\\u006f\\u0020\\u0057\\u006f\\u0072\\u006c\\u0064'"
   ]
  },
  {
   "cell_type": "code",
   "execution_count": 56,
   "id": "88c66cea",
   "metadata": {},
   "outputs": [
    {
     "name": "stdout",
     "output_type": "stream",
     "text": [
      "Hello World\n"
     ]
    }
   ],
   "source": [
    "print(s)"
   ]
  },
  {
   "cell_type": "code",
   "execution_count": 57,
   "id": "5e3982ff",
   "metadata": {},
   "outputs": [],
   "source": [
    "s=\"\\u0048\\u0065\\u006c\\u006c\\u006f\\u0020\\u0057\\u006f\\u0072\\u006c\\u0064\""
   ]
  },
  {
   "cell_type": "code",
   "execution_count": 58,
   "id": "4d31dabb",
   "metadata": {},
   "outputs": [
    {
     "name": "stdout",
     "output_type": "stream",
     "text": [
      "Hello World\n"
     ]
    }
   ],
   "source": [
    "print(s)"
   ]
  },
  {
   "cell_type": "markdown",
   "id": "0e00b7c5",
   "metadata": {},
   "source": [
    "* 转义符"
   ]
  },
  {
   "cell_type": "code",
   "execution_count": 59,
   "id": "76f652ca",
   "metadata": {},
   "outputs": [],
   "source": [
    "s='Hello\\n World'"
   ]
  },
  {
   "cell_type": "code",
   "execution_count": 60,
   "id": "538272fd",
   "metadata": {},
   "outputs": [
    {
     "name": "stdout",
     "output_type": "stream",
     "text": [
      "Hello\n",
      " World\n"
     ]
    }
   ],
   "source": [
    "print(s)"
   ]
  },
  {
   "cell_type": "code",
   "execution_count": 61,
   "id": "98a56f35",
   "metadata": {},
   "outputs": [],
   "source": [
    "s='Hello\\t World'"
   ]
  },
  {
   "cell_type": "code",
   "execution_count": 62,
   "id": "047b5b50",
   "metadata": {},
   "outputs": [
    {
     "name": "stdout",
     "output_type": "stream",
     "text": [
      "Hello\t World\n"
     ]
    }
   ],
   "source": [
    "print(s)"
   ]
  },
  {
   "cell_type": "code",
   "execution_count": 3,
   "id": "def4915e",
   "metadata": {},
   "outputs": [
    {
     "name": "stdout",
     "output_type": "stream",
     "text": [
      "Hello 'World\n"
     ]
    }
   ],
   "source": [
    "s='Hello \\'World'\n",
    "print(s)"
   ]
  },
  {
   "cell_type": "code",
   "execution_count": 6,
   "id": "93264274",
   "metadata": {},
   "outputs": [
    {
     "name": "stdout",
     "output_type": "stream",
     "text": [
      "hello'world\n"
     ]
    }
   ],
   "source": [
    "s=\"hello'world\"\n",
    "print(s)"
   ]
  },
  {
   "cell_type": "code",
   "execution_count": 7,
   "id": "f4a6de32",
   "metadata": {},
   "outputs": [
    {
     "name": "stdout",
     "output_type": "stream",
     "text": [
      "hello\"world\n"
     ]
    }
   ],
   "source": [
    "s='hello\"world'\n",
    "print(s)"
   ]
  },
  {
   "cell_type": "code",
   "execution_count": 8,
   "id": "e5f45711",
   "metadata": {},
   "outputs": [
    {
     "name": "stdout",
     "output_type": "stream",
     "text": [
      "hello\\world\n"
     ]
    }
   ],
   "source": [
    "s='hello\\\\world'\n",
    "print(s)"
   ]
  },
  {
   "cell_type": "code",
   "execution_count": 9,
   "id": "86b600ce",
   "metadata": {},
   "outputs": [
    {
     "name": "stdout",
     "output_type": "stream",
     "text": [
      "hello\\ world\n"
     ]
    }
   ],
   "source": [
    "s='hello\\u005c world'\n",
    "print(s)"
   ]
  },
  {
   "cell_type": "markdown",
   "id": "d4c8ae2d",
   "metadata": {},
   "source": [
    "* 原始字符串"
   ]
  },
  {
   "cell_type": "code",
   "execution_count": 10,
   "id": "5eff6865",
   "metadata": {},
   "outputs": [
    {
     "name": "stdout",
     "output_type": "stream",
     "text": [
      "hello\tworld\n"
     ]
    }
   ],
   "source": [
    "s='hello\\tworld'\n",
    "print(s)"
   ]
  },
  {
   "cell_type": "code",
   "execution_count": 12,
   "id": "c4ab72e0",
   "metadata": {},
   "outputs": [
    {
     "name": "stdout",
     "output_type": "stream",
     "text": [
      "hello\\tworld\n"
     ]
    }
   ],
   "source": [
    "s=r'hello\\tworld'\n",
    "print(s)"
   ]
  },
  {
   "cell_type": "markdown",
   "id": "03291cf6",
   "metadata": {},
   "source": [
    "* 长字符串"
   ]
  },
  {
   "cell_type": "code",
   "execution_count": 13,
   "id": "eb873162",
   "metadata": {},
   "outputs": [
    {
     "name": "stdout",
     "output_type": "stream",
     "text": [
      "hello\n",
      "world\n"
     ]
    }
   ],
   "source": [
    "s='''hello\n",
    "world'''\n",
    "print(s)"
   ]
  },
  {
   "cell_type": "code",
   "execution_count": 15,
   "id": "160809f9",
   "metadata": {},
   "outputs": [
    {
     "name": "stdout",
     "output_type": "stream",
     "text": [
      "hello\n",
      "\tworld\n"
     ]
    }
   ],
   "source": [
    "s='''hello\n",
    "\\tworld'''\n",
    "print(s)"
   ]
  },
  {
   "cell_type": "markdown",
   "id": "aa7f02b2",
   "metadata": {},
   "source": [
    "### 字符串格式化"
   ]
  },
  {
   "cell_type": "code",
   "execution_count": 16,
   "id": "b35d015d",
   "metadata": {},
   "outputs": [
    {
     "name": "stdout",
     "output_type": "stream",
     "text": [
      "她的年龄是18岁。\n"
     ]
    }
   ],
   "source": [
    "name='Mary'\n",
    "age=18\n",
    "s='她的年龄是{0}岁。'.format(age)\n",
    "print(s)"
   ]
  },
  {
   "cell_type": "code",
   "execution_count": 17,
   "id": "435028a6",
   "metadata": {},
   "outputs": [
    {
     "name": "stdout",
     "output_type": "stream",
     "text": [
      "Mary芳龄是18岁\n"
     ]
    }
   ],
   "source": [
    "s='{0}芳龄是{1}岁'.format(name,age)\n",
    "print(s)"
   ]
  },
  {
   "cell_type": "code",
   "execution_count": 18,
   "id": "f178dfc0",
   "metadata": {},
   "outputs": [
    {
     "name": "stdout",
     "output_type": "stream",
     "text": [
      "Mary芳龄是18岁\n"
     ]
    }
   ],
   "source": [
    "s='{1}芳龄是{0}岁'.format(age,name)\n",
    "print(s)"
   ]
  },
  {
   "cell_type": "code",
   "execution_count": 19,
   "id": "af81d1de",
   "metadata": {},
   "outputs": [
    {
     "name": "stdout",
     "output_type": "stream",
     "text": [
      "Mary芳龄是18岁\n"
     ]
    }
   ],
   "source": [
    "s='{n}芳龄是{a}岁'.format(n=name,a=age)\n",
    "print(s)"
   ]
  },
  {
   "cell_type": "code",
   "execution_count": 2,
   "id": "adec9ddb",
   "metadata": {},
   "outputs": [
    {
     "data": {
      "text/plain": [
       "'Mary芳龄是18岁。'"
      ]
     },
     "execution_count": 2,
     "metadata": {},
     "output_type": "execute_result"
    }
   ],
   "source": [
    "name='Mary'\n",
    "age=18\n",
    "money=1234.5678\n",
    "\"{0}芳龄是{1:d}岁。\".format(name,age)"
   ]
  },
  {
   "cell_type": "code",
   "execution_count": 3,
   "id": "4724c9aa",
   "metadata": {},
   "outputs": [
    {
     "data": {
      "text/plain": [
       "'Mary芳龄是   18岁。'"
      ]
     },
     "execution_count": 3,
     "metadata": {},
     "output_type": "execute_result"
    }
   ],
   "source": [
    "\"{1}芳龄是{0:5d}岁。\".format(age,name)"
   ]
  },
  {
   "cell_type": "code",
   "execution_count": 5,
   "id": "63a34130",
   "metadata": {},
   "outputs": [
    {
     "data": {
      "text/plain": [
       "'Mary今天收入是1234.567800元'"
      ]
     },
     "execution_count": 5,
     "metadata": {},
     "output_type": "execute_result"
    }
   ],
   "source": [
    "\"{0}今天收入是{1:f}元\".format(name,money)"
   ]
  },
  {
   "cell_type": "code",
   "execution_count": 6,
   "id": "87ed141c",
   "metadata": {},
   "outputs": [
    {
     "data": {
      "text/plain": [
       "'Mary今天收入是1234.57'"
      ]
     },
     "execution_count": 6,
     "metadata": {},
     "output_type": "execute_result"
    }
   ],
   "source": [
    "\"{0}今天收入是{1:.2f}\".format(name,money)"
   ]
  },
  {
   "cell_type": "code",
   "execution_count": 7,
   "id": "7c44a94f",
   "metadata": {},
   "outputs": [
    {
     "data": {
      "text/plain": [
       "'Mary今天收入是   1234.57'"
      ]
     },
     "execution_count": 7,
     "metadata": {},
     "output_type": "execute_result"
    }
   ],
   "source": [
    "\"{0}今天收入是{1:10.2f}\".format(name,money)"
   ]
  },
  {
   "cell_type": "code",
   "execution_count": 8,
   "id": "c7c1a5a9",
   "metadata": {},
   "outputs": [
    {
     "data": {
      "text/plain": [
       "'Mary今天收入是1234.57'"
      ]
     },
     "execution_count": 8,
     "metadata": {},
     "output_type": "execute_result"
    }
   ],
   "source": [
    "\"{0}今天收入是{1:g}\".format(name,money)"
   ]
  },
  {
   "cell_type": "code",
   "execution_count": 9,
   "id": "55e9b279",
   "metadata": {},
   "outputs": [
    {
     "data": {
      "text/plain": [
       "'Mary今天收入是1234.57'"
      ]
     },
     "execution_count": 9,
     "metadata": {},
     "output_type": "execute_result"
    }
   ],
   "source": [
    "\"{0}今天收入是{1:G}\".format(name,money)"
   ]
  },
  {
   "cell_type": "code",
   "execution_count": 10,
   "id": "733dce84",
   "metadata": {},
   "outputs": [
    {
     "data": {
      "text/plain": [
       "'Mary今天收入是1.234568e+03'"
      ]
     },
     "execution_count": 10,
     "metadata": {},
     "output_type": "execute_result"
    }
   ],
   "source": [
    "\"{0}今天收入是{1:e}\".format(name,money)"
   ]
  },
  {
   "cell_type": "code",
   "execution_count": 11,
   "id": "4579fdef",
   "metadata": {},
   "outputs": [
    {
     "data": {
      "text/plain": [
       "'Mary今天收入是1.234568E+03'"
      ]
     },
     "execution_count": 11,
     "metadata": {},
     "output_type": "execute_result"
    }
   ],
   "source": [
    "\"{0}今天收入是{1:E}\".format(name,money)"
   ]
  },
  {
   "cell_type": "markdown",
   "id": "48f9ccc2",
   "metadata": {},
   "source": [
    "### 字符串查找"
   ]
  },
  {
   "cell_type": "code",
   "execution_count": 12,
   "id": "011f8b13",
   "metadata": {},
   "outputs": [
    {
     "data": {
      "text/plain": [
       "35"
      ]
     },
     "execution_count": 12,
     "metadata": {},
     "output_type": "execute_result"
    }
   ],
   "source": [
    "source_str=\"there is a string accessing example\"\n",
    "len(source_str)"
   ]
  },
  {
   "cell_type": "code",
   "execution_count": 13,
   "id": "f6eaa6e4",
   "metadata": {},
   "outputs": [
    {
     "data": {
      "text/plain": [
       "'g'"
      ]
     },
     "execution_count": 13,
     "metadata": {},
     "output_type": "execute_result"
    }
   ],
   "source": [
    "source_str[16]"
   ]
  },
  {
   "cell_type": "code",
   "execution_count": 14,
   "id": "183f2110",
   "metadata": {},
   "outputs": [
    {
     "data": {
      "text/plain": [
       "3"
      ]
     },
     "execution_count": 14,
     "metadata": {},
     "output_type": "execute_result"
    }
   ],
   "source": [
    "source_str.find('r')"
   ]
  },
  {
   "cell_type": "code",
   "execution_count": 15,
   "id": "6e178d53",
   "metadata": {},
   "outputs": [
    {
     "data": {
      "text/plain": [
       "13"
      ]
     },
     "execution_count": 15,
     "metadata": {},
     "output_type": "execute_result"
    }
   ],
   "source": [
    "source_str.rfind('r')"
   ]
  },
  {
   "cell_type": "code",
   "execution_count": 16,
   "id": "6df6a959",
   "metadata": {},
   "outputs": [
    {
     "data": {
      "text/plain": [
       "14"
      ]
     },
     "execution_count": 16,
     "metadata": {},
     "output_type": "execute_result"
    }
   ],
   "source": [
    "source_str.find('ing')"
   ]
  },
  {
   "cell_type": "code",
   "execution_count": 17,
   "id": "bc9f36fd",
   "metadata": {},
   "outputs": [
    {
     "data": {
      "text/plain": [
       "24"
      ]
     },
     "execution_count": 17,
     "metadata": {},
     "output_type": "execute_result"
    }
   ],
   "source": [
    "source_str.rfind('ing')"
   ]
  },
  {
   "cell_type": "code",
   "execution_count": 18,
   "id": "ecb6c368",
   "metadata": {},
   "outputs": [
    {
     "data": {
      "text/plain": [
       "21"
      ]
     },
     "execution_count": 18,
     "metadata": {},
     "output_type": "execute_result"
    }
   ],
   "source": [
    "source_str.find('e',15)"
   ]
  },
  {
   "cell_type": "code",
   "execution_count": 19,
   "id": "54faf5a0",
   "metadata": {},
   "outputs": [
    {
     "data": {
      "text/plain": [
       "14"
      ]
     },
     "execution_count": 19,
     "metadata": {},
     "output_type": "execute_result"
    }
   ],
   "source": [
    "source_str.find('ing',5)"
   ]
  },
  {
   "cell_type": "code",
   "execution_count": 20,
   "id": "6be1d470",
   "metadata": {},
   "outputs": [
    {
     "data": {
      "text/plain": [
       "24"
      ]
     },
     "execution_count": 20,
     "metadata": {},
     "output_type": "execute_result"
    }
   ],
   "source": [
    "source_str.rfind('ing',5)"
   ]
  },
  {
   "cell_type": "code",
   "execution_count": 21,
   "id": "fa8ac1be",
   "metadata": {},
   "outputs": [
    {
     "data": {
      "text/plain": [
       "24"
      ]
     },
     "execution_count": 21,
     "metadata": {},
     "output_type": "execute_result"
    }
   ],
   "source": [
    "source_str.find('ing',18,28)"
   ]
  },
  {
   "cell_type": "code",
   "execution_count": 22,
   "id": "05145f22",
   "metadata": {},
   "outputs": [
    {
     "data": {
      "text/plain": [
       "-1"
      ]
     },
     "execution_count": 22,
     "metadata": {},
     "output_type": "execute_result"
    }
   ],
   "source": [
    "source_str.find('ingg',5)"
   ]
  },
  {
   "cell_type": "markdown",
   "id": "be2a8595",
   "metadata": {},
   "source": [
    "#### 字符串与数字相互转换"
   ]
  },
  {
   "cell_type": "code",
   "execution_count": 23,
   "id": "3068d290",
   "metadata": {},
   "outputs": [
    {
     "data": {
      "text/plain": [
       "9"
      ]
     },
     "execution_count": 23,
     "metadata": {},
     "output_type": "execute_result"
    }
   ],
   "source": [
    "int('9')"
   ]
  },
  {
   "cell_type": "code",
   "execution_count": 24,
   "id": "b9ba0a79",
   "metadata": {},
   "outputs": [
    {
     "ename": "ValueError",
     "evalue": "invalid literal for int() with base 10: '9.6'",
     "output_type": "error",
     "traceback": [
      "\u001b[1;31m---------------------------------------------------------------------------\u001b[0m",
      "\u001b[1;31mValueError\u001b[0m                                Traceback (most recent call last)",
      "Input \u001b[1;32mIn [24]\u001b[0m, in \u001b[0;36m<cell line: 1>\u001b[1;34m()\u001b[0m\n\u001b[1;32m----> 1\u001b[0m \u001b[38;5;28;43mint\u001b[39;49m\u001b[43m(\u001b[49m\u001b[38;5;124;43m'\u001b[39;49m\u001b[38;5;124;43m9.6\u001b[39;49m\u001b[38;5;124;43m'\u001b[39;49m\u001b[43m)\u001b[49m\n",
      "\u001b[1;31mValueError\u001b[0m: invalid literal for int() with base 10: '9.6'"
     ]
    }
   ],
   "source": [
    "int('9.6')"
   ]
  },
  {
   "cell_type": "code",
   "execution_count": 25,
   "id": "c98210a7",
   "metadata": {},
   "outputs": [
    {
     "data": {
      "text/plain": [
       "9.6"
      ]
     },
     "execution_count": 25,
     "metadata": {},
     "output_type": "execute_result"
    }
   ],
   "source": [
    "float('9.6')"
   ]
  },
  {
   "cell_type": "code",
   "execution_count": 26,
   "id": "2072fdcd",
   "metadata": {},
   "outputs": [
    {
     "ename": "ValueError",
     "evalue": "invalid literal for int() with base 10: 'AB'",
     "output_type": "error",
     "traceback": [
      "\u001b[1;31m---------------------------------------------------------------------------\u001b[0m",
      "\u001b[1;31mValueError\u001b[0m                                Traceback (most recent call last)",
      "Input \u001b[1;32mIn [26]\u001b[0m, in \u001b[0;36m<cell line: 1>\u001b[1;34m()\u001b[0m\n\u001b[1;32m----> 1\u001b[0m \u001b[38;5;28;43mint\u001b[39;49m\u001b[43m(\u001b[49m\u001b[38;5;124;43m'\u001b[39;49m\u001b[38;5;124;43mAB\u001b[39;49m\u001b[38;5;124;43m'\u001b[39;49m\u001b[43m)\u001b[49m\n",
      "\u001b[1;31mValueError\u001b[0m: invalid literal for int() with base 10: 'AB'"
     ]
    }
   ],
   "source": [
    "int('AB')"
   ]
  },
  {
   "cell_type": "code",
   "execution_count": 27,
   "id": "98231aa6",
   "metadata": {},
   "outputs": [
    {
     "data": {
      "text/plain": [
       "'3.24'"
      ]
     },
     "execution_count": 27,
     "metadata": {},
     "output_type": "execute_result"
    }
   ],
   "source": [
    "str(3.24)"
   ]
  },
  {
   "cell_type": "code",
   "execution_count": 28,
   "id": "b19e9af5",
   "metadata": {},
   "outputs": [
    {
     "data": {
      "text/plain": [
       "'True'"
      ]
     },
     "execution_count": 28,
     "metadata": {},
     "output_type": "execute_result"
    }
   ],
   "source": [
    "str(True)"
   ]
  },
  {
   "cell_type": "code",
   "execution_count": 29,
   "id": "dd69934f",
   "metadata": {},
   "outputs": [
    {
     "data": {
      "text/plain": [
       "'[]'"
      ]
     },
     "execution_count": 29,
     "metadata": {},
     "output_type": "execute_result"
    }
   ],
   "source": [
    "str([])"
   ]
  },
  {
   "cell_type": "code",
   "execution_count": 30,
   "id": "ed47b3ad",
   "metadata": {},
   "outputs": [
    {
     "data": {
      "text/plain": [
       "'[1, 2, 3]'"
      ]
     },
     "execution_count": 30,
     "metadata": {},
     "output_type": "execute_result"
    }
   ],
   "source": [
    "str([1,2,3])"
   ]
  },
  {
   "cell_type": "code",
   "execution_count": 31,
   "id": "c153d0ed",
   "metadata": {},
   "outputs": [
    {
     "data": {
      "text/plain": [
       "'34'"
      ]
     },
     "execution_count": 31,
     "metadata": {},
     "output_type": "execute_result"
    }
   ],
   "source": [
    "str(34)"
   ]
  },
  {
   "cell_type": "code",
   "execution_count": 32,
   "id": "395ecb20",
   "metadata": {},
   "outputs": [
    {
     "data": {
      "text/plain": [
       "'3.240000'"
      ]
     },
     "execution_count": 32,
     "metadata": {},
     "output_type": "execute_result"
    }
   ],
   "source": [
    "'{0:2f}'.format(3.24)"
   ]
  },
  {
   "cell_type": "code",
   "execution_count": 33,
   "id": "75fc7b9c",
   "metadata": {},
   "outputs": [
    {
     "data": {
      "text/plain": [
       "'3.2'"
      ]
     },
     "execution_count": 33,
     "metadata": {},
     "output_type": "execute_result"
    }
   ],
   "source": [
    "'{:.1f}'.format(3.24)"
   ]
  },
  {
   "cell_type": "code",
   "execution_count": 34,
   "id": "536434f9",
   "metadata": {},
   "outputs": [
    {
     "data": {
      "text/plain": [
       "'       3.2'"
      ]
     },
     "execution_count": 34,
     "metadata": {},
     "output_type": "execute_result"
    }
   ],
   "source": [
    "'{:10.1f}'.format(3.24)"
   ]
  },
  {
   "cell_type": "markdown",
   "id": "8419f502",
   "metadata": {},
   "source": [
    "# 运算符\n",
    "## 算数运算符\n",
    "### 一元运算符"
   ]
  },
  {
   "cell_type": "code",
   "execution_count": 35,
   "id": "d20c244f",
   "metadata": {},
   "outputs": [
    {
     "data": {
      "text/plain": [
       "-12"
      ]
     },
     "execution_count": 35,
     "metadata": {},
     "output_type": "execute_result"
    }
   ],
   "source": [
    "a=12\n",
    "-a"
   ]
  },
  {
   "cell_type": "markdown",
   "id": "6c334325",
   "metadata": {},
   "source": [
    "### 二元运算符"
   ]
  },
  {
   "cell_type": "code",
   "execution_count": 36,
   "id": "b415a403",
   "metadata": {},
   "outputs": [
    {
     "data": {
      "text/plain": [
       "3"
      ]
     },
     "execution_count": 36,
     "metadata": {},
     "output_type": "execute_result"
    }
   ],
   "source": [
    "1+2"
   ]
  },
  {
   "cell_type": "code",
   "execution_count": 37,
   "id": "99e274d6",
   "metadata": {},
   "outputs": [
    {
     "data": {
      "text/plain": [
       "1"
      ]
     },
     "execution_count": 37,
     "metadata": {},
     "output_type": "execute_result"
    }
   ],
   "source": [
    "2-1"
   ]
  },
  {
   "cell_type": "code",
   "execution_count": 38,
   "id": "1c19de61",
   "metadata": {},
   "outputs": [
    {
     "data": {
      "text/plain": [
       "6"
      ]
     },
     "execution_count": 38,
     "metadata": {},
     "output_type": "execute_result"
    }
   ],
   "source": [
    "2*3"
   ]
  },
  {
   "cell_type": "code",
   "execution_count": 39,
   "id": "683b27fc",
   "metadata": {},
   "outputs": [
    {
     "data": {
      "text/plain": [
       "1.5"
      ]
     },
     "execution_count": 39,
     "metadata": {},
     "output_type": "execute_result"
    }
   ],
   "source": [
    "3/2"
   ]
  },
  {
   "cell_type": "code",
   "execution_count": 40,
   "id": "8a69547c",
   "metadata": {},
   "outputs": [
    {
     "data": {
      "text/plain": [
       "1"
      ]
     },
     "execution_count": 40,
     "metadata": {},
     "output_type": "execute_result"
    }
   ],
   "source": [
    "3%2"
   ]
  },
  {
   "cell_type": "code",
   "execution_count": 41,
   "id": "5c4c2c13",
   "metadata": {},
   "outputs": [
    {
     "data": {
      "text/plain": [
       "1"
      ]
     },
     "execution_count": 41,
     "metadata": {},
     "output_type": "execute_result"
    }
   ],
   "source": [
    "3//2"
   ]
  },
  {
   "cell_type": "code",
   "execution_count": 42,
   "id": "4994a6c9",
   "metadata": {},
   "outputs": [
    {
     "data": {
      "text/plain": [
       "-2"
      ]
     },
     "execution_count": 42,
     "metadata": {},
     "output_type": "execute_result"
    }
   ],
   "source": [
    "-3//2"
   ]
  },
  {
   "cell_type": "code",
   "execution_count": 43,
   "id": "90b4b944",
   "metadata": {},
   "outputs": [
    {
     "data": {
      "text/plain": [
       "100"
      ]
     },
     "execution_count": 43,
     "metadata": {},
     "output_type": "execute_result"
    }
   ],
   "source": [
    "10**2"
   ]
  },
  {
   "cell_type": "code",
   "execution_count": 44,
   "id": "f4132d56",
   "metadata": {},
   "outputs": [
    {
     "data": {
      "text/plain": [
       "20.22"
      ]
     },
     "execution_count": 44,
     "metadata": {},
     "output_type": "execute_result"
    }
   ],
   "source": [
    "10.22+10"
   ]
  },
  {
   "cell_type": "code",
   "execution_count": 45,
   "id": "89240033",
   "metadata": {},
   "outputs": [
    {
     "data": {
      "text/plain": [
       "13.0"
      ]
     },
     "execution_count": 45,
     "metadata": {},
     "output_type": "execute_result"
    }
   ],
   "source": [
    "10.0+True+2"
   ]
  },
  {
   "cell_type": "code",
   "execution_count": 46,
   "id": "742ee98a",
   "metadata": {},
   "outputs": [
    {
     "data": {
      "text/plain": [
       "'helloworld'"
      ]
     },
     "execution_count": 46,
     "metadata": {},
     "output_type": "execute_result"
    }
   ],
   "source": [
    "'hello'+'world'"
   ]
  },
  {
   "cell_type": "code",
   "execution_count": 47,
   "id": "7f15eba9",
   "metadata": {},
   "outputs": [
    {
     "ename": "TypeError",
     "evalue": "can only concatenate str (not \"int\") to str",
     "output_type": "error",
     "traceback": [
      "\u001b[1;31m---------------------------------------------------------------------------\u001b[0m",
      "\u001b[1;31mTypeError\u001b[0m                                 Traceback (most recent call last)",
      "Input \u001b[1;32mIn [47]\u001b[0m, in \u001b[0;36m<cell line: 1>\u001b[1;34m()\u001b[0m\n\u001b[1;32m----> 1\u001b[0m \u001b[38;5;124;43m'\u001b[39;49m\u001b[38;5;124;43mhello\u001b[39;49m\u001b[38;5;124;43m'\u001b[39;49m\u001b[38;5;241;43m+\u001b[39;49m\u001b[38;5;241;43m2\u001b[39;49m\n",
      "\u001b[1;31mTypeError\u001b[0m: can only concatenate str (not \"int\") to str"
     ]
    }
   ],
   "source": [
    "'hello'+2"
   ]
  },
  {
   "cell_type": "code",
   "execution_count": 49,
   "id": "f9acfd50",
   "metadata": {},
   "outputs": [
    {
     "data": {
      "text/plain": [
       "'hellohello'"
      ]
     },
     "execution_count": 49,
     "metadata": {},
     "output_type": "execute_result"
    }
   ],
   "source": [
    "'hello'*2"
   ]
  },
  {
   "cell_type": "markdown",
   "id": "86a8c458",
   "metadata": {},
   "source": [
    "## 关系运算符"
   ]
  },
  {
   "cell_type": "code",
   "execution_count": 50,
   "id": "5670efbc",
   "metadata": {},
   "outputs": [
    {
     "data": {
      "text/plain": [
       "False"
      ]
     },
     "execution_count": 50,
     "metadata": {},
     "output_type": "execute_result"
    }
   ],
   "source": [
    "a=1\n",
    "b=2\n",
    "a>b"
   ]
  },
  {
   "cell_type": "code",
   "execution_count": 51,
   "id": "60e411ae",
   "metadata": {},
   "outputs": [
    {
     "data": {
      "text/plain": [
       "True"
      ]
     },
     "execution_count": 51,
     "metadata": {},
     "output_type": "execute_result"
    }
   ],
   "source": [
    "a<b"
   ]
  },
  {
   "cell_type": "code",
   "execution_count": 52,
   "id": "14cd8765",
   "metadata": {},
   "outputs": [
    {
     "data": {
      "text/plain": [
       "False"
      ]
     },
     "execution_count": 52,
     "metadata": {},
     "output_type": "execute_result"
    }
   ],
   "source": [
    "a>=b"
   ]
  },
  {
   "cell_type": "code",
   "execution_count": 53,
   "id": "c0c337f2",
   "metadata": {},
   "outputs": [
    {
     "data": {
      "text/plain": [
       "True"
      ]
     },
     "execution_count": 53,
     "metadata": {},
     "output_type": "execute_result"
    }
   ],
   "source": [
    "a<=b"
   ]
  },
  {
   "cell_type": "code",
   "execution_count": 54,
   "id": "b5761ca5",
   "metadata": {},
   "outputs": [
    {
     "data": {
      "text/plain": [
       "False"
      ]
     },
     "execution_count": 54,
     "metadata": {},
     "output_type": "execute_result"
    }
   ],
   "source": [
    "1.0!=1"
   ]
  },
  {
   "cell_type": "code",
   "execution_count": 55,
   "id": "5c08ccf1",
   "metadata": {},
   "outputs": [
    {
     "data": {
      "text/plain": [
       "True"
      ]
     },
     "execution_count": 55,
     "metadata": {},
     "output_type": "execute_result"
    }
   ],
   "source": [
    "a='hello'\n",
    "b='hello'\n",
    "a==b"
   ]
  },
  {
   "cell_type": "code",
   "execution_count": 56,
   "id": "6b9ca2fa",
   "metadata": {},
   "outputs": [
    {
     "data": {
      "text/plain": [
       "False"
      ]
     },
     "execution_count": 56,
     "metadata": {},
     "output_type": "execute_result"
    }
   ],
   "source": [
    "a='World'\n",
    "a>b"
   ]
  },
  {
   "cell_type": "code",
   "execution_count": 57,
   "id": "472a3aa9",
   "metadata": {},
   "outputs": [
    {
     "data": {
      "text/plain": [
       "True"
      ]
     },
     "execution_count": 57,
     "metadata": {},
     "output_type": "execute_result"
    }
   ],
   "source": [
    "a<b"
   ]
  },
  {
   "cell_type": "code",
   "execution_count": 58,
   "id": "70df4e5e",
   "metadata": {},
   "outputs": [
    {
     "data": {
      "text/plain": [
       "False"
      ]
     },
     "execution_count": 58,
     "metadata": {},
     "output_type": "execute_result"
    }
   ],
   "source": [
    "a=[]\n",
    "b=[1,2]\n",
    "a==b"
   ]
  },
  {
   "cell_type": "code",
   "execution_count": 59,
   "id": "8613509d",
   "metadata": {},
   "outputs": [
    {
     "data": {
      "text/plain": [
       "True"
      ]
     },
     "execution_count": 59,
     "metadata": {},
     "output_type": "execute_result"
    }
   ],
   "source": [
    "a<b"
   ]
  },
  {
   "cell_type": "code",
   "execution_count": 60,
   "id": "4d64db77",
   "metadata": {},
   "outputs": [
    {
     "data": {
      "text/plain": [
       "True"
      ]
     },
     "execution_count": 60,
     "metadata": {},
     "output_type": "execute_result"
    }
   ],
   "source": [
    "a=[1,2]\n",
    "a==b"
   ]
  },
  {
   "cell_type": "markdown",
   "id": "296a9252",
   "metadata": {},
   "source": [
    "## 逻辑运算符"
   ]
  },
  {
   "cell_type": "code",
   "execution_count": 61,
   "id": "345a4a16",
   "metadata": {},
   "outputs": [
    {
     "name": "stdout",
     "output_type": "stream",
     "text": [
      "或运算为真\n",
      "与运算为假\n",
      "True\n"
     ]
    }
   ],
   "source": [
    "i=0\n",
    "a=10\n",
    "b=9\n",
    "\n",
    "if a>b or i==1:\n",
    "    print(\"或运算为真\")\n",
    "else:\n",
    "    print(\"或运算为假\")\n",
    "    \n",
    "if a<b and i==1:\n",
    "    print(\"与运算为真\")\n",
    "else:\n",
    "    print(\"与运算为假\")\n",
    "    \n",
    "\n",
    "def f1():\n",
    "    return a>b\n",
    "\n",
    "def f2():\n",
    "    print('--f2--')\n",
    "    return a==b\n",
    "\n",
    "print(f1() or f2())"
   ]
  },
  {
   "cell_type": "markdown",
   "id": "bfc8726e",
   "metadata": {},
   "source": [
    "## 位运算符"
   ]
  },
  {
   "cell_type": "code",
   "execution_count": 62,
   "id": "24cf7f3a",
   "metadata": {},
   "outputs": [
    {
     "name": "stdout",
     "output_type": "stream",
     "text": [
      "a|b=254\n",
      "a&b=18\n",
      "a^b=236\n",
      "~a=-179\n",
      "a>>2=44\n",
      "a<<2=712\n",
      "c>>2=-3\n",
      "c<<2=-48\n"
     ]
    }
   ],
   "source": [
    "a=0b10110010\n",
    "b=0b01011110\n",
    "print(\"a|b={0}\".format(a|b))\n",
    "print(\"a&b={0}\".format(a&b))\n",
    "print(\"a^b={0}\".format(a^b))\n",
    "print(\"~a={0}\".format(~a))\n",
    "print(\"a>>2={0}\".format(a>>2))\n",
    "print(\"a<<2={0}\".format(a<<2))\n",
    "c=-0b1100\n",
    "print(\"c>>2={0}\".format(c>>2))\n",
    "print(\"c<<2={0}\".format(c<<2))"
   ]
  },
  {
   "cell_type": "markdown",
   "id": "c6f03abe",
   "metadata": {},
   "source": [
    "## 赋值运算符"
   ]
  },
  {
   "cell_type": "code",
   "execution_count": 64,
   "id": "1dc19473",
   "metadata": {},
   "outputs": [
    {
     "name": "stdout",
     "output_type": "stream",
     "text": [
      "3\n",
      "8\n",
      "6\n",
      "12\n",
      "6.0\n",
      "0.0\n",
      "254\n",
      "160\n"
     ]
    }
   ],
   "source": [
    "a=1\n",
    "b=2\n",
    "\n",
    "a+=b\n",
    "print(a)\n",
    "\n",
    "a+=b+3\n",
    "print(a)\n",
    "\n",
    "a-=b\n",
    "print(a)\n",
    "\n",
    "a*=b\n",
    "print(a)\n",
    "\n",
    "a/=b\n",
    "print(a)\n",
    "\n",
    "a%=b\n",
    "print(a)\n",
    "\n",
    "a=0b10110010\n",
    "b=0b01011110\n",
    "\n",
    "a|=b\n",
    "print(a)\n",
    "\n",
    "a^=b\n",
    "print(a)"
   ]
  },
  {
   "cell_type": "markdown",
   "id": "b2c65b56",
   "metadata": {},
   "source": [
    "## 其他运算符\n",
    "### 同一性测试运算符\n",
    "### 成员测试运算符"
   ]
  },
  {
   "cell_type": "code",
   "execution_count": 65,
   "id": "5e576ca3",
   "metadata": {},
   "outputs": [
    {
     "name": "stdout",
     "output_type": "stream",
     "text": [
      "False\n",
      "False\n",
      "True\n",
      "True\n"
     ]
    }
   ],
   "source": [
    "class Person:\n",
    "    def __init__(self,name,age):\n",
    "        self.name=name\n",
    "        self.age=age\n",
    "        \n",
    "p1=Person('Tony',18)\n",
    "p2=Person('Tony',18)\n",
    "\n",
    "print(p1==p2)\n",
    "print(p1 is p2)\n",
    "\n",
    "print(p1!=p2)\n",
    "print(p1 is not p2)"
   ]
  },
  {
   "cell_type": "code",
   "execution_count": 66,
   "id": "9081036e",
   "metadata": {},
   "outputs": [
    {
     "name": "stdout",
     "output_type": "stream",
     "text": [
      "True\n",
      "False\n",
      "False\n",
      "True\n"
     ]
    }
   ],
   "source": [
    "class Person:\n",
    "    def __init__(self,name,age):\n",
    "        self.name=name\n",
    "        self.age=age\n",
    "    \n",
    "    def __eq__(self,other):\n",
    "        if self.name==other.name and self.age==other.age:\n",
    "            return True\n",
    "        else:\n",
    "            return False\n",
    "  \n",
    "        \n",
    "p1=Person('Tony',18)\n",
    "p2=Person('Tony',18)\n",
    "\n",
    "print(p1==p2)\n",
    "print(p1 is p2)\n",
    "\n",
    "print(p1!=p2)\n",
    "print(p1 is not p2)\n",
    "    "
   ]
  },
  {
   "cell_type": "code",
   "execution_count": 67,
   "id": "881734c8",
   "metadata": {},
   "outputs": [
    {
     "name": "stdout",
     "output_type": "stream",
     "text": [
      "True\n",
      "False\n",
      "True\n",
      "False\n"
     ]
    }
   ],
   "source": [
    "string_a='hello'\n",
    "print('e' in string_a)\n",
    "print('ell' not in string_a)\n",
    "\n",
    "list_a=[1,2]\n",
    "print(2 in list_a)\n",
    "print(1 not in list_a)"
   ]
  },
  {
   "cell_type": "markdown",
   "id": "3c2fb40b",
   "metadata": {},
   "source": [
    "# 控制语句\n",
    "## 分支语句\n",
    "### if结构"
   ]
  },
  {
   "cell_type": "code",
   "execution_count": 1,
   "id": "07c5332e",
   "metadata": {},
   "outputs": [
    {
     "name": "stdout",
     "output_type": "stream",
     "text": [
      "hard\n"
     ]
    }
   ],
   "source": [
    "score=5\n",
    "\n",
    "if score>=85:\n",
    "    print('perfect')\n",
    "if score<60:\n",
    "    print('hard')\n",
    "if score>=60 and score<85:\n",
    "    print('justsoso')"
   ]
  },
  {
   "cell_type": "markdown",
   "id": "d53752c8",
   "metadata": {},
   "source": [
    "### if-else结构"
   ]
  },
  {
   "cell_type": "code",
   "execution_count": 3,
   "id": "253fb281",
   "metadata": {},
   "outputs": [
    {
     "name": "stdout",
     "output_type": "stream",
     "text": [
      "justsoso\n"
     ]
    }
   ],
   "source": [
    "score=75\n",
    "\n",
    "if score>=60:\n",
    "    print('justsoso')\n",
    "    if score>=90:\n",
    "        print('perfect')\n",
    "else:\n",
    "    print(\"不及格\")"
   ]
  },
  {
   "cell_type": "markdown",
   "id": "18b6791a",
   "metadata": {},
   "source": [
    "### elif结构"
   ]
  },
  {
   "cell_type": "code",
   "execution_count": 4,
   "id": "0875032c",
   "metadata": {},
   "outputs": [
    {
     "name": "stdout",
     "output_type": "stream",
     "text": [
      "B\n"
     ]
    }
   ],
   "source": [
    "score=80\n",
    "\n",
    "if score>=90:\n",
    "    grade='A'\n",
    "elif score>=80:\n",
    "    grade='B'\n",
    "elif score>=70:\n",
    "    grade='C'\n",
    "elif score>=60:\n",
    "    grade='D'\n",
    "else:\n",
    "    grade='F'\n",
    "    \n",
    "print(grade)"
   ]
  },
  {
   "cell_type": "markdown",
   "id": "afc17102",
   "metadata": {},
   "source": [
    "### 条件表达式"
   ]
  },
  {
   "cell_type": "code",
   "execution_count": 6,
   "id": "fa1dcf1c",
   "metadata": {},
   "outputs": [
    {
     "name": "stdout",
     "output_type": "stream",
     "text": [
      "justsoso\n"
     ]
    }
   ],
   "source": [
    "score=85\n",
    "result='justsoso' if score>=60 else 'hard'\n",
    "print(result)"
   ]
  },
  {
   "cell_type": "markdown",
   "id": "6fc4cd1c",
   "metadata": {},
   "source": [
    "## 循环语句\n",
    "### while语句"
   ]
  },
  {
   "cell_type": "code",
   "execution_count": 7,
   "id": "735c7582",
   "metadata": {},
   "outputs": [
    {
     "name": "stdout",
     "output_type": "stream",
     "text": [
      "317\n",
      "100489\n"
     ]
    }
   ],
   "source": [
    "i=0\n",
    "\n",
    "while i*i<100_000:\n",
    "    i+=1\n",
    "\n",
    "print(i)\n",
    "print(i*i)"
   ]
  },
  {
   "cell_type": "markdown",
   "id": "8e0b72f6",
   "metadata": {},
   "source": [
    "### for语句"
   ]
  },
  {
   "cell_type": "code",
   "execution_count": 8,
   "id": "7faf34cf",
   "metadata": {},
   "outputs": [
    {
     "name": "stdout",
     "output_type": "stream",
     "text": [
      "----范围----\n",
      "1*1=1\n",
      "2*2=4\n",
      "3*3=9\n",
      "4*4=16\n",
      "5*5=25\n",
      "6*6=36\n",
      "7*7=49\n",
      "8*8=64\n",
      "9*9=81\n",
      "----字符串----\n",
      "h\n",
      "e\n",
      "l\n",
      "l\n",
      "o\n",
      "----整数列表----\n",
      "43\n",
      "32\n",
      "53\n",
      "54\n",
      "75\n",
      "7\n",
      "10\n"
     ]
    }
   ],
   "source": [
    "print('----范围----')\n",
    "for num in range(1,10):\n",
    "    print(\"{0}*{0}={1}\".format(num,num*num))\n",
    "\n",
    "print('----字符串----')\n",
    "for item in \"hello\":\n",
    "    print(item)\n",
    "    \n",
    "print('----整数列表----')\n",
    "numbers=[43,32,53,54,75,7,10]\n",
    "for item in numbers:\n",
    "    print(item)"
   ]
  },
  {
   "cell_type": "markdown",
   "id": "561f8b54",
   "metadata": {},
   "source": [
    "## 跳转语句\n",
    "### break语句"
   ]
  },
  {
   "cell_type": "code",
   "execution_count": 9,
   "id": "edcc5f61",
   "metadata": {},
   "outputs": [
    {
     "name": "stdout",
     "output_type": "stream",
     "text": [
      "0\n",
      "1\n",
      "2\n"
     ]
    }
   ],
   "source": [
    "for item in range(10):\n",
    "    if item==3:\n",
    "        break\n",
    "    print(item)"
   ]
  },
  {
   "cell_type": "markdown",
   "id": "76a13e5e",
   "metadata": {},
   "source": [
    "### continue语句"
   ]
  },
  {
   "cell_type": "code",
   "execution_count": 10,
   "id": "e617bdf1",
   "metadata": {},
   "outputs": [
    {
     "name": "stdout",
     "output_type": "stream",
     "text": [
      "0\n",
      "1\n",
      "2\n",
      "4\n",
      "5\n",
      "6\n",
      "7\n",
      "8\n",
      "9\n"
     ]
    }
   ],
   "source": [
    "for item in range(10):\n",
    "    if item==3:\n",
    "        continue\n",
    "    print(item)"
   ]
  },
  {
   "cell_type": "markdown",
   "id": "1dbaff3b",
   "metadata": {},
   "source": [
    "### while和for中的else语句"
   ]
  },
  {
   "cell_type": "code",
   "execution_count": 11,
   "id": "297c8aa7",
   "metadata": {},
   "outputs": [
    {
     "name": "stdout",
     "output_type": "stream",
     "text": [
      "9*9=81\n",
      "9*9=81\n",
      "9*9=81\n",
      "9*9=81\n",
      "whileover\n",
      "----------\n",
      "0\n",
      "1\n",
      "2\n"
     ]
    }
   ],
   "source": [
    "i=0\n",
    "\n",
    "while i*i<10:\n",
    "    i+=1\n",
    "    print(\"{0}*{0}={1}\".format(num,num*num))\n",
    "else:\n",
    "    print(\"whileover\")\n",
    "    \n",
    "print('----------')\n",
    "\n",
    "for item in range(10):\n",
    "    if item==3:\n",
    "        break\n",
    "    print(item)\n",
    "else:\n",
    "    print('forover')"
   ]
  },
  {
   "cell_type": "markdown",
   "id": "9440b5dd",
   "metadata": {},
   "source": [
    "## 使用范围\n",
    "range()函数语法：\n",
    "$$\n",
    "range([start,]stop[,step])\n",
    "$$"
   ]
  },
  {
   "cell_type": "code",
   "execution_count": 12,
   "id": "a0217a7e",
   "metadata": {},
   "outputs": [
    {
     "name": "stdout",
     "output_type": "stream",
     "text": [
      "1\n",
      "3\n",
      "5\n",
      "7\n",
      "9\n",
      "------------\n",
      "1\n",
      "-2\n",
      "-5\n",
      "-8\n"
     ]
    }
   ],
   "source": [
    "for item in range(1,10,2):\n",
    "    print(item)\n",
    "print('------------')\n",
    "\n",
    "for item in range(1,-10,-3):\n",
    "    print(item)"
   ]
  },
  {
   "cell_type": "code",
   "execution_count": null,
   "id": "3dc0c566",
   "metadata": {},
   "outputs": [],
   "source": []
  }
 ],
 "metadata": {
  "kernelspec": {
   "display_name": "Python 3 (ipykernel)",
   "language": "python",
   "name": "python3"
  },
  "language_info": {
   "codemirror_mode": {
    "name": "ipython",
    "version": 3
   },
   "file_extension": ".py",
   "mimetype": "text/x-python",
   "name": "python",
   "nbconvert_exporter": "python",
   "pygments_lexer": "ipython3",
   "version": "3.9.12"
  }
 },
 "nbformat": 4,
 "nbformat_minor": 5
}
