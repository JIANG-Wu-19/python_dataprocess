{
 "cells": [
  {
   "cell_type": "markdown",
   "id": "76ada94a",
   "metadata": {},
   "source": [
    "# 数据结构\n",
    "## 元组\n",
    "### 序列\n",
    "#### 索引操作"
   ]
  },
  {
   "cell_type": "code",
   "execution_count": 1,
   "id": "8c34d358",
   "metadata": {},
   "outputs": [],
   "source": [
    "a='hello'"
   ]
  },
  {
   "cell_type": "code",
   "execution_count": 2,
   "id": "06baaf2b",
   "metadata": {},
   "outputs": [
    {
     "data": {
      "text/plain": [
       "'h'"
      ]
     },
     "execution_count": 2,
     "metadata": {},
     "output_type": "execute_result"
    }
   ],
   "source": [
    "a[0]"
   ]
  },
  {
   "cell_type": "code",
   "execution_count": 3,
   "id": "7c85f25a",
   "metadata": {},
   "outputs": [
    {
     "data": {
      "text/plain": [
       "'e'"
      ]
     },
     "execution_count": 3,
     "metadata": {},
     "output_type": "execute_result"
    }
   ],
   "source": [
    "a[1]"
   ]
  },
  {
   "cell_type": "code",
   "execution_count": 4,
   "id": "9f8bb245",
   "metadata": {},
   "outputs": [
    {
     "data": {
      "text/plain": [
       "'l'"
      ]
     },
     "execution_count": 4,
     "metadata": {},
     "output_type": "execute_result"
    }
   ],
   "source": [
    "a[2]"
   ]
  },
  {
   "cell_type": "code",
   "execution_count": 5,
   "id": "d3d3409f",
   "metadata": {},
   "outputs": [
    {
     "data": {
      "text/plain": [
       "'l'"
      ]
     },
     "execution_count": 5,
     "metadata": {},
     "output_type": "execute_result"
    }
   ],
   "source": [
    "a[3]"
   ]
  },
  {
   "cell_type": "code",
   "execution_count": 6,
   "id": "dedb4136",
   "metadata": {},
   "outputs": [
    {
     "data": {
      "text/plain": [
       "'o'"
      ]
     },
     "execution_count": 6,
     "metadata": {},
     "output_type": "execute_result"
    }
   ],
   "source": [
    "a[4]"
   ]
  },
  {
   "cell_type": "code",
   "execution_count": 7,
   "id": "4d4b6c73",
   "metadata": {},
   "outputs": [
    {
     "ename": "IndexError",
     "evalue": "string index out of range",
     "output_type": "error",
     "traceback": [
      "\u001b[1;31m---------------------------------------------------------------------------\u001b[0m",
      "\u001b[1;31mIndexError\u001b[0m                                Traceback (most recent call last)",
      "Input \u001b[1;32mIn [7]\u001b[0m, in \u001b[0;36m<cell line: 1>\u001b[1;34m()\u001b[0m\n\u001b[1;32m----> 1\u001b[0m \u001b[43ma\u001b[49m\u001b[43m[\u001b[49m\u001b[38;5;241;43m5\u001b[39;49m\u001b[43m]\u001b[49m\n",
      "\u001b[1;31mIndexError\u001b[0m: string index out of range"
     ]
    }
   ],
   "source": [
    "a[5]"
   ]
  },
  {
   "cell_type": "code",
   "execution_count": 8,
   "id": "9e57c0fe",
   "metadata": {},
   "outputs": [
    {
     "data": {
      "text/plain": [
       "'o'"
      ]
     },
     "execution_count": 8,
     "metadata": {},
     "output_type": "execute_result"
    }
   ],
   "source": [
    "max(a)"
   ]
  },
  {
   "cell_type": "code",
   "execution_count": 9,
   "id": "e898f57f",
   "metadata": {},
   "outputs": [
    {
     "data": {
      "text/plain": [
       "'e'"
      ]
     },
     "execution_count": 9,
     "metadata": {},
     "output_type": "execute_result"
    }
   ],
   "source": [
    "min(a)"
   ]
  },
  {
   "cell_type": "code",
   "execution_count": 10,
   "id": "98b2e59c",
   "metadata": {},
   "outputs": [
    {
     "data": {
      "text/plain": [
       "5"
      ]
     },
     "execution_count": 10,
     "metadata": {},
     "output_type": "execute_result"
    }
   ],
   "source": [
    "len(a)"
   ]
  },
  {
   "cell_type": "markdown",
   "id": "acd0cc64",
   "metadata": {},
   "source": [
    "#### 序列的+和*"
   ]
  },
  {
   "cell_type": "code",
   "execution_count": 11,
   "id": "cafebeb0",
   "metadata": {},
   "outputs": [
    {
     "data": {
      "text/plain": [
       "'hellohellohello'"
      ]
     },
     "execution_count": 11,
     "metadata": {},
     "output_type": "execute_result"
    }
   ],
   "source": [
    "a*3"
   ]
  },
  {
   "cell_type": "code",
   "execution_count": 12,
   "id": "a757d69f",
   "metadata": {},
   "outputs": [
    {
     "name": "stdout",
     "output_type": "stream",
     "text": [
      "hello\n"
     ]
    }
   ],
   "source": [
    "print(a)"
   ]
  },
  {
   "cell_type": "code",
   "execution_count": 13,
   "id": "1a1a9c8d",
   "metadata": {},
   "outputs": [],
   "source": [
    "a+=' '"
   ]
  },
  {
   "cell_type": "code",
   "execution_count": 14,
   "id": "46bbf8c6",
   "metadata": {},
   "outputs": [],
   "source": [
    "a+='world'"
   ]
  },
  {
   "cell_type": "code",
   "execution_count": 15,
   "id": "e7fca35c",
   "metadata": {},
   "outputs": [
    {
     "name": "stdout",
     "output_type": "stream",
     "text": [
      "hello world\n"
     ]
    }
   ],
   "source": [
    "print(a)"
   ]
  },
  {
   "cell_type": "markdown",
   "id": "24966aad",
   "metadata": {},
   "source": [
    "#### 序列分片\n",
    "* [start:end]：start是开始索引，end是结束索引\n",
    "* [start:end:step]：start是开始索引，end是结束索引，step是步长，可取正负整数\n",
    "实际切下分片为：[start,end)"
   ]
  },
  {
   "cell_type": "code",
   "execution_count": 17,
   "id": "b2bdea06",
   "metadata": {},
   "outputs": [
    {
     "data": {
      "text/plain": [
       "'el'"
      ]
     },
     "execution_count": 17,
     "metadata": {},
     "output_type": "execute_result"
    }
   ],
   "source": [
    "a[1:3]"
   ]
  },
  {
   "cell_type": "code",
   "execution_count": 18,
   "id": "65fc1854",
   "metadata": {},
   "outputs": [
    {
     "data": {
      "text/plain": [
       "'hel'"
      ]
     },
     "execution_count": 18,
     "metadata": {},
     "output_type": "execute_result"
    }
   ],
   "source": [
    "a[:3]"
   ]
  },
  {
   "cell_type": "code",
   "execution_count": 19,
   "id": "e2770991",
   "metadata": {},
   "outputs": [
    {
     "data": {
      "text/plain": [
       "'hel'"
      ]
     },
     "execution_count": 19,
     "metadata": {},
     "output_type": "execute_result"
    }
   ],
   "source": [
    "a[0:3]"
   ]
  },
  {
   "cell_type": "code",
   "execution_count": 20,
   "id": "d5fd3e15",
   "metadata": {},
   "outputs": [
    {
     "data": {
      "text/plain": [
       "'hello world'"
      ]
     },
     "execution_count": 20,
     "metadata": {},
     "output_type": "execute_result"
    }
   ],
   "source": [
    "a[0:]"
   ]
  },
  {
   "cell_type": "code",
   "execution_count": 21,
   "id": "3c3cd1ef",
   "metadata": {},
   "outputs": [
    {
     "data": {
      "text/plain": [
       "'hello'"
      ]
     },
     "execution_count": 21,
     "metadata": {},
     "output_type": "execute_result"
    }
   ],
   "source": [
    "a[0:5]"
   ]
  },
  {
   "cell_type": "code",
   "execution_count": 22,
   "id": "f2595eea",
   "metadata": {},
   "outputs": [
    {
     "data": {
      "text/plain": [
       "'hello world'"
      ]
     },
     "execution_count": 22,
     "metadata": {},
     "output_type": "execute_result"
    }
   ],
   "source": [
    "a[:]"
   ]
  },
  {
   "cell_type": "code",
   "execution_count": 23,
   "id": "332cb7a6",
   "metadata": {},
   "outputs": [
    {
     "data": {
      "text/plain": [
       "'ello worl'"
      ]
     },
     "execution_count": 23,
     "metadata": {},
     "output_type": "execute_result"
    }
   ],
   "source": [
    "a[1:-1]"
   ]
  },
  {
   "cell_type": "code",
   "execution_count": 24,
   "id": "0ee4ab1a",
   "metadata": {},
   "outputs": [
    {
     "data": {
      "text/plain": [
       "'ello'"
      ]
     },
     "execution_count": 24,
     "metadata": {},
     "output_type": "execute_result"
    }
   ],
   "source": [
    "a[1:5]"
   ]
  },
  {
   "cell_type": "code",
   "execution_count": 25,
   "id": "ef51e267",
   "metadata": {},
   "outputs": [
    {
     "data": {
      "text/plain": [
       "'el'"
      ]
     },
     "execution_count": 25,
     "metadata": {},
     "output_type": "execute_result"
    }
   ],
   "source": [
    "a[1:5:2]"
   ]
  },
  {
   "cell_type": "markdown",
   "id": "aca11263",
   "metadata": {},
   "source": [
    "### 创建元组"
   ]
  },
  {
   "cell_type": "code",
   "execution_count": 26,
   "id": "c45be055",
   "metadata": {},
   "outputs": [
    {
     "ename": "SyntaxError",
     "evalue": "invalid character '，' (U+FF0C) (4230995112.py, line 1)",
     "output_type": "error",
     "traceback": [
      "\u001b[1;36m  Input \u001b[1;32mIn [26]\u001b[1;36m\u001b[0m\n\u001b[1;33m    21，32，43，45\u001b[0m\n\u001b[1;37m      ^\u001b[0m\n\u001b[1;31mSyntaxError\u001b[0m\u001b[1;31m:\u001b[0m invalid character '，' (U+FF0C)\n"
     ]
    }
   ],
   "source": [
    "21，32，43，45"
   ]
  },
  {
   "cell_type": "code",
   "execution_count": 27,
   "id": "fa3478c1",
   "metadata": {},
   "outputs": [
    {
     "data": {
      "text/plain": [
       "(21, 32, 43, 45)"
      ]
     },
     "execution_count": 27,
     "metadata": {},
     "output_type": "execute_result"
    }
   ],
   "source": [
    "21,32,43,45"
   ]
  },
  {
   "cell_type": "code",
   "execution_count": 28,
   "id": "a847ff97",
   "metadata": {},
   "outputs": [
    {
     "data": {
      "text/plain": [
       "(21, 32, 43, 45)"
      ]
     },
     "execution_count": 28,
     "metadata": {},
     "output_type": "execute_result"
    }
   ],
   "source": [
    "(21,32,43,45)"
   ]
  },
  {
   "cell_type": "code",
   "execution_count": 29,
   "id": "d995d74a",
   "metadata": {},
   "outputs": [
    {
     "name": "stdout",
     "output_type": "stream",
     "text": [
      "hello world\n"
     ]
    }
   ],
   "source": [
    "print(a)"
   ]
  },
  {
   "cell_type": "code",
   "execution_count": 30,
   "id": "48cf1b65",
   "metadata": {},
   "outputs": [],
   "source": [
    "a=(21,32,43,45)"
   ]
  },
  {
   "cell_type": "code",
   "execution_count": 31,
   "id": "ad55b3b3",
   "metadata": {},
   "outputs": [
    {
     "name": "stdout",
     "output_type": "stream",
     "text": [
      "(21, 32, 43, 45)\n"
     ]
    }
   ],
   "source": [
    "print(a)"
   ]
  },
  {
   "cell_type": "code",
   "execution_count": 32,
   "id": "07c9a931",
   "metadata": {},
   "outputs": [
    {
     "data": {
      "text/plain": [
       "('hello', 'world')"
      ]
     },
     "execution_count": 32,
     "metadata": {},
     "output_type": "execute_result"
    }
   ],
   "source": [
    "('hello','world')"
   ]
  },
  {
   "cell_type": "code",
   "execution_count": 33,
   "id": "8fcaa788",
   "metadata": {},
   "outputs": [
    {
     "data": {
      "text/plain": [
       "('hello', 'world', 1, 2, 3)"
      ]
     },
     "execution_count": 33,
     "metadata": {},
     "output_type": "execute_result"
    }
   ],
   "source": [
    "('hello','world',1,2,3)"
   ]
  },
  {
   "cell_type": "code",
   "execution_count": 34,
   "id": "725c0bd0",
   "metadata": {},
   "outputs": [
    {
     "data": {
      "text/plain": [
       "(21, 32, 43, 45)"
      ]
     },
     "execution_count": 34,
     "metadata": {},
     "output_type": "execute_result"
    }
   ],
   "source": [
    "tuple([21,32,43,45])"
   ]
  },
  {
   "cell_type": "code",
   "execution_count": 35,
   "id": "dc114ded",
   "metadata": {},
   "outputs": [],
   "source": [
    "a=(21)"
   ]
  },
  {
   "cell_type": "code",
   "execution_count": 36,
   "id": "1acb6800",
   "metadata": {},
   "outputs": [
    {
     "data": {
      "text/plain": [
       "int"
      ]
     },
     "execution_count": 36,
     "metadata": {},
     "output_type": "execute_result"
    }
   ],
   "source": [
    "type(a)"
   ]
  },
  {
   "cell_type": "code",
   "execution_count": 37,
   "id": "c233d2bb",
   "metadata": {},
   "outputs": [],
   "source": [
    "a=(21,)"
   ]
  },
  {
   "cell_type": "code",
   "execution_count": 38,
   "id": "2c5d7fe8",
   "metadata": {},
   "outputs": [
    {
     "data": {
      "text/plain": [
       "tuple"
      ]
     },
     "execution_count": 38,
     "metadata": {},
     "output_type": "execute_result"
    }
   ],
   "source": [
    "type(a)"
   ]
  },
  {
   "cell_type": "code",
   "execution_count": 39,
   "id": "52ae4c13",
   "metadata": {},
   "outputs": [],
   "source": [
    "a=()"
   ]
  },
  {
   "cell_type": "code",
   "execution_count": 40,
   "id": "8c722f20",
   "metadata": {},
   "outputs": [
    {
     "data": {
      "text/plain": [
       "tuple"
      ]
     },
     "execution_count": 40,
     "metadata": {},
     "output_type": "execute_result"
    }
   ],
   "source": [
    "type(a)"
   ]
  },
  {
   "cell_type": "markdown",
   "id": "a9d102f8",
   "metadata": {},
   "source": [
    "### 访问元组"
   ]
  },
  {
   "cell_type": "code",
   "execution_count": 41,
   "id": "227874ad",
   "metadata": {},
   "outputs": [],
   "source": [
    "a=('hello','world',1,2,3)"
   ]
  },
  {
   "cell_type": "code",
   "execution_count": 42,
   "id": "c5e0d55c",
   "metadata": {},
   "outputs": [
    {
     "data": {
      "text/plain": [
       "'world'"
      ]
     },
     "execution_count": 42,
     "metadata": {},
     "output_type": "execute_result"
    }
   ],
   "source": [
    "a[1]"
   ]
  },
  {
   "cell_type": "code",
   "execution_count": 43,
   "id": "a3d78000",
   "metadata": {},
   "outputs": [
    {
     "data": {
      "text/plain": [
       "('world', 1)"
      ]
     },
     "execution_count": 43,
     "metadata": {},
     "output_type": "execute_result"
    }
   ],
   "source": [
    "a[1:3]"
   ]
  },
  {
   "cell_type": "code",
   "execution_count": 44,
   "id": "d0ce120c",
   "metadata": {},
   "outputs": [
    {
     "data": {
      "text/plain": [
       "(1, 2, 3)"
      ]
     },
     "execution_count": 44,
     "metadata": {},
     "output_type": "execute_result"
    }
   ],
   "source": [
    "a[2:]"
   ]
  },
  {
   "cell_type": "code",
   "execution_count": 45,
   "id": "73743cdc",
   "metadata": {},
   "outputs": [
    {
     "data": {
      "text/plain": [
       "('hello', 'world')"
      ]
     },
     "execution_count": 45,
     "metadata": {},
     "output_type": "execute_result"
    }
   ],
   "source": [
    "a[:2]"
   ]
  },
  {
   "cell_type": "code",
   "execution_count": 46,
   "id": "af9cb2d0",
   "metadata": {},
   "outputs": [],
   "source": [
    "str1,str2,n1,n2,n3=a"
   ]
  },
  {
   "cell_type": "code",
   "execution_count": 47,
   "id": "ebc6d741",
   "metadata": {},
   "outputs": [
    {
     "data": {
      "text/plain": [
       "'hello'"
      ]
     },
     "execution_count": 47,
     "metadata": {},
     "output_type": "execute_result"
    }
   ],
   "source": [
    "str1"
   ]
  },
  {
   "cell_type": "code",
   "execution_count": 48,
   "id": "46f4ffca",
   "metadata": {},
   "outputs": [
    {
     "data": {
      "text/plain": [
       "'world'"
      ]
     },
     "execution_count": 48,
     "metadata": {},
     "output_type": "execute_result"
    }
   ],
   "source": [
    "str2"
   ]
  },
  {
   "cell_type": "code",
   "execution_count": 49,
   "id": "058b324c",
   "metadata": {},
   "outputs": [
    {
     "data": {
      "text/plain": [
       "1"
      ]
     },
     "execution_count": 49,
     "metadata": {},
     "output_type": "execute_result"
    }
   ],
   "source": [
    "n1"
   ]
  },
  {
   "cell_type": "code",
   "execution_count": 50,
   "id": "8cf705cb",
   "metadata": {},
   "outputs": [
    {
     "data": {
      "text/plain": [
       "2"
      ]
     },
     "execution_count": 50,
     "metadata": {},
     "output_type": "execute_result"
    }
   ],
   "source": [
    "n2"
   ]
  },
  {
   "cell_type": "code",
   "execution_count": 51,
   "id": "86aab868",
   "metadata": {},
   "outputs": [
    {
     "data": {
      "text/plain": [
       "3"
      ]
     },
     "execution_count": 51,
     "metadata": {},
     "output_type": "execute_result"
    }
   ],
   "source": [
    "n3"
   ]
  },
  {
   "cell_type": "code",
   "execution_count": 52,
   "id": "2bbbe2be",
   "metadata": {},
   "outputs": [],
   "source": [
    "str1,str2,*n=a"
   ]
  },
  {
   "cell_type": "code",
   "execution_count": 53,
   "id": "06d34bd7",
   "metadata": {},
   "outputs": [
    {
     "data": {
      "text/plain": [
       "'hello'"
      ]
     },
     "execution_count": 53,
     "metadata": {},
     "output_type": "execute_result"
    }
   ],
   "source": [
    "str1"
   ]
  },
  {
   "cell_type": "code",
   "execution_count": 54,
   "id": "118a0223",
   "metadata": {},
   "outputs": [
    {
     "data": {
      "text/plain": [
       "'world'"
      ]
     },
     "execution_count": 54,
     "metadata": {},
     "output_type": "execute_result"
    }
   ],
   "source": [
    "str2"
   ]
  },
  {
   "cell_type": "code",
   "execution_count": 55,
   "id": "d8be9f0c",
   "metadata": {},
   "outputs": [
    {
     "data": {
      "text/plain": [
       "[1, 2, 3]"
      ]
     },
     "execution_count": 55,
     "metadata": {},
     "output_type": "execute_result"
    }
   ],
   "source": [
    "n"
   ]
  },
  {
   "cell_type": "code",
   "execution_count": 56,
   "id": "413042c3",
   "metadata": {},
   "outputs": [],
   "source": [
    "str1,_,n1,n2,_=a"
   ]
  },
  {
   "cell_type": "code",
   "execution_count": 57,
   "id": "5a7aeeff",
   "metadata": {},
   "outputs": [
    {
     "data": {
      "text/plain": [
       "'hello'"
      ]
     },
     "execution_count": 57,
     "metadata": {},
     "output_type": "execute_result"
    }
   ],
   "source": [
    "str1"
   ]
  },
  {
   "cell_type": "code",
   "execution_count": 58,
   "id": "c99020ff",
   "metadata": {},
   "outputs": [
    {
     "data": {
      "text/plain": [
       "1"
      ]
     },
     "execution_count": 58,
     "metadata": {},
     "output_type": "execute_result"
    }
   ],
   "source": [
    "n1"
   ]
  },
  {
   "cell_type": "code",
   "execution_count": 59,
   "id": "6d57a40e",
   "metadata": {},
   "outputs": [
    {
     "data": {
      "text/plain": [
       "2"
      ]
     },
     "execution_count": 59,
     "metadata": {},
     "output_type": "execute_result"
    }
   ],
   "source": [
    "n2"
   ]
  },
  {
   "cell_type": "markdown",
   "id": "cb930b78",
   "metadata": {},
   "source": [
    "### 遍历元组"
   ]
  },
  {
   "cell_type": "code",
   "execution_count": 60,
   "id": "081f0b23",
   "metadata": {},
   "outputs": [
    {
     "name": "stdout",
     "output_type": "stream",
     "text": [
      "21\n",
      "32\n",
      "43\n",
      "45\n",
      "---------------------\n",
      "0-21\n",
      "1-32\n",
      "2-43\n",
      "3-45\n"
     ]
    }
   ],
   "source": [
    "a=(21,32,43,45)\n",
    "\n",
    "for item in a:\n",
    "    print(item)\n",
    "\n",
    "print('---------------------')\n",
    "for i,item in enumerate(a):\n",
    "    print('{0}-{1}'.format(i,item))"
   ]
  },
  {
   "cell_type": "markdown",
   "id": "235e1029",
   "metadata": {},
   "source": [
    "## 列表\n",
    "### 列表创建"
   ]
  },
  {
   "cell_type": "code",
   "execution_count": 61,
   "id": "79c81b95",
   "metadata": {},
   "outputs": [
    {
     "data": {
      "text/plain": [
       "[20, 10, 50, 40, 30]"
      ]
     },
     "execution_count": 61,
     "metadata": {},
     "output_type": "execute_result"
    }
   ],
   "source": [
    "[20,10,50,40,30]"
   ]
  },
  {
   "cell_type": "code",
   "execution_count": 62,
   "id": "050fae51",
   "metadata": {},
   "outputs": [
    {
     "data": {
      "text/plain": [
       "[]"
      ]
     },
     "execution_count": 62,
     "metadata": {},
     "output_type": "execute_result"
    }
   ],
   "source": [
    "[]"
   ]
  },
  {
   "cell_type": "code",
   "execution_count": 63,
   "id": "121b825c",
   "metadata": {},
   "outputs": [
    {
     "data": {
      "text/plain": [
       "['hello', 'world', 1, 2, 3]"
      ]
     },
     "execution_count": 63,
     "metadata": {},
     "output_type": "execute_result"
    }
   ],
   "source": [
    "['hello','world',1,2,3]"
   ]
  },
  {
   "cell_type": "code",
   "execution_count": 64,
   "id": "6e980b4c",
   "metadata": {},
   "outputs": [],
   "source": [
    "a=[10]"
   ]
  },
  {
   "cell_type": "code",
   "execution_count": 65,
   "id": "f4b742a6",
   "metadata": {},
   "outputs": [
    {
     "data": {
      "text/plain": [
       "list"
      ]
     },
     "execution_count": 65,
     "metadata": {},
     "output_type": "execute_result"
    }
   ],
   "source": [
    "type(a)"
   ]
  },
  {
   "cell_type": "code",
   "execution_count": 66,
   "id": "f8243c3d",
   "metadata": {},
   "outputs": [],
   "source": [
    "a=[10,]"
   ]
  },
  {
   "cell_type": "code",
   "execution_count": 67,
   "id": "5e0bb7e0",
   "metadata": {},
   "outputs": [
    {
     "data": {
      "text/plain": [
       "list"
      ]
     },
     "execution_count": 67,
     "metadata": {},
     "output_type": "execute_result"
    }
   ],
   "source": [
    "type(a)"
   ]
  },
  {
   "cell_type": "code",
   "execution_count": 68,
   "id": "9d554478",
   "metadata": {},
   "outputs": [
    {
     "data": {
      "text/plain": [
       "[20, 10, 50, 40, 30]"
      ]
     },
     "execution_count": 68,
     "metadata": {},
     "output_type": "execute_result"
    }
   ],
   "source": [
    "list((20,10,50,40,30))"
   ]
  },
  {
   "cell_type": "markdown",
   "id": "0211d0fc",
   "metadata": {},
   "source": [
    "### 追加元素\n",
    "```\n",
    "list.append(x)\n",
    "list.extend(t)\n",
    "```"
   ]
  },
  {
   "cell_type": "code",
   "execution_count": 69,
   "id": "7e5ca131",
   "metadata": {},
   "outputs": [],
   "source": [
    "student_list=['张三','李四','王五']"
   ]
  },
  {
   "cell_type": "code",
   "execution_count": 70,
   "id": "6f56bb8d",
   "metadata": {},
   "outputs": [],
   "source": [
    "student_list.append('董六')"
   ]
  },
  {
   "cell_type": "code",
   "execution_count": 71,
   "id": "66742c38",
   "metadata": {},
   "outputs": [
    {
     "data": {
      "text/plain": [
       "['张三', '李四', '王五', '董六']"
      ]
     },
     "execution_count": 71,
     "metadata": {},
     "output_type": "execute_result"
    }
   ],
   "source": [
    "student_list"
   ]
  },
  {
   "cell_type": "code",
   "execution_count": 72,
   "id": "bf2a01fc",
   "metadata": {},
   "outputs": [],
   "source": [
    "student_list+=['刘备','关羽']"
   ]
  },
  {
   "cell_type": "code",
   "execution_count": 73,
   "id": "3f2e58b0",
   "metadata": {},
   "outputs": [
    {
     "data": {
      "text/plain": [
       "['张三', '李四', '王五', '董六', '刘备', '关羽']"
      ]
     },
     "execution_count": 73,
     "metadata": {},
     "output_type": "execute_result"
    }
   ],
   "source": [
    "student_list"
   ]
  },
  {
   "cell_type": "code",
   "execution_count": 74,
   "id": "68c4ae29",
   "metadata": {},
   "outputs": [],
   "source": [
    "student_list.extend(['张飞','赵云'])"
   ]
  },
  {
   "cell_type": "code",
   "execution_count": 75,
   "id": "bb30c01e",
   "metadata": {},
   "outputs": [
    {
     "data": {
      "text/plain": [
       "['张三', '李四', '王五', '董六', '刘备', '关羽', '张飞', '赵云']"
      ]
     },
     "execution_count": 75,
     "metadata": {},
     "output_type": "execute_result"
    }
   ],
   "source": [
    "student_list"
   ]
  },
  {
   "cell_type": "markdown",
   "id": "39429c2d",
   "metadata": {},
   "source": [
    "### 插入元素\n",
    "```\n",
    "list.insert(i,x)\n",
    "```"
   ]
  },
  {
   "cell_type": "code",
   "execution_count": 76,
   "id": "1d52d05d",
   "metadata": {},
   "outputs": [],
   "source": [
    "student_list=['zhangsan','lisi','wangwu']"
   ]
  },
  {
   "cell_type": "code",
   "execution_count": 77,
   "id": "4f2421f5",
   "metadata": {},
   "outputs": [],
   "source": [
    "student_list.insert(2,'liubei')"
   ]
  },
  {
   "cell_type": "code",
   "execution_count": 78,
   "id": "d2b09a94",
   "metadata": {},
   "outputs": [
    {
     "data": {
      "text/plain": [
       "['zhangsan', 'lisi', 'liubei', 'wangwu']"
      ]
     },
     "execution_count": 78,
     "metadata": {},
     "output_type": "execute_result"
    }
   ],
   "source": [
    "student_list"
   ]
  },
  {
   "cell_type": "markdown",
   "id": "798e4bc7",
   "metadata": {},
   "source": [
    "### 替换元素"
   ]
  },
  {
   "cell_type": "code",
   "execution_count": 79,
   "id": "c80875af",
   "metadata": {},
   "outputs": [],
   "source": [
    "student_list=['zhangsan','lisi','wangwu']"
   ]
  },
  {
   "cell_type": "code",
   "execution_count": 80,
   "id": "fe7abb48",
   "metadata": {},
   "outputs": [],
   "source": [
    "student_list[0]='zhugeliang'"
   ]
  },
  {
   "cell_type": "code",
   "execution_count": 81,
   "id": "bf96cbfc",
   "metadata": {},
   "outputs": [
    {
     "data": {
      "text/plain": [
       "['zhugeliang', 'lisi', 'wangwu']"
      ]
     },
     "execution_count": 81,
     "metadata": {},
     "output_type": "execute_result"
    }
   ],
   "source": [
    "student_list"
   ]
  },
  {
   "cell_type": "markdown",
   "id": "54d314a6",
   "metadata": {},
   "source": [
    "### 删除元素\n",
    "#### remove()方法\n",
    "如果找到多个，只会删除第一个"
   ]
  },
  {
   "cell_type": "code",
   "execution_count": 82,
   "id": "bde6d21f",
   "metadata": {},
   "outputs": [],
   "source": [
    "student_list=['zhangsan','lisi','wangwu','wangwu']"
   ]
  },
  {
   "cell_type": "code",
   "execution_count": 83,
   "id": "b34b513e",
   "metadata": {},
   "outputs": [],
   "source": [
    "student_list.remove('wangwu')"
   ]
  },
  {
   "cell_type": "code",
   "execution_count": 84,
   "id": "e7019d79",
   "metadata": {},
   "outputs": [
    {
     "data": {
      "text/plain": [
       "['zhangsan', 'lisi', 'wangwu']"
      ]
     },
     "execution_count": 84,
     "metadata": {},
     "output_type": "execute_result"
    }
   ],
   "source": [
    "student_list"
   ]
  },
  {
   "cell_type": "code",
   "execution_count": 85,
   "id": "721296a2",
   "metadata": {},
   "outputs": [],
   "source": [
    "student_list.remove('wangwu')"
   ]
  },
  {
   "cell_type": "code",
   "execution_count": 86,
   "id": "73d076c4",
   "metadata": {},
   "outputs": [
    {
     "data": {
      "text/plain": [
       "['zhangsan', 'lisi']"
      ]
     },
     "execution_count": 86,
     "metadata": {},
     "output_type": "execute_result"
    }
   ],
   "source": [
    "student_list"
   ]
  },
  {
   "cell_type": "markdown",
   "id": "1083fa93",
   "metadata": {},
   "source": [
    "#### pop()方法\n",
    "```\n",
    "item=list.pop([i])\n",
    "```\n",
    "i是指定删除元素的索引"
   ]
  },
  {
   "cell_type": "code",
   "execution_count": 87,
   "id": "9999bc60",
   "metadata": {},
   "outputs": [],
   "source": [
    "student_list=['zhangsan','lisi','wangwu']"
   ]
  },
  {
   "cell_type": "code",
   "execution_count": 88,
   "id": "00465737",
   "metadata": {},
   "outputs": [
    {
     "data": {
      "text/plain": [
       "'wangwu'"
      ]
     },
     "execution_count": 88,
     "metadata": {},
     "output_type": "execute_result"
    }
   ],
   "source": [
    "student_list.pop()"
   ]
  },
  {
   "cell_type": "code",
   "execution_count": 89,
   "id": "affeb363",
   "metadata": {},
   "outputs": [
    {
     "data": {
      "text/plain": [
       "['zhangsan', 'lisi']"
      ]
     },
     "execution_count": 89,
     "metadata": {},
     "output_type": "execute_result"
    }
   ],
   "source": [
    "student_list"
   ]
  },
  {
   "cell_type": "code",
   "execution_count": 90,
   "id": "c81fc475",
   "metadata": {},
   "outputs": [
    {
     "data": {
      "text/plain": [
       "'zhangsan'"
      ]
     },
     "execution_count": 90,
     "metadata": {},
     "output_type": "execute_result"
    }
   ],
   "source": [
    "student_list.pop(0)"
   ]
  },
  {
   "cell_type": "code",
   "execution_count": 91,
   "id": "660d7d33",
   "metadata": {},
   "outputs": [
    {
     "data": {
      "text/plain": [
       "['lisi']"
      ]
     },
     "execution_count": 91,
     "metadata": {},
     "output_type": "execute_result"
    }
   ],
   "source": [
    "student_list"
   ]
  },
  {
   "cell_type": "markdown",
   "id": "1081544f",
   "metadata": {},
   "source": [
    "### 其他常用办法"
   ]
  },
  {
   "cell_type": "markdown",
   "id": "522d0e35",
   "metadata": {},
   "source": [
    "* reverse():倒置列表\n",
    "* copy():复制列表\n",
    "* clear():清楚列表中的所有元素\n",
    "* index(x[,i[,j]]):返回x第一次出现的索引，i为开始查找索引，j是结束查找索引，继承序列\n",
    "* count(x):返回x出现的次数，方法继承序列"
   ]
  },
  {
   "cell_type": "code",
   "execution_count": 93,
   "id": "2840394f",
   "metadata": {},
   "outputs": [],
   "source": [
    "a=[21,32,43,45]"
   ]
  },
  {
   "cell_type": "code",
   "execution_count": 94,
   "id": "5e7b5909",
   "metadata": {},
   "outputs": [],
   "source": [
    "a.reverse()"
   ]
  },
  {
   "cell_type": "code",
   "execution_count": 95,
   "id": "f602e68b",
   "metadata": {},
   "outputs": [
    {
     "data": {
      "text/plain": [
       "[45, 43, 32, 21]"
      ]
     },
     "execution_count": 95,
     "metadata": {},
     "output_type": "execute_result"
    }
   ],
   "source": [
    "a\n"
   ]
  },
  {
   "cell_type": "code",
   "execution_count": 96,
   "id": "2720ece0",
   "metadata": {},
   "outputs": [],
   "source": [
    "b=a.copy()"
   ]
  },
  {
   "cell_type": "code",
   "execution_count": 97,
   "id": "2fec2d22",
   "metadata": {},
   "outputs": [
    {
     "data": {
      "text/plain": [
       "[45, 43, 32, 21]"
      ]
     },
     "execution_count": 97,
     "metadata": {},
     "output_type": "execute_result"
    }
   ],
   "source": [
    "b"
   ]
  },
  {
   "cell_type": "code",
   "execution_count": 98,
   "id": "fb785da2",
   "metadata": {},
   "outputs": [],
   "source": [
    "a.clear()"
   ]
  },
  {
   "cell_type": "code",
   "execution_count": 99,
   "id": "6fbd5c6d",
   "metadata": {},
   "outputs": [
    {
     "data": {
      "text/plain": [
       "[]"
      ]
     },
     "execution_count": 99,
     "metadata": {},
     "output_type": "execute_result"
    }
   ],
   "source": [
    "a"
   ]
  },
  {
   "cell_type": "code",
   "execution_count": 100,
   "id": "23d8441e",
   "metadata": {},
   "outputs": [
    {
     "data": {
      "text/plain": [
       "[45, 43, 32, 21]"
      ]
     },
     "execution_count": 100,
     "metadata": {},
     "output_type": "execute_result"
    }
   ],
   "source": [
    "b"
   ]
  },
  {
   "cell_type": "code",
   "execution_count": 101,
   "id": "e95f4339",
   "metadata": {},
   "outputs": [],
   "source": [
    "a=[45,43,32,21,32]"
   ]
  },
  {
   "cell_type": "code",
   "execution_count": 102,
   "id": "103b6439",
   "metadata": {},
   "outputs": [
    {
     "data": {
      "text/plain": [
       "2"
      ]
     },
     "execution_count": 102,
     "metadata": {},
     "output_type": "execute_result"
    }
   ],
   "source": [
    "a.count(32)"
   ]
  },
  {
   "cell_type": "code",
   "execution_count": 103,
   "id": "ed3126d7",
   "metadata": {},
   "outputs": [],
   "source": [
    "student_list=['zhangsan','lisi','wangwu']"
   ]
  },
  {
   "cell_type": "code",
   "execution_count": 104,
   "id": "64320142",
   "metadata": {},
   "outputs": [
    {
     "data": {
      "text/plain": [
       "2"
      ]
     },
     "execution_count": 104,
     "metadata": {},
     "output_type": "execute_result"
    }
   ],
   "source": [
    "student_list.index('wangwu')"
   ]
  },
  {
   "cell_type": "code",
   "execution_count": 106,
   "id": "efac1684",
   "metadata": {},
   "outputs": [],
   "source": [
    "student_tuple=('zhangsan','lisi','wangwu')"
   ]
  },
  {
   "cell_type": "code",
   "execution_count": 107,
   "id": "29bd0d25",
   "metadata": {},
   "outputs": [
    {
     "data": {
      "text/plain": [
       "2"
      ]
     },
     "execution_count": 107,
     "metadata": {},
     "output_type": "execute_result"
    }
   ],
   "source": [
    "student_tuple.index('wangwu')"
   ]
  },
  {
   "cell_type": "code",
   "execution_count": 108,
   "id": "39f3b61e",
   "metadata": {},
   "outputs": [
    {
     "data": {
      "text/plain": [
       "1"
      ]
     },
     "execution_count": 108,
     "metadata": {},
     "output_type": "execute_result"
    }
   ],
   "source": [
    "student_tuple.index('lisi',1,2)"
   ]
  },
  {
   "cell_type": "markdown",
   "id": "c8f99e43",
   "metadata": {},
   "source": [
    "### 列表推导式"
   ]
  },
  {
   "cell_type": "code",
   "execution_count": 109,
   "id": "f92de96c",
   "metadata": {},
   "outputs": [
    {
     "name": "stdout",
     "output_type": "stream",
     "text": [
      "[0, 4, 16, 36, 64]\n"
     ]
    }
   ],
   "source": [
    "n_list=[]\n",
    "for x in range(10):\n",
    "    if x%2==0:\n",
    "        n_list.append(x**2)\n",
    "print(n_list)"
   ]
  },
  {
   "cell_type": "code",
   "execution_count": 110,
   "id": "2e39138b",
   "metadata": {},
   "outputs": [],
   "source": [
    "n_list=[x**2 for x in range(10) if x%2==0]"
   ]
  },
  {
   "cell_type": "code",
   "execution_count": 111,
   "id": "20b630db",
   "metadata": {},
   "outputs": [
    {
     "data": {
      "text/plain": [
       "[0, 4, 16, 36, 64]"
      ]
     },
     "execution_count": 111,
     "metadata": {},
     "output_type": "execute_result"
    }
   ],
   "source": [
    "n_list"
   ]
  },
  {
   "cell_type": "code",
   "execution_count": 112,
   "id": "b453dd6f",
   "metadata": {},
   "outputs": [],
   "source": [
    "n_list=[x for x in range(100) if x%2==0 if x%5==0]"
   ]
  },
  {
   "cell_type": "code",
   "execution_count": 113,
   "id": "e9275635",
   "metadata": {},
   "outputs": [
    {
     "data": {
      "text/plain": [
       "[0, 10, 20, 30, 40, 50, 60, 70, 80, 90]"
      ]
     },
     "execution_count": 113,
     "metadata": {},
     "output_type": "execute_result"
    }
   ],
   "source": [
    "n_list"
   ]
  },
  {
   "cell_type": "markdown",
   "id": "be9ba6de",
   "metadata": {},
   "source": [
    "## 集合\n",
    "### 创建可变集合"
   ]
  },
  {
   "cell_type": "code",
   "execution_count": 114,
   "id": "8e304ca0",
   "metadata": {},
   "outputs": [],
   "source": [
    "a={'zhangsan','lisi','wangwu'}"
   ]
  },
  {
   "cell_type": "code",
   "execution_count": 115,
   "id": "8ee98493",
   "metadata": {},
   "outputs": [
    {
     "data": {
      "text/plain": [
       "{'lisi', 'wangwu', 'zhangsan'}"
      ]
     },
     "execution_count": 115,
     "metadata": {},
     "output_type": "execute_result"
    }
   ],
   "source": [
    "a"
   ]
  },
  {
   "cell_type": "code",
   "execution_count": 116,
   "id": "c548f175",
   "metadata": {},
   "outputs": [],
   "source": [
    "a={'zhangsan','lisi','wangwu','wangwu'}"
   ]
  },
  {
   "cell_type": "code",
   "execution_count": 117,
   "id": "11b38c31",
   "metadata": {},
   "outputs": [
    {
     "data": {
      "text/plain": [
       "3"
      ]
     },
     "execution_count": 117,
     "metadata": {},
     "output_type": "execute_result"
    }
   ],
   "source": [
    "len(a)"
   ]
  },
  {
   "cell_type": "code",
   "execution_count": 118,
   "id": "6db2b302",
   "metadata": {},
   "outputs": [
    {
     "data": {
      "text/plain": [
       "{'lisi', 'wangwu', 'zhangsan'}"
      ]
     },
     "execution_count": 118,
     "metadata": {},
     "output_type": "execute_result"
    }
   ],
   "source": [
    "a"
   ]
  },
  {
   "cell_type": "code",
   "execution_count": 119,
   "id": "c776abad",
   "metadata": {},
   "outputs": [
    {
     "data": {
      "text/plain": [
       "{10, 20, 30, 40, 50}"
      ]
     },
     "execution_count": 119,
     "metadata": {},
     "output_type": "execute_result"
    }
   ],
   "source": [
    "set((20,10,50,40,30))"
   ]
  },
  {
   "cell_type": "code",
   "execution_count": 120,
   "id": "9f934d35",
   "metadata": {},
   "outputs": [],
   "source": [
    "b={}"
   ]
  },
  {
   "cell_type": "code",
   "execution_count": 121,
   "id": "359d9469",
   "metadata": {},
   "outputs": [
    {
     "data": {
      "text/plain": [
       "dict"
      ]
     },
     "execution_count": 121,
     "metadata": {},
     "output_type": "execute_result"
    }
   ],
   "source": [
    "type(b)"
   ]
  },
  {
   "cell_type": "code",
   "execution_count": 122,
   "id": "734bec27",
   "metadata": {},
   "outputs": [],
   "source": [
    "b=set()"
   ]
  },
  {
   "cell_type": "code",
   "execution_count": 123,
   "id": "cf84720e",
   "metadata": {},
   "outputs": [
    {
     "data": {
      "text/plain": [
       "set"
      ]
     },
     "execution_count": 123,
     "metadata": {},
     "output_type": "execute_result"
    }
   ],
   "source": [
    "type(b)"
   ]
  },
  {
   "cell_type": "markdown",
   "id": "d1068589",
   "metadata": {},
   "source": [
    "### 修改可变集合\n",
    "* add(elem):添加元素，已存在不能添加\n",
    "* remove(elem):删除元素，不存在则抛出错误\n",
    "* discard(elem):删除元素，不存在不抛出\n",
    "* pop():删除返回集合中任意元素，返回值是删除的元素\n",
    "* clear():清楚集合"
   ]
  },
  {
   "cell_type": "code",
   "execution_count": 124,
   "id": "d0cb6ff9",
   "metadata": {},
   "outputs": [],
   "source": [
    "student_set={'zhangsan','lisi','wangwu'}"
   ]
  },
  {
   "cell_type": "code",
   "execution_count": 125,
   "id": "271c2c7e",
   "metadata": {},
   "outputs": [],
   "source": [
    "student_set.add('dongliu')"
   ]
  },
  {
   "cell_type": "code",
   "execution_count": 126,
   "id": "c16fceca",
   "metadata": {},
   "outputs": [
    {
     "data": {
      "text/plain": [
       "{'dongliu', 'lisi', 'wangwu', 'zhangsan'}"
      ]
     },
     "execution_count": 126,
     "metadata": {},
     "output_type": "execute_result"
    }
   ],
   "source": [
    "student_set"
   ]
  },
  {
   "cell_type": "code",
   "execution_count": 127,
   "id": "08d3d76f",
   "metadata": {},
   "outputs": [],
   "source": [
    "student_set.remove('lisi')"
   ]
  },
  {
   "cell_type": "code",
   "execution_count": 128,
   "id": "86cf0d91",
   "metadata": {},
   "outputs": [
    {
     "data": {
      "text/plain": [
       "{'dongliu', 'wangwu', 'zhangsan'}"
      ]
     },
     "execution_count": 128,
     "metadata": {},
     "output_type": "execute_result"
    }
   ],
   "source": [
    "student_set"
   ]
  },
  {
   "cell_type": "code",
   "execution_count": 129,
   "id": "f724b0f5",
   "metadata": {},
   "outputs": [
    {
     "ename": "KeyError",
     "evalue": "'lisi'",
     "output_type": "error",
     "traceback": [
      "\u001b[1;31m---------------------------------------------------------------------------\u001b[0m",
      "\u001b[1;31mKeyError\u001b[0m                                  Traceback (most recent call last)",
      "Input \u001b[1;32mIn [129]\u001b[0m, in \u001b[0;36m<cell line: 1>\u001b[1;34m()\u001b[0m\n\u001b[1;32m----> 1\u001b[0m \u001b[43mstudent_set\u001b[49m\u001b[38;5;241;43m.\u001b[39;49m\u001b[43mremove\u001b[49m\u001b[43m(\u001b[49m\u001b[38;5;124;43m'\u001b[39;49m\u001b[38;5;124;43mlisi\u001b[39;49m\u001b[38;5;124;43m'\u001b[39;49m\u001b[43m)\u001b[49m\n",
      "\u001b[1;31mKeyError\u001b[0m: 'lisi'"
     ]
    }
   ],
   "source": [
    "student_set.remove('lisi')"
   ]
  },
  {
   "cell_type": "code",
   "execution_count": 130,
   "id": "eb04b7c0",
   "metadata": {},
   "outputs": [],
   "source": [
    "student_set.discard('lisi')"
   ]
  },
  {
   "cell_type": "code",
   "execution_count": 131,
   "id": "24f28f6b",
   "metadata": {},
   "outputs": [
    {
     "data": {
      "text/plain": [
       "{'dongliu', 'wangwu', 'zhangsan'}"
      ]
     },
     "execution_count": 131,
     "metadata": {},
     "output_type": "execute_result"
    }
   ],
   "source": [
    "student_set"
   ]
  },
  {
   "cell_type": "code",
   "execution_count": 132,
   "id": "0ff7c89a",
   "metadata": {},
   "outputs": [],
   "source": [
    "student_set.discard('wangwu')"
   ]
  },
  {
   "cell_type": "code",
   "execution_count": 133,
   "id": "2753be2c",
   "metadata": {},
   "outputs": [
    {
     "data": {
      "text/plain": [
       "{'dongliu', 'zhangsan'}"
      ]
     },
     "execution_count": 133,
     "metadata": {},
     "output_type": "execute_result"
    }
   ],
   "source": [
    "student_set"
   ]
  },
  {
   "cell_type": "code",
   "execution_count": 134,
   "id": "ab717567",
   "metadata": {},
   "outputs": [
    {
     "data": {
      "text/plain": [
       "'dongliu'"
      ]
     },
     "execution_count": 134,
     "metadata": {},
     "output_type": "execute_result"
    }
   ],
   "source": [
    "student_set.pop()"
   ]
  },
  {
   "cell_type": "code",
   "execution_count": 135,
   "id": "31934d11",
   "metadata": {},
   "outputs": [
    {
     "data": {
      "text/plain": [
       "{'zhangsan'}"
      ]
     },
     "execution_count": 135,
     "metadata": {},
     "output_type": "execute_result"
    }
   ],
   "source": [
    "student_set"
   ]
  },
  {
   "cell_type": "code",
   "execution_count": 136,
   "id": "c2b33c3c",
   "metadata": {},
   "outputs": [],
   "source": [
    "student_set.clear()"
   ]
  },
  {
   "cell_type": "code",
   "execution_count": 137,
   "id": "10f76883",
   "metadata": {},
   "outputs": [
    {
     "data": {
      "text/plain": [
       "set()"
      ]
     },
     "execution_count": 137,
     "metadata": {},
     "output_type": "execute_result"
    }
   ],
   "source": [
    "student_set"
   ]
  },
  {
   "cell_type": "markdown",
   "id": "f51e6253",
   "metadata": {},
   "source": [
    "### 遍历集合"
   ]
  },
  {
   "cell_type": "code",
   "execution_count": 138,
   "id": "cf38b473",
   "metadata": {},
   "outputs": [
    {
     "name": "stdout",
     "output_type": "stream",
     "text": [
      "lisi\n",
      "wangwu\n",
      "zhangsan\n",
      "----------\n",
      "0-lisi\n",
      "1-wangwu\n",
      "2-zhangsan\n"
     ]
    }
   ],
   "source": [
    "student_set={'zhangsan','lisi','wangwu'}\n",
    "\n",
    "for item in student_set:\n",
    "    print(item)\n",
    "    \n",
    "print('----------')\n",
    "for i,item in enumerate(student_set):\n",
    "    print('{0}-{1}'.format(i,item))"
   ]
  },
  {
   "cell_type": "markdown",
   "id": "d9de1d19",
   "metadata": {},
   "source": [
    "### 不可变集合"
   ]
  },
  {
   "cell_type": "code",
   "execution_count": 139,
   "id": "a7022052",
   "metadata": {},
   "outputs": [],
   "source": [
    "student_set=frozenset({'zhangsan','lisi','wangwu'})"
   ]
  },
  {
   "cell_type": "code",
   "execution_count": 140,
   "id": "1238343e",
   "metadata": {},
   "outputs": [
    {
     "data": {
      "text/plain": [
       "frozenset({'lisi', 'wangwu', 'zhangsan'})"
      ]
     },
     "execution_count": 140,
     "metadata": {},
     "output_type": "execute_result"
    }
   ],
   "source": [
    "student_set"
   ]
  },
  {
   "cell_type": "code",
   "execution_count": 141,
   "id": "39abb396",
   "metadata": {},
   "outputs": [
    {
     "data": {
      "text/plain": [
       "frozenset"
      ]
     },
     "execution_count": 141,
     "metadata": {},
     "output_type": "execute_result"
    }
   ],
   "source": [
    "type(student_set)"
   ]
  },
  {
   "cell_type": "code",
   "execution_count": 142,
   "id": "d5c48d6b",
   "metadata": {},
   "outputs": [
    {
     "ename": "AttributeError",
     "evalue": "'frozenset' object has no attribute 'add'",
     "output_type": "error",
     "traceback": [
      "\u001b[1;31m---------------------------------------------------------------------------\u001b[0m",
      "\u001b[1;31mAttributeError\u001b[0m                            Traceback (most recent call last)",
      "Input \u001b[1;32mIn [142]\u001b[0m, in \u001b[0;36m<cell line: 1>\u001b[1;34m()\u001b[0m\n\u001b[1;32m----> 1\u001b[0m \u001b[43mstudent_set\u001b[49m\u001b[38;5;241;43m.\u001b[39;49m\u001b[43madd\u001b[49m(\u001b[38;5;124m'\u001b[39m\u001b[38;5;124mdongliu\u001b[39m\u001b[38;5;124m'\u001b[39m)\n",
      "\u001b[1;31mAttributeError\u001b[0m: 'frozenset' object has no attribute 'add'"
     ]
    }
   ],
   "source": [
    "student_set.add('dongliu')"
   ]
  },
  {
   "cell_type": "code",
   "execution_count": 143,
   "id": "58d15d4b",
   "metadata": {},
   "outputs": [],
   "source": [
    "a=(21,32,43,45)"
   ]
  },
  {
   "cell_type": "code",
   "execution_count": 144,
   "id": "7af782b2",
   "metadata": {},
   "outputs": [],
   "source": [
    "seta=frozenset(a)"
   ]
  },
  {
   "cell_type": "code",
   "execution_count": 145,
   "id": "1582ab2f",
   "metadata": {},
   "outputs": [
    {
     "data": {
      "text/plain": [
       "frozenset({21, 32, 43, 45})"
      ]
     },
     "execution_count": 145,
     "metadata": {},
     "output_type": "execute_result"
    }
   ],
   "source": [
    "seta"
   ]
  },
  {
   "cell_type": "markdown",
   "id": "f70fa3a7",
   "metadata": {},
   "source": [
    "### 集合推导式"
   ]
  },
  {
   "cell_type": "code",
   "execution_count": 146,
   "id": "85acf40d",
   "metadata": {},
   "outputs": [
    {
     "name": "stdout",
     "output_type": "stream",
     "text": [
      "{0, 70, 40, 10, 80, 50, 20, 90, 60, 30}\n"
     ]
    }
   ],
   "source": [
    "n_list={x for x in range(100) if x%2==0 if x%5==0}\n",
    "print(n_list)"
   ]
  },
  {
   "cell_type": "code",
   "execution_count": 149,
   "id": "1526316e",
   "metadata": {},
   "outputs": [],
   "source": [
    "input_list=[2,3,2,4,5,6,6,6]\n",
    "n_set=[x**2 for x in input_list]"
   ]
  },
  {
   "cell_type": "code",
   "execution_count": 150,
   "id": "03c232d8",
   "metadata": {},
   "outputs": [
    {
     "data": {
      "text/plain": [
       "[4, 9, 4, 16, 25, 36, 36, 36]"
      ]
     },
     "execution_count": 150,
     "metadata": {},
     "output_type": "execute_result"
    }
   ],
   "source": [
    "n_set"
   ]
  },
  {
   "cell_type": "code",
   "execution_count": 151,
   "id": "d983715e",
   "metadata": {},
   "outputs": [],
   "source": [
    "n_list={x**2 for x in input_list}"
   ]
  },
  {
   "cell_type": "code",
   "execution_count": 152,
   "id": "2f7f1256",
   "metadata": {},
   "outputs": [
    {
     "data": {
      "text/plain": [
       "{4, 9, 16, 25, 36}"
      ]
     },
     "execution_count": 152,
     "metadata": {},
     "output_type": "execute_result"
    }
   ],
   "source": [
    "n_list"
   ]
  },
  {
   "cell_type": "markdown",
   "id": "a30f4de5",
   "metadata": {},
   "source": [
    "## 字典\n",
    "### 创建字典"
   ]
  },
  {
   "cell_type": "code",
   "execution_count": 153,
   "id": "b13dd6a1",
   "metadata": {},
   "outputs": [],
   "source": [
    "dict1={102:'zhangsan',105:'lisi',109:'wangwu'}"
   ]
  },
  {
   "cell_type": "code",
   "execution_count": 154,
   "id": "81aabd1c",
   "metadata": {},
   "outputs": [
    {
     "data": {
      "text/plain": [
       "3"
      ]
     },
     "execution_count": 154,
     "metadata": {},
     "output_type": "execute_result"
    }
   ],
   "source": [
    "len(dict1)"
   ]
  },
  {
   "cell_type": "code",
   "execution_count": 155,
   "id": "3f3d9fcb",
   "metadata": {},
   "outputs": [
    {
     "data": {
      "text/plain": [
       "{102: 'zhangsan', 105: 'lisi', 109: 'wangwu'}"
      ]
     },
     "execution_count": 155,
     "metadata": {},
     "output_type": "execute_result"
    }
   ],
   "source": [
    "dict1"
   ]
  },
  {
   "cell_type": "code",
   "execution_count": 156,
   "id": "ee38344b",
   "metadata": {},
   "outputs": [
    {
     "data": {
      "text/plain": [
       "dict"
      ]
     },
     "execution_count": 156,
     "metadata": {},
     "output_type": "execute_result"
    }
   ],
   "source": [
    "type(dict1)"
   ]
  },
  {
   "cell_type": "code",
   "execution_count": 157,
   "id": "e17a7288",
   "metadata": {},
   "outputs": [],
   "source": [
    "dict1={}"
   ]
  },
  {
   "cell_type": "code",
   "execution_count": 158,
   "id": "3fab2848",
   "metadata": {},
   "outputs": [
    {
     "data": {
      "text/plain": [
       "{}"
      ]
     },
     "execution_count": 158,
     "metadata": {},
     "output_type": "execute_result"
    }
   ],
   "source": [
    "dict1"
   ]
  },
  {
   "cell_type": "code",
   "execution_count": 159,
   "id": "c05e430a",
   "metadata": {},
   "outputs": [
    {
     "data": {
      "text/plain": [
       "{102: 'zhangsan', 105: 'lisi', 109: 'wangwu'}"
      ]
     },
     "execution_count": 159,
     "metadata": {},
     "output_type": "execute_result"
    }
   ],
   "source": [
    "dict({102:'zhangsan',105:'lisi',109:'wangwu'})"
   ]
  },
  {
   "cell_type": "code",
   "execution_count": 161,
   "id": "9fd26c07",
   "metadata": {},
   "outputs": [
    {
     "data": {
      "text/plain": [
       "{102: 'zhangsan', 105: 'lisi', 109: 'wangwu'}"
      ]
     },
     "execution_count": 161,
     "metadata": {},
     "output_type": "execute_result"
    }
   ],
   "source": [
    "dict(((102,'zhangsan'),(105,'lisi'),(109,'wangwu')))"
   ]
  },
  {
   "cell_type": "code",
   "execution_count": 162,
   "id": "ef7828c5",
   "metadata": {},
   "outputs": [
    {
     "data": {
      "text/plain": [
       "{102: 'zhangsan', 105: 'lisi', 109: 'wangwu'}"
      ]
     },
     "execution_count": 162,
     "metadata": {},
     "output_type": "execute_result"
    }
   ],
   "source": [
    "dict([(102,'zhangsan'),(105,'lisi'),(109,'wangwu')])"
   ]
  },
  {
   "cell_type": "code",
   "execution_count": 163,
   "id": "52906f12",
   "metadata": {},
   "outputs": [],
   "source": [
    "t1=(102,'zhangsan')"
   ]
  },
  {
   "cell_type": "code",
   "execution_count": 164,
   "id": "27fdacc2",
   "metadata": {},
   "outputs": [],
   "source": [
    "t2=(105,'lisi')"
   ]
  },
  {
   "cell_type": "code",
   "execution_count": 165,
   "id": "d3fa5ea8",
   "metadata": {},
   "outputs": [],
   "source": [
    "t3=(109,'wangwu')"
   ]
  },
  {
   "cell_type": "code",
   "execution_count": 166,
   "id": "74c3bc1a",
   "metadata": {},
   "outputs": [],
   "source": [
    "t=(t1,t2,t3)"
   ]
  },
  {
   "cell_type": "code",
   "execution_count": 167,
   "id": "ef7c3686",
   "metadata": {},
   "outputs": [
    {
     "data": {
      "text/plain": [
       "{102: 'zhangsan', 105: 'lisi', 109: 'wangwu'}"
      ]
     },
     "execution_count": 167,
     "metadata": {},
     "output_type": "execute_result"
    }
   ],
   "source": [
    "dict(t)"
   ]
  },
  {
   "cell_type": "code",
   "execution_count": 168,
   "id": "e88f3a53",
   "metadata": {},
   "outputs": [],
   "source": [
    "list1=[t1,t2,t3]"
   ]
  },
  {
   "cell_type": "code",
   "execution_count": 170,
   "id": "3ab0b9f7",
   "metadata": {},
   "outputs": [
    {
     "data": {
      "text/plain": [
       "{102: 'zhangsan', 105: 'lisi', 109: 'wangwu'}"
      ]
     },
     "execution_count": 170,
     "metadata": {},
     "output_type": "execute_result"
    }
   ],
   "source": [
    "dict(list1)"
   ]
  },
  {
   "cell_type": "code",
   "execution_count": 171,
   "id": "90e19b48",
   "metadata": {},
   "outputs": [
    {
     "data": {
      "text/plain": [
       "{102: 'zhangsan', 105: 'lisi', 109: 'wangwu'}"
      ]
     },
     "execution_count": 171,
     "metadata": {},
     "output_type": "execute_result"
    }
   ],
   "source": [
    "dict(zip([102,105,109],['zhangsan','lisi','wangwu']))"
   ]
  },
  {
   "cell_type": "markdown",
   "id": "6c6755b9",
   "metadata": {},
   "source": [
    "### 访问字典\n",
    "* get(key[,default]):通过键返回值，如果键不存在返回默认值\n",
    "* items()：返回字典的所有键值对\n",
    "* keys()：返回字典键视图\n",
    "* values()：返回字典值视图"
   ]
  },
  {
   "cell_type": "code",
   "execution_count": 172,
   "id": "bd63c707",
   "metadata": {},
   "outputs": [],
   "source": [
    "dict1={102:'zhangsan',105:'lisi',109:'wangwu'}"
   ]
  },
  {
   "cell_type": "code",
   "execution_count": 173,
   "id": "e1cae97c",
   "metadata": {},
   "outputs": [
    {
     "data": {
      "text/plain": [
       "'lisi'"
      ]
     },
     "execution_count": 173,
     "metadata": {},
     "output_type": "execute_result"
    }
   ],
   "source": [
    "dict1.get(105)"
   ]
  },
  {
   "cell_type": "code",
   "execution_count": 174,
   "id": "6770b80e",
   "metadata": {},
   "outputs": [],
   "source": [
    "dict1.get(101)"
   ]
  },
  {
   "cell_type": "code",
   "execution_count": 175,
   "id": "0b495f5b",
   "metadata": {},
   "outputs": [
    {
     "data": {
      "text/plain": [
       "'dongliu'"
      ]
     },
     "execution_count": 175,
     "metadata": {},
     "output_type": "execute_result"
    }
   ],
   "source": [
    "dict1.get(101,'dongliu')"
   ]
  },
  {
   "cell_type": "code",
   "execution_count": 176,
   "id": "b00261d9",
   "metadata": {},
   "outputs": [
    {
     "data": {
      "text/plain": [
       "dict_items([(102, 'zhangsan'), (105, 'lisi'), (109, 'wangwu')])"
      ]
     },
     "execution_count": 176,
     "metadata": {},
     "output_type": "execute_result"
    }
   ],
   "source": [
    "dict1.items()"
   ]
  },
  {
   "cell_type": "code",
   "execution_count": 177,
   "id": "9bb8b6bd",
   "metadata": {},
   "outputs": [
    {
     "data": {
      "text/plain": [
       "dict_keys([102, 105, 109])"
      ]
     },
     "execution_count": 177,
     "metadata": {},
     "output_type": "execute_result"
    }
   ],
   "source": [
    "dict1.keys()"
   ]
  },
  {
   "cell_type": "code",
   "execution_count": 178,
   "id": "5235af28",
   "metadata": {},
   "outputs": [
    {
     "data": {
      "text/plain": [
       "dict_values(['zhangsan', 'lisi', 'wangwu'])"
      ]
     },
     "execution_count": 178,
     "metadata": {},
     "output_type": "execute_result"
    }
   ],
   "source": [
    "dict1.values()"
   ]
  },
  {
   "cell_type": "code",
   "execution_count": 179,
   "id": "0ef9fe2f",
   "metadata": {},
   "outputs": [],
   "source": [
    "student_dict={102:'zhangsan',105:'lisi',109:'wangwu'}"
   ]
  },
  {
   "cell_type": "code",
   "execution_count": 181,
   "id": "e710d380",
   "metadata": {},
   "outputs": [
    {
     "data": {
      "text/plain": [
       "True"
      ]
     },
     "execution_count": 181,
     "metadata": {},
     "output_type": "execute_result"
    }
   ],
   "source": [
    "102 in student_dict"
   ]
  },
  {
   "cell_type": "code",
   "execution_count": 183,
   "id": "19dcf314",
   "metadata": {},
   "outputs": [
    {
     "data": {
      "text/plain": [
       "False"
      ]
     },
     "execution_count": 183,
     "metadata": {},
     "output_type": "execute_result"
    }
   ],
   "source": [
    "'lisi' in student_dict"
   ]
  },
  {
   "cell_type": "code",
   "execution_count": 184,
   "id": "96e84f59",
   "metadata": {},
   "outputs": [
    {
     "name": "stdout",
     "output_type": "stream",
     "text": [
      "---bianlijian---\n",
      "xuehao:102\n",
      "xuehao:105\n",
      "xuehao:109\n",
      "---bianlizhi---\n",
      "xuesheng:zhangsan\n",
      "xuesheng:lisi\n",
      "xuesheng:wangwu\n",
      "---bianlijian:zhi---\n",
      "xuehao:102-xuesheng:zhangsan\n",
      "xuehao:105-xuesheng:lisi\n",
      "xuehao:109-xuesheng:wangwu\n"
     ]
    }
   ],
   "source": [
    "print('---bianlijian---')\n",
    "for student_id in student_dict.keys():\n",
    "    print('xuehao:'+str(student_id))\n",
    "    \n",
    "print('---bianlizhi---')\n",
    "for student_name in student_dict.values():\n",
    "    print('xuesheng:'+student_name)\n",
    "    \n",
    "print('---bianlijian:zhi---')\n",
    "for student_id,student_name in student_dict.items():\n",
    "    print('xuehao:{0}-xuesheng:{1}'.format(student_id,student_name))"
   ]
  },
  {
   "cell_type": "markdown",
   "id": "56d8fd99",
   "metadata": {},
   "source": [
    "### 字典推导式"
   ]
  },
  {
   "cell_type": "code",
   "execution_count": 185,
   "id": "35e3b534",
   "metadata": {},
   "outputs": [
    {
     "data": {
      "text/plain": [
       "{'two': 2, 'four': 4}"
      ]
     },
     "execution_count": 185,
     "metadata": {},
     "output_type": "execute_result"
    }
   ],
   "source": [
    "input_dict={'one':1,'two':2,'three':3,'four':4}\n",
    "\n",
    "output_dict={k:v for k,v in input_dict.items() if v%2==0}\n",
    "output_dict"
   ]
  },
  {
   "cell_type": "code",
   "execution_count": 186,
   "id": "0d34fc3e",
   "metadata": {},
   "outputs": [],
   "source": [
    "keys=[k for k,v in input_dict.items() if v%2==0]"
   ]
  },
  {
   "cell_type": "code",
   "execution_count": 188,
   "id": "ecd39e1d",
   "metadata": {},
   "outputs": [
    {
     "data": {
      "text/plain": [
       "['two', 'four']"
      ]
     },
     "execution_count": 188,
     "metadata": {},
     "output_type": "execute_result"
    }
   ],
   "source": [
    "keys"
   ]
  },
  {
   "cell_type": "code",
   "execution_count": null,
   "id": "90cb6d90",
   "metadata": {},
   "outputs": [],
   "source": []
  }
 ],
 "metadata": {
  "kernelspec": {
   "display_name": "Python 3 (ipykernel)",
   "language": "python",
   "name": "python3"
  },
  "language_info": {
   "codemirror_mode": {
    "name": "ipython",
    "version": 3
   },
   "file_extension": ".py",
   "mimetype": "text/x-python",
   "name": "python",
   "nbconvert_exporter": "python",
   "pygments_lexer": "ipython3",
   "version": "3.9.12"
  }
 },
 "nbformat": 4,
 "nbformat_minor": 5
}
