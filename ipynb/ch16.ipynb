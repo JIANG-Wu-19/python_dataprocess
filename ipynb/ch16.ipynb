{
 "cells": [
  {
   "cell_type": "markdown",
   "id": "3253fc6d",
   "metadata": {},
   "source": [
    "# 数据交换格式\n",
    "## CSV数据交换格式\n",
    "### reader（）函数"
   ]
  },
  {
   "cell_type": "code",
   "execution_count": 1,
   "id": "46bca90a",
   "metadata": {},
   "outputs": [
    {
     "name": "stdout",
     "output_type": "stream",
     "text": [
      "1|软件工程|戴国强|机械工业出版社|19980528|2\n",
      "2|汇编语言|李利光|北京大学出版社|19980318|2\n",
      "3|计算机基础|王飞|经济科学出版社|19980218|1\n",
      "4|FLASH精选|刘扬|中国纺织出版社|19990312|2\n",
      "5|java基础|王一|电子工业出版社|19990528|3\n",
      "6|世界杯|柳飞|世界出版社|19990412|2\n",
      "7|JAVA程序设计|张余|人民邮电出版社|19990613|1\n",
      "8|新概念3|余智|外语出版社|19990723|2\n",
      "9|军事要闻|张强|解放军出版社|19990722|3\n",
      "10|大众生活|许阳|电子出版社|19990819|3\n",
      "11|南方旅游|王爱国|南方出版社|19990930|2\n",
      "13|幽灵|钱力华|华光出版社|19991008|1\n",
      "14|期货分析|孙宝|飞鸟出版社|19991122|3\n",
      "15|人工智能|周未|机械工业出版社|19991223|3\n",
      "16|数据库系统概念|吴红|机械工业出版社|20000328|3\n",
      "17|计算机理论基础|戴家|机械工业出版社|20000218|4\n",
      "18|编译原理|郑键|机械工业出版社|20000415|2\n",
      "19|通讯与网络|欧阳杰|机械工业出版社|20000517|1\n",
      "20|现代操作系统|王小国|机械工业出版社|20010128|1\n",
      "21|网络基础|王大尉|北京大学出版社|20000617|1\n",
      "22|万紫千红|丛丽|北京大学出版社|20000702|3\n",
      "23|经济概论|思佳|北京大学出版社|20000819|3\n",
      "24|经济与科学|毛波|经济科学出版社|20000923|2\n",
      "25|计算机体系结构|方丹|机械工业出版社|20000328|4\n",
      "26|软件工程|牛田|经济科学出版社|20000328|4\n",
      "27|世界语言大观|候丙辉|经济科学出版社|20000814|2\n",
      "28|高级语言程序设计|寇国华|清华大学出版社|20000117|3\n",
      "29|操作系统概论|聂元名|清华大学出版社|20001028|1\n",
      "30|数据库及应用|孙家萧|清华大学出版社|20000619|1\n",
      "31|软件工程|戴志名|电子工业出版社|20000324|3\n",
      "32|SOL使用手册|贺民|电子工业出版社|19990425|2\n",
      "33|模拟电路|邓英才|电子工业出版社|20000527|2\n",
      "34|集邮爱好者|李云|人民邮电出版社|20000630|1\n",
      "36|高等数学|李放|人民邮电出版社|20000812|1\n",
      "37|南方周末|邓光明|南方出版社|20000923|3\n",
      "38|十大旅游胜地|潭晓明|南方出版社|20000403|2\n",
      "39|黑幕|李仪|华光出版社|20000508|24\n"
     ]
    }
   ],
   "source": [
    "import csv\n",
    "\n",
    "with open('data/books.csv', 'r',  encoding='gbk') as rf:\n",
    "    reader = csv.reader(rf, dialect=csv.excel)\n",
    "    for row in reader:\n",
    "        print('|'.join(row))"
   ]
  },
  {
   "cell_type": "markdown",
   "id": "2b4c6385",
   "metadata": {},
   "source": [
    "### writer()函数"
   ]
  },
  {
   "cell_type": "code",
   "execution_count": 2,
   "id": "30446e8a",
   "metadata": {},
   "outputs": [
    {
     "name": "stdout",
     "output_type": "stream",
     "text": [
      "1|软件工程|戴国强|机械工业出版社|19980528|2\n",
      "2|汇编语言|李利光|北京大学出版社|19980318|2\n",
      "3|计算机基础|王飞|经济科学出版社|19980218|1\n",
      "4|FLASH精选|刘扬|中国纺织出版社|19990312|2\n",
      "5|java基础|王一|电子工业出版社|19990528|3\n",
      "6|世界杯|柳飞|世界出版社|19990412|2\n",
      "7|JAVA程序设计|张余|人民邮电出版社|19990613|1\n",
      "8|新概念3|余智|外语出版社|19990723|2\n",
      "9|军事要闻|张强|解放军出版社|19990722|3\n",
      "10|大众生活|许阳|电子出版社|19990819|3\n",
      "11|南方旅游|王爱国|南方出版社|19990930|2\n",
      "13|幽灵|钱力华|华光出版社|19991008|1\n",
      "14|期货分析|孙宝|飞鸟出版社|19991122|3\n",
      "15|人工智能|周未|机械工业出版社|19991223|3\n",
      "16|数据库系统概念|吴红|机械工业出版社|20000328|3\n",
      "17|计算机理论基础|戴家|机械工业出版社|20000218|4\n",
      "18|编译原理|郑键|机械工业出版社|20000415|2\n",
      "19|通讯与网络|欧阳杰|机械工业出版社|20000517|1\n",
      "20|现代操作系统|王小国|机械工业出版社|20010128|1\n",
      "21|网络基础|王大尉|北京大学出版社|20000617|1\n",
      "22|万紫千红|丛丽|北京大学出版社|20000702|3\n",
      "23|经济概论|思佳|北京大学出版社|20000819|3\n",
      "24|经济与科学|毛波|经济科学出版社|20000923|2\n",
      "25|计算机体系结构|方丹|机械工业出版社|20000328|4\n",
      "26|软件工程|牛田|经济科学出版社|20000328|4\n",
      "27|世界语言大观|候丙辉|经济科学出版社|20000814|2\n",
      "28|高级语言程序设计|寇国华|清华大学出版社|20000117|3\n",
      "29|操作系统概论|聂元名|清华大学出版社|20001028|1\n",
      "30|数据库及应用|孙家萧|清华大学出版社|20000619|1\n",
      "31|软件工程|戴志名|电子工业出版社|20000324|3\n",
      "32|SOL使用手册|贺民|电子工业出版社|19990425|2\n",
      "33|模拟电路|邓英才|电子工业出版社|20000527|2\n",
      "34|集邮爱好者|李云|人民邮电出版社|20000630|1\n",
      "36|高等数学|李放|人民邮电出版社|20000812|1\n",
      "37|南方周末|邓光明|南方出版社|20000923|3\n",
      "38|十大旅游胜地|潭晓明|南方出版社|20000403|2\n",
      "39|黑幕|李仪|华光出版社|20000508|24\n"
     ]
    }
   ],
   "source": [
    "import csv\n",
    "\n",
    "with open('data/books.csv', 'r', encoding='gbk') as rf:\n",
    "    reader = csv.reader(rf)\n",
    "    with open('data/books2.csv', 'w', newline='', encoding='gbk') as wf:\n",
    "        writer = csv.writer(wf, delimiter='\\t')\n",
    "        for row in reader:\n",
    "            print('|'.join(row))\n",
    "            writer.writerow(row)"
   ]
  },
  {
   "cell_type": "markdown",
   "id": "37fded20",
   "metadata": {},
   "source": [
    "## XML数据交换格式\n",
    "### XML文档结构\n",
    "1. 声明\n",
    "2. 根元素\n",
    "3. 子元素\n",
    "4. 属性\n",
    "5. 命名空间\n",
    "6. 限定名\n",
    "\n",
    "### 解析XML文档"
   ]
  },
  {
   "cell_type": "code",
   "execution_count": 3,
   "id": "3699c8b2",
   "metadata": {},
   "outputs": [
    {
     "name": "stdout",
     "output_type": "stream",
     "text": [
      "<class 'xml.etree.ElementTree.ElementTree'>\n",
      "<class 'xml.etree.ElementTree.Element'>\n",
      "Notes\n",
      "第0个Note元素，属性：{'id': '1'}\n",
      "    标签：CDate，内容：2018-3-21\n",
      "    标签：Content，内容：发布Python0\n",
      "    标签：UserID，内容：tony\n",
      "第1个Note元素，属性：{'id': '2'}\n",
      "    标签：CDate，内容：2018-3-22\n",
      "    标签：Content，内容：发布Python1\n",
      "    标签：UserID，内容：tony\n",
      "第2个Note元素，属性：{'id': '3'}\n",
      "    标签：CDate，内容：2018-3-23\n",
      "    标签：Content，内容：发布Python2\n",
      "    标签：UserID，内容：tony\n",
      "第3个Note元素，属性：{'id': '4'}\n",
      "    标签：CDate，内容：2018-3-24\n",
      "    标签：Content，内容：发布Python3\n",
      "    标签：UserID，内容：tony\n",
      "第4个Note元素，属性：{'id': '5'}\n",
      "    标签：CDate，内容：2018-3-25\n",
      "    标签：Content，内容：发布Python4\n",
      "    标签：UserID，内容：tony\n"
     ]
    }
   ],
   "source": [
    "import xml.etree.ElementTree as ET\n",
    "\n",
    "tree = ET.parse('data1/Notes.xml')  # 创建XML文档树\n",
    "print(type(tree))  # xml.etree.ElementTree.ElementTree\n",
    "\n",
    "root = tree.getroot()  # root是根元素\n",
    "print(type(root))  # xml.etree.ElementTree.Element\n",
    "print(root.tag)  # Notes\n",
    "\n",
    "for index, child in enumerate(root):\n",
    "    print('第{0}个{1}元素，属性：{2}'.format(index, child.tag, child.attrib))\n",
    "    for i, child_child in enumerate(child):\n",
    "        print('    标签：{0}，内容：{1}'.format(child_child.tag, child_child.text))"
   ]
  },
  {
   "cell_type": "markdown",
   "id": "843d2f0d",
   "metadata": {},
   "source": [
    "### XPath\n",
    "1. find(match,namespace=None)\n",
    "2. findall(match,namespace=None)\n",
    "3. findtext(match,default=None,namespace=None)"
   ]
  },
  {
   "cell_type": "code",
   "execution_count": 4,
   "id": "72b6eb38",
   "metadata": {},
   "outputs": [
    {
     "name": "stdout",
     "output_type": "stream",
     "text": [
      "Note {'id': '1'}\n",
      "2018-3-21\n",
      "Note {'id': '1'}\n",
      "2018-3-21\n",
      "Note {'id': '1'}\n",
      "Note {'id': '2'}\n",
      "Note {'id': '2'}\n",
      "Note {'id': '5'}\n",
      "Note {'id': '3'}\n"
     ]
    }
   ],
   "source": [
    "import xml.etree.ElementTree as ET\n",
    "\n",
    "tree = ET.parse('data1/Notes.xml')\n",
    "root = tree.getroot()\n",
    "\n",
    "node = root.find(\"./Note\")  # 当前节点下的第一个Note子节点\n",
    "print(node.tag, node.attrib)\n",
    "node = root.find(\"./Note/CDate\")  # Note子节点下的第一个CDate节点\n",
    "print(node.text)\n",
    "node = root.find(\"./Note/CDate/..\")  # Note节点\n",
    "print(node.tag, node.attrib)\n",
    "node = root.find(\".//CDate\")  # 当前节点查找所有后代节点中第一个CDate节点\n",
    "print(node.text)\n",
    "\n",
    "node = root.find(\"./Note[@id]\")  # 具有id属性Note节点\n",
    "print(node.tag, node.attrib)\n",
    "\n",
    "node = root.find(\"./Note[@id='2']\")  # id属性等于'2'的Note节点\n",
    "print(node.tag, node.attrib)\n",
    "\n",
    "node = root.find(\"./Note[2]\")  # 第二个Note节点\n",
    "print(node.tag, node.attrib)\n",
    "\n",
    "node = root.find(\"./Note[last()]\")  # 最后一个Note节点\n",
    "print(node.tag, node.attrib)\n",
    "\n",
    "node = root.find(\"./Note[last()-2]\")  # 倒数第三个Note节点\n",
    "print(node.tag, node.attrib)"
   ]
  },
  {
   "cell_type": "markdown",
   "id": "ed6e5494",
   "metadata": {},
   "source": [
    "## JSON数据交换格式\n",
    "### JSON文档结构\n",
    "### JSON数据编码"
   ]
  },
  {
   "cell_type": "code",
   "execution_count": 5,
   "id": "e22ff747",
   "metadata": {},
   "outputs": [
    {
     "name": "stdout",
     "output_type": "stream",
     "text": [
      "{'name': 'tony', 'age': 30, 'sex': True, 'a': [1, 3], 'b': ('A', 'B', 'C')}\n",
      "<class 'dict'>\n",
      "{\"name\": \"tony\", \"age\": 30, \"sex\": true, \"a\": [1, 3], \"b\": [\"A\", \"B\", \"C\"]}\n",
      "<class 'str'>\n",
      "{\n",
      "    \"name\": \"tony\",\n",
      "    \"age\": 30,\n",
      "    \"sex\": true,\n",
      "    \"a\": [\n",
      "        1,\n",
      "        3\n",
      "    ],\n",
      "    \"b\": [\n",
      "        \"A\",\n",
      "        \"B\",\n",
      "        \"C\"\n",
      "    ]\n",
      "}\n"
     ]
    }
   ],
   "source": [
    "import json\n",
    "\n",
    "# 准备数据\n",
    "py_dict = {'name': 'tony', 'age': 30, 'sex': True}  # 创建字典对象\n",
    "py_list = [1, 3]  # 创建列表对象\n",
    "py_tuple = ('A', 'B', 'C')  # 创建元组对象\n",
    "\n",
    "py_dict['a'] = py_list  # 添加列表到字典中\n",
    "py_dict['b'] = py_tuple  # 添加元组到字典中\n",
    "\n",
    "print(py_dict)\n",
    "print(type(py_dict))  # <class 'dict'>\n",
    "\n",
    "# 编码过程\n",
    "json_obj = json.dumps(py_dict)\n",
    "print(json_obj)\n",
    "print(type(json_obj))  # <class 'str'>\n",
    "\n",
    "# 编码过程\n",
    "json_obj = json.dumps(py_dict, indent=4)\n",
    "# 输出格式化后的字符串\n",
    "print(json_obj)\n",
    "\n",
    "# 写入JSON数据到data1.json文件\n",
    "with open('data2/data1.json', 'w') as f:\n",
    "    json.dump(py_dict, f)\n",
    "\n",
    "# 写入JSON数据到data2.json文件\n",
    "with open('data2/data2.json', 'w') as f:\n",
    "    json.dump(py_dict, f, indent=4)"
   ]
  },
  {
   "cell_type": "markdown",
   "id": "e443dbd4",
   "metadata": {},
   "source": [
    "### JSON数据解码"
   ]
  },
  {
   "cell_type": "code",
   "execution_count": 6,
   "id": "1ffd9a7f",
   "metadata": {},
   "outputs": [
    {
     "name": "stdout",
     "output_type": "stream",
     "text": [
      "<class 'dict'>\n",
      "tony\n",
      "30\n",
      "True\n",
      "[1, 3]\n",
      "['A', 'B', 'C']\n",
      "{'name': 'tony', 'age': 30, 'sex': True, 'a': [1, 3], 'b': ['A', 'B', 'C']}\n",
      "<class 'dict'>\n"
     ]
    }
   ],
   "source": [
    "import json\n",
    "\n",
    "# 准备数据\n",
    "json_obj = r'{\"name\": \"tony\", \"age\": 30, \"sex\": true, \"a\": [1, 3], \"b\": [\"A\", \"B\", \"C\"]}'\n",
    "#json_obj = \"{'name': 'tony', 'age': 30, 'sex': true, 'a': [1, 3], 'b': ['A', 'B', 'C']}\"\n",
    "\n",
    "py_dict = json.loads(json_obj)\n",
    "print(type(py_dict))  # <class 'dict'>\n",
    "print(py_dict['name'])\n",
    "print(py_dict['age'])\n",
    "print(py_dict['sex'])\n",
    "\n",
    "py_lista = py_dict['a']  # 取出列表对象\n",
    "print(py_lista)\n",
    "py_listb = py_dict['b']  # 取出列表对象\n",
    "print(py_listb)\n",
    "\n",
    "# 读取JSON数据到data2.json文件\n",
    "with open('data2/data2.json', 'r') as f:\n",
    "    data = json.load(f)\n",
    "    print(data)\n",
    "    print(type(data))  # <class 'dict'>"
   ]
  },
  {
   "cell_type": "markdown",
   "id": "3db13c96",
   "metadata": {},
   "source": [
    "## 配置文件\n",
    "### 配置文件结构\n",
    "### 读取配置文件"
   ]
  },
  {
   "cell_type": "code",
   "execution_count": 7,
   "id": "30532bc9",
   "metadata": {},
   "outputs": [
    {
     "name": "stdout",
     "output_type": "stream",
     "text": [
      "['Startup', 'Product', 'Windows 2000']\n",
      "['requireos', 'requiremsi', 'requireie']\n",
      "Windows 2000\n",
      "6.0.2600.0\n",
      "AcroRead.msi\n",
      "5\n",
      "4\n",
      "<class 'str'>\n",
      "<class 'int'>\n"
     ]
    }
   ],
   "source": [
    "import configparser\n",
    "\n",
    "config = configparser.ConfigParser()  # 创建配置解析器对象\n",
    "\n",
    "config.read('data3/Setup.ini', encoding='utf-8')  # 读取并解析配置文件\n",
    "\n",
    "print(config.sections())  # 返回所有的节\n",
    "\n",
    "section1 = config['Startup']  # 返回Startup节\n",
    "print(config.options('Startup'))\n",
    "\n",
    "print(section1['RequireOS'])\n",
    "print(section1['RequireIE'])\n",
    "\n",
    "print(config['Product']['msi'])\n",
    "\n",
    "print(config['Windows 2000']['MajorVersion'])  # 返回MajorVersion数据\n",
    "print(config['Windows 2000']['ServicePackMajor'])\n",
    "\n",
    "value = config.get('Windows 2000', 'MajorVersion')  # 返回MajorVersion数据\n",
    "print(type(value))  # <class 'str'>\n",
    "\n",
    "value = config.getint('Windows 2000', 'MajorVersion')  # 返回MajorVersion数据\n",
    "print(type(value))  # <class 'int'>"
   ]
  },
  {
   "cell_type": "markdown",
   "id": "9ce23597",
   "metadata": {},
   "source": [
    "### 写入配置文件"
   ]
  },
  {
   "cell_type": "code",
   "execution_count": 8,
   "id": "5d769d16",
   "metadata": {},
   "outputs": [],
   "source": [
    "import configparser\n",
    "\n",
    "config = configparser.ConfigParser()  # 创建配置解析器对象\n",
    "\n",
    "config.read('data3/Setup.ini', encoding='utf-8')  # 读取并解析配置文件\n",
    "\n",
    "# 写入配置文件\n",
    "config['Startup']['RequireMSI'] = '8.0'\n",
    "config['Product']['RequireMSI'] = '4.0'\n",
    "\n",
    "config.add_section('Section2')   #添加节\n",
    "config.set('Section2', 'name', 'Mac')   #添加配置项\n",
    "\n",
    "with open('data3/Setup.ini', 'w') as fw:\n",
    "    config.write(fw)"
   ]
  },
  {
   "cell_type": "code",
   "execution_count": null,
   "id": "2bf1f233",
   "metadata": {},
   "outputs": [],
   "source": []
  }
 ],
 "metadata": {
  "kernelspec": {
   "display_name": "Python 3 (ipykernel)",
   "language": "python",
   "name": "python3"
  },
  "language_info": {
   "codemirror_mode": {
    "name": "ipython",
    "version": 3
   },
   "file_extension": ".py",
   "mimetype": "text/x-python",
   "name": "python",
   "nbconvert_exporter": "python",
   "pygments_lexer": "ipython3",
   "version": "3.9.12"
  }
 },
 "nbformat": 4,
 "nbformat_minor": 5
}
