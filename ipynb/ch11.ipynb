{
 "cells": [
  {
   "cell_type": "markdown",
   "id": "631e3f67",
   "metadata": {},
   "source": [
    "# 面向对象编程\n",
    "## 面向对象概述oop\n",
    "## 面向对象三个基本特性\n",
    "### 封装性\n",
    "### 继承性\n",
    "### 多态性\n",
    "## 类和对象\n",
    "### 定义类\n",
    "```\n",
    "class 类名[(父类)]:\n",
    "    类体\n",
    "```"
   ]
  },
  {
   "cell_type": "code",
   "execution_count": 1,
   "id": "e42dd898",
   "metadata": {},
   "outputs": [],
   "source": [
    "class Animal(object):\n",
    "    \n",
    "    pass\n"
   ]
  },
  {
   "cell_type": "markdown",
   "id": "e66c20e2",
   "metadata": {},
   "source": [
    "### 创建和使用对象"
   ]
  },
  {
   "cell_type": "code",
   "execution_count": 2,
   "id": "42554c49",
   "metadata": {},
   "outputs": [],
   "source": [
    "animal=Animal()"
   ]
  },
  {
   "cell_type": "code",
   "execution_count": 3,
   "id": "07b8063b",
   "metadata": {},
   "outputs": [
    {
     "name": "stdout",
     "output_type": "stream",
     "text": [
      "<__main__.Animal object at 0x00000222D7FA4160>\n"
     ]
    }
   ],
   "source": [
    "print(animal)"
   ]
  },
  {
   "cell_type": "markdown",
   "id": "535b81db",
   "metadata": {},
   "source": [
    "### 实例变量"
   ]
  },
  {
   "cell_type": "code",
   "execution_count": 4,
   "id": "b7164e31",
   "metadata": {},
   "outputs": [
    {
     "name": "stdout",
     "output_type": "stream",
     "text": [
      "age:2\n",
      "sex:male\n",
      "weight:10.0\n"
     ]
    }
   ],
   "source": [
    "class Animal(object):\n",
    "    def __init__(self,age,sex,weight):\n",
    "        self.age=age\n",
    "        self.sex=sex\n",
    "        self.weight=weight\n",
    "\n",
    "animal=Animal(2,1,10.0)\n",
    "\n",
    "print('age:{0}'.format(animal.age))\n",
    "print('sex:{0}'.format('female' if animal.sex==0 else 'male'))\n",
    "print('weight:{0}'.format(animal.weight))"
   ]
  },
  {
   "cell_type": "markdown",
   "id": "41b81ea2",
   "metadata": {},
   "source": [
    "### 类变量"
   ]
  },
  {
   "cell_type": "code",
   "execution_count": 3,
   "id": "fbdbac34",
   "metadata": {},
   "outputs": [
    {
     "name": "stdout",
     "output_type": "stream",
     "text": [
      "account:tony\n",
      "amount:1800000.0\n",
      "interest_rate:0.0668\n"
     ]
    }
   ],
   "source": [
    "class Account:\n",
    "    interest_rate=0.0668\n",
    "    \n",
    "    def __init__(self,owner,amount):\n",
    "        self.owner=owner\n",
    "        self.amount=amount\n",
    "        \n",
    "account=Account('tony',1_800_000.0)\n",
    "print('account:{0}'.format(account.owner))\n",
    "print('amount:{0}'.format(account.amount))\n",
    "print('interest_rate:{0}'.format(account.interest_rate))"
   ]
  },
  {
   "cell_type": "markdown",
   "id": "115be521",
   "metadata": {},
   "source": [
    "### 构造方法"
   ]
  },
  {
   "cell_type": "code",
   "execution_count": 5,
   "id": "f9814d58",
   "metadata": {},
   "outputs": [
    {
     "name": "stdout",
     "output_type": "stream",
     "text": [
      "age:2\n",
      "sex:female\n",
      "weight:5.0\n"
     ]
    }
   ],
   "source": [
    "class Animal(object):\n",
    "    def __init__(self,age,sex=1,weight=0.0):\n",
    "        self.age=age\n",
    "        self.sex=sex\n",
    "        self.weight=weight\n",
    "        \n",
    "a1=Animal(2,1,10.0)\n",
    "a2=Animal(1,weight=5.0)\n",
    "a3=Animal(1,sex=0)\n",
    "print('age:{0}'.format(a1.age))\n",
    "print('sex:{0}'.format('female' if a3.sex==0 else 'male'))\n",
    "print('weight:{0}'.format(a2.weight))"
   ]
  },
  {
   "cell_type": "markdown",
   "id": "37749524",
   "metadata": {},
   "source": [
    "### 实例方法"
   ]
  },
  {
   "cell_type": "code",
   "execution_count": 8,
   "id": "6e8f2619",
   "metadata": {},
   "outputs": [
    {
     "name": "stdout",
     "output_type": "stream",
     "text": [
      "10.0\n",
      "eat\n",
      "10.05\n",
      "run\n",
      "10.040000000000001\n"
     ]
    }
   ],
   "source": [
    "class Animal(object):\n",
    "    def __init__(self,age,sex=1,weight=0.0):\n",
    "        self.age=age\n",
    "        self.sex=sex\n",
    "        self.weight=weight\n",
    "    def eat(self):\n",
    "        self.weight+=0.05\n",
    "        print('eat')\n",
    "    def run(self):\n",
    "        self.weight-=0.01\n",
    "        print('run')\n",
    "        \n",
    "a1=Animal(2,0,10.0)\n",
    "print(a1.weight)\n",
    "a1.eat()\n",
    "print(a1.weight)\n",
    "a1.run()\n",
    "print(a1.weight)"
   ]
  },
  {
   "cell_type": "markdown",
   "id": "c55bb3d8",
   "metadata": {},
   "source": [
    "### 类方法"
   ]
  },
  {
   "cell_type": "code",
   "execution_count": 1,
   "id": "4f50b086",
   "metadata": {},
   "outputs": [
    {
     "name": "stdout",
     "output_type": "stream",
     "text": [
      "801.6\n"
     ]
    }
   ],
   "source": [
    "class Account:\n",
    "    interest_rate=0.0668\n",
    "    \n",
    "    def __init__(self,owner,amount):\n",
    "        self.owner=owner\n",
    "        self.amount=amount\n",
    "        \n",
    "    @classmethod\n",
    "    def interest_by(cls,amt):\n",
    "        return cls.interest_rate*amt\n",
    "    \n",
    "interest=Account.interest_by(12000.0)\n",
    "print(interest)"
   ]
  },
  {
   "cell_type": "markdown",
   "id": "6b9ea763",
   "metadata": {},
   "source": [
    "### 静态方法"
   ]
  },
  {
   "cell_type": "code",
   "execution_count": 2,
   "id": "c10a1a38",
   "metadata": {},
   "outputs": [
    {
     "name": "stdout",
     "output_type": "stream",
     "text": [
      "801.6\n",
      "801.6\n"
     ]
    }
   ],
   "source": [
    "class Account:\n",
    "    interest_rate=0.0668\n",
    "    \n",
    "    def __init__(self,owner,amount):\n",
    "        self.owner=owner\n",
    "        self.amount=amount\n",
    "        \n",
    "    @classmethod\n",
    "    def interest_by(cls,amt):\n",
    "        return cls.interest_rate*amt\n",
    "    \n",
    "    @staticmethod\n",
    "    def interest_with(amt):\n",
    "        return Account.interest_by(amt)\n",
    "    \n",
    "interest1=Account.interest_by(12000.0)\n",
    "print(interest1)\n",
    "interest2=Account.interest_with(12000.0)\n",
    "print(interest2)"
   ]
  },
  {
   "cell_type": "markdown",
   "id": "f43b7a12",
   "metadata": {},
   "source": [
    "## 封装性\n",
    "### 私有变量"
   ]
  },
  {
   "cell_type": "code",
   "execution_count": 4,
   "id": "20c755b9",
   "metadata": {},
   "outputs": [
    {
     "ename": "AttributeError",
     "evalue": "'Animal' object has no attribute 'weight'",
     "output_type": "error",
     "traceback": [
      "\u001b[1;31m---------------------------------------------------------------------------\u001b[0m",
      "\u001b[1;31mAttributeError\u001b[0m                            Traceback (most recent call last)",
      "Input \u001b[1;32mIn [4]\u001b[0m, in \u001b[0;36m<cell line: 14>\u001b[1;34m()\u001b[0m\n\u001b[0;32m     11\u001b[0m         \u001b[38;5;28mprint\u001b[39m(\u001b[38;5;124m'\u001b[39m\u001b[38;5;124mrun\u001b[39m\u001b[38;5;124m'\u001b[39m)\n\u001b[0;32m     13\u001b[0m a1\u001b[38;5;241m=\u001b[39mAnimal(\u001b[38;5;241m2\u001b[39m,\u001b[38;5;241m0\u001b[39m,\u001b[38;5;241m10.0\u001b[39m)\n\u001b[1;32m---> 14\u001b[0m \u001b[38;5;28mprint\u001b[39m(\u001b[43ma1\u001b[49m\u001b[38;5;241;43m.\u001b[39;49m\u001b[43mweight\u001b[49m)\n\u001b[0;32m     15\u001b[0m a1\u001b[38;5;241m.\u001b[39meat()\n\u001b[0;32m     16\u001b[0m a1\u001b[38;5;241m.\u001b[39mrun()\n",
      "\u001b[1;31mAttributeError\u001b[0m: 'Animal' object has no attribute 'weight'"
     ]
    }
   ],
   "source": [
    "class Animal(object):\n",
    "    def __init__(self,age,sex=1,weight=0.0):\n",
    "        self.age=age\n",
    "        self.sex=sex\n",
    "        self.__weight=weight\n",
    "    def eat(self):\n",
    "        self.weight+=0.05\n",
    "        print('eat')\n",
    "    def run(self):\n",
    "        self.weight-=0.01\n",
    "        print('run')\n",
    "        \n",
    "a1=Animal(2,0,10.0)\n",
    "print(a1.weight)\n",
    "a1.eat()\n",
    "a1.run()"
   ]
  },
  {
   "cell_type": "markdown",
   "id": "9584572b",
   "metadata": {},
   "source": [
    "### 私有方法"
   ]
  },
  {
   "cell_type": "code",
   "execution_count": 5,
   "id": "716ade8b",
   "metadata": {},
   "outputs": [
    {
     "name": "stdout",
     "output_type": "stream",
     "text": [
      "eat\n"
     ]
    },
    {
     "ename": "AttributeError",
     "evalue": "'Animal' object has no attribute 'run'",
     "output_type": "error",
     "traceback": [
      "\u001b[1;31m---------------------------------------------------------------------------\u001b[0m",
      "\u001b[1;31mAttributeError\u001b[0m                            Traceback (most recent call last)",
      "Input \u001b[1;32mIn [5]\u001b[0m, in \u001b[0;36m<cell line: 15>\u001b[1;34m()\u001b[0m\n\u001b[0;32m     13\u001b[0m a1\u001b[38;5;241m=\u001b[39mAnimal(\u001b[38;5;241m2\u001b[39m,\u001b[38;5;241m0\u001b[39m,\u001b[38;5;241m10.0\u001b[39m)\n\u001b[0;32m     14\u001b[0m a1\u001b[38;5;241m.\u001b[39meat()\n\u001b[1;32m---> 15\u001b[0m \u001b[43ma1\u001b[49m\u001b[38;5;241;43m.\u001b[39;49m\u001b[43mrun\u001b[49m()\n",
      "\u001b[1;31mAttributeError\u001b[0m: 'Animal' object has no attribute 'run'"
     ]
    }
   ],
   "source": [
    "class Animal(object):\n",
    "    def __init__(self,age,sex=1,weight=0.0):\n",
    "        self.age=age\n",
    "        self.sex=sex\n",
    "        self.__weight=weight\n",
    "    def eat(self):\n",
    "        self.__weight+=0.05\n",
    "        print('eat')\n",
    "    def __run(self):\n",
    "        self.__weight-=0.01\n",
    "        print('run')\n",
    "        \n",
    "a1=Animal(2,0,10.0)\n",
    "a1.eat()\n",
    "a1.run()"
   ]
  },
  {
   "cell_type": "markdown",
   "id": "99a790ab",
   "metadata": {},
   "source": [
    "### 定义属性"
   ]
  },
  {
   "cell_type": "code",
   "execution_count": 7,
   "id": "344bac06",
   "metadata": {},
   "outputs": [
    {
     "name": "stdout",
     "output_type": "stream",
     "text": [
      "<bound method Animal.get_weight of <__main__.Animal object at 0x000002310CC31CA0>>\n",
      "<bound method Animal.get_weight of <__main__.Animal object at 0x000002310CC31CA0>>\n"
     ]
    }
   ],
   "source": [
    "class Animal(object):\n",
    "    def __init__(self,age,sex=1,weight=0.0):\n",
    "        self.age=age\n",
    "        self.sex=sex\n",
    "        self.__weight=weight\n",
    "        \n",
    "    def set_weight(self,weight):\n",
    "        self.__weight=weight\n",
    "    def get_weight(self):\n",
    "        return self.__weight\n",
    "    \n",
    "a1=Animal(2,0,10.0)\n",
    "print(a1.get_weight)\n",
    "a1.set_weight(123.45)\n",
    "print(a1.get_weight)"
   ]
  },
  {
   "cell_type": "code",
   "execution_count": 8,
   "id": "37546f1c",
   "metadata": {},
   "outputs": [
    {
     "name": "stdout",
     "output_type": "stream",
     "text": [
      "10.0\n",
      "123.45\n"
     ]
    }
   ],
   "source": [
    "class Animal(object):\n",
    "    def __init__(self,age,sex=1,weight=0.0):\n",
    "        self.age=age\n",
    "        self.sex=sex\n",
    "        self.__weight=weight\n",
    "        \n",
    "    @property\n",
    "    def weight(self):\n",
    "        return self.__weight\n",
    "    \n",
    "    @weight.setter\n",
    "    def weight(self,weight):\n",
    "        self.__weight=weight\n",
    "        \n",
    "a1=Animal(2,0,10.0)\n",
    "print(a1.weight)\n",
    "a1.weight=123.45\n",
    "print(a1.weight)"
   ]
  },
  {
   "cell_type": "markdown",
   "id": "d338138c",
   "metadata": {},
   "source": [
    "## 继承性\n",
    "### 继承概念"
   ]
  },
  {
   "cell_type": "code",
   "execution_count": 9,
   "id": "dea68acb",
   "metadata": {},
   "outputs": [],
   "source": [
    "class Person:\n",
    "    def __init__(self,name,age):\n",
    "        self.name=name\n",
    "        self.age=age\n",
    "        \n",
    "    def info(self):\n",
    "        template='Person[name={0},age={1}]'\n",
    "        s=template.format(self.name,self.age)\n",
    "        return s\n",
    "    "
   ]
  },
  {
   "cell_type": "code",
   "execution_count": 10,
   "id": "fc3c769f",
   "metadata": {},
   "outputs": [],
   "source": [
    "class Student(Person):\n",
    "    def __init__(self,name,age,school):\n",
    "        super().__init__(name,age)\n",
    "        self.school=school"
   ]
  },
  {
   "cell_type": "markdown",
   "id": "57b58680",
   "metadata": {},
   "source": [
    "### 重写方法"
   ]
  },
  {
   "cell_type": "code",
   "execution_count": 11,
   "id": "dc646632",
   "metadata": {},
   "outputs": [
    {
     "name": "stdout",
     "output_type": "stream",
     "text": [
      "gougouchi...\n"
     ]
    }
   ],
   "source": [
    "class Animal(object):\n",
    "    def __init__(self,age,sex=1,weight=0.0):\n",
    "        self.age=age\n",
    "        self.sex=sex\n",
    "        self.weight=weight\n",
    "        \n",
    "    def eat(self):\n",
    "        self.weight+=0.05\n",
    "        print('eat')\n",
    "        \n",
    "class Dog(Animal):\n",
    "    def eat(self):\n",
    "        self.weight+=0.1\n",
    "        print('gougouchi...')\n",
    "        \n",
    "a1=Dog(2,0,10.0)\n",
    "a1.eat()"
   ]
  },
  {
   "cell_type": "markdown",
   "id": "7f910eeb",
   "metadata": {},
   "source": [
    "### 多继承"
   ]
  },
  {
   "cell_type": "code",
   "execution_count": 12,
   "id": "1a3c529b",
   "metadata": {},
   "outputs": [
    {
     "name": "stdout",
     "output_type": "stream",
     "text": [
      "ParentClass1 run...\n",
      "ParentClass2 run...\n",
      "SubClass3 run...\n"
     ]
    }
   ],
   "source": [
    "class ParentClass1:\n",
    "    def run(self):\n",
    "        print('ParentClass1 run...')\n",
    "        \n",
    "class ParentClass2:\n",
    "    def run(self):\n",
    "        print('ParentClass2 run...')\n",
    "        \n",
    "class SubClass1(ParentClass1,ParentClass2):\n",
    "    pass\n",
    "\n",
    "class SubClass2(ParentClass2,ParentClass1):\n",
    "    pass\n",
    "\n",
    "class SubClass3(ParentClass1,ParentClass2):\n",
    "    def run(self):\n",
    "        print('SubClass3 run...')\n",
    "        \n",
    "sub1=SubClass1()\n",
    "sub1.run()\n",
    "\n",
    "sub2=SubClass2()\n",
    "sub2.run()\n",
    "\n",
    "sub3=SubClass3()\n",
    "sub3.run()"
   ]
  },
  {
   "cell_type": "markdown",
   "id": "557baf11",
   "metadata": {},
   "source": [
    "## 多态性\n",
    "### 多态概念"
   ]
  },
  {
   "cell_type": "code",
   "execution_count": 14,
   "id": "aa3ed30e",
   "metadata": {},
   "outputs": [
    {
     "name": "stdout",
     "output_type": "stream",
     "text": [
      "draw figure...\n",
      "draw Ellipse\n",
      "draw Triangle\n"
     ]
    }
   ],
   "source": [
    "class Figure:\n",
    "    def draw(self):\n",
    "        print('draw figure...')\n",
    "        \n",
    "class Ellipse(Figure):\n",
    "    def draw(self):\n",
    "        print('draw Ellipse')\n",
    "        \n",
    "class Triangle(Figure):\n",
    "    def draw(self):\n",
    "        print('draw Triangle')\n",
    "        \n",
    "f1=Figure()\n",
    "f1.draw()\n",
    "\n",
    "f2=Ellipse()\n",
    "f2.draw()\n",
    "\n",
    "f3=Triangle()\n",
    "f3.draw()"
   ]
  },
  {
   "cell_type": "markdown",
   "id": "64752e4d",
   "metadata": {},
   "source": [
    "### 类型检查"
   ]
  },
  {
   "cell_type": "code",
   "execution_count": 15,
   "id": "7086a0d2",
   "metadata": {},
   "outputs": [
    {
     "name": "stdout",
     "output_type": "stream",
     "text": [
      "draw figure...\n",
      "draw Ellipse\n",
      "draw Triangle\n",
      "False\n",
      "False\n",
      "True\n",
      "True\n"
     ]
    }
   ],
   "source": [
    "class Figure:\n",
    "    def draw(self):\n",
    "        print('draw figure...')\n",
    "        \n",
    "class Ellipse(Figure):\n",
    "    def draw(self):\n",
    "        print('draw Ellipse')\n",
    "        \n",
    "class Triangle(Figure):\n",
    "    def draw(self):\n",
    "        print('draw Triangle')\n",
    "        \n",
    "f1=Figure()\n",
    "f1.draw()\n",
    "\n",
    "f2=Ellipse()\n",
    "f2.draw()\n",
    "\n",
    "f3=Triangle()\n",
    "f3.draw()\n",
    "\n",
    "\n",
    "print(isinstance(f1,Triangle))\n",
    "print(isinstance(f2,Triangle))\n",
    "print(isinstance(f3,Triangle))\n",
    "print(isinstance(f2,Figure))"
   ]
  },
  {
   "cell_type": "markdown",
   "id": "2c894af4",
   "metadata": {},
   "source": [
    "### 鸭子类型"
   ]
  },
  {
   "cell_type": "code",
   "execution_count": 16,
   "id": "1839e397",
   "metadata": {},
   "outputs": [
    {
     "name": "stdout",
     "output_type": "stream",
     "text": [
      "animal run\n",
      "dog run\n",
      "car run\n"
     ]
    }
   ],
   "source": [
    "class Animal(object):\n",
    "    def run(self):\n",
    "        print('animal run')\n",
    "        \n",
    "class Dog(Animal):\n",
    "    def run(self):\n",
    "        print('dog run')\n",
    "        \n",
    "class Car(object):\n",
    "    def run(self):\n",
    "        print('car run')\n",
    "        \n",
    "def go(animal):\n",
    "    animal.run()\n",
    "    \n",
    "go(Animal())\n",
    "go(Dog())\n",
    "go(Car())"
   ]
  },
  {
   "cell_type": "markdown",
   "id": "a0cfdc7b",
   "metadata": {},
   "source": [
    "## Python根类——object\n",
    "两个重要方法\n",
    "* __str__()\n",
    "* __eq__(other)"
   ]
  },
  {
   "cell_type": "markdown",
   "id": "07f50cfa",
   "metadata": {},
   "source": [
    "### __str__()方法"
   ]
  },
  {
   "cell_type": "code",
   "execution_count": 17,
   "id": "02232163",
   "metadata": {},
   "outputs": [
    {
     "name": "stdout",
     "output_type": "stream",
     "text": [
      "Person [name=Tony,age=18]\n"
     ]
    }
   ],
   "source": [
    "class Person:\n",
    "    def __init__(self,name,age):\n",
    "        self.name=name\n",
    "        self.age=age\n",
    "        \n",
    "    def __str__(self):\n",
    "        template='Person [name={0},age={1}]'\n",
    "        s=template.format(self.name,self.age)\n",
    "        return s\n",
    "\n",
    "person=Person('Tony',18)\n",
    "print(person)"
   ]
  },
  {
   "cell_type": "markdown",
   "id": "e2c88584",
   "metadata": {},
   "source": [
    "### 对象比较方法"
   ]
  },
  {
   "cell_type": "code",
   "execution_count": 18,
   "id": "2d3b3db7",
   "metadata": {},
   "outputs": [
    {
     "name": "stdout",
     "output_type": "stream",
     "text": [
      "True\n"
     ]
    }
   ],
   "source": [
    "class Person:\n",
    "    def __init__(self,name,age):\n",
    "        self.name=name\n",
    "        self.age=age\n",
    "        \n",
    "    def __str__(self):\n",
    "        template='Person [name={0},age={1}]'\n",
    "        s=template.format(self.name,self.age)\n",
    "        return s\n",
    "    \n",
    "    def __eq__(self,other):\n",
    "        if self.name==other.name and self.age==other.age:\n",
    "            return True\n",
    "        else:\n",
    "            return False\n",
    "        \n",
    "p1=Person('Tony',18)\n",
    "p2=Person('Tony',18)\n",
    "\n",
    "print(p1==p2)"
   ]
  },
  {
   "cell_type": "markdown",
   "id": "b36a8824",
   "metadata": {},
   "source": [
    "## 枚举类\n",
    "### 定义枚举类"
   ]
  },
  {
   "cell_type": "code",
   "execution_count": 19,
   "id": "9d02eaf8",
   "metadata": {},
   "outputs": [
    {
     "name": "stdout",
     "output_type": "stream",
     "text": [
      "WeekDays.FRIDAY\n",
      "5\n",
      "FRIDAY\n"
     ]
    }
   ],
   "source": [
    "import enum\n",
    "\n",
    "class WeekDays(enum.Enum):\n",
    "    MONDAY=1\n",
    "    TUESDAY=2\n",
    "    WEDNESDAY=3\n",
    "    THURSDAY=4\n",
    "    FRIDAY=5\n",
    "    \n",
    "day=WeekDays.FRIDAY\n",
    "\n",
    "print(day)\n",
    "print(day.value)\n",
    "print(day.name)"
   ]
  },
  {
   "cell_type": "markdown",
   "id": "8f75418b",
   "metadata": {},
   "source": [
    "### 限制枚举类"
   ]
  },
  {
   "cell_type": "code",
   "execution_count": 21,
   "id": "da9a42dc",
   "metadata": {},
   "outputs": [
    {
     "name": "stdout",
     "output_type": "stream",
     "text": [
      "WeekDays.FRIDAY\n",
      "5\n",
      "FRIDAY\n"
     ]
    }
   ],
   "source": [
    "import enum\n",
    "\n",
    "@enum.unique\n",
    "\n",
    "class WeekDays(enum.IntEnum):\n",
    "    MONDAY=1\n",
    "    TUESDAY=2\n",
    "    WEDNESDAY=3\n",
    "    THURSDAY=4\n",
    "    FRIDAY=5\n",
    "    \n",
    "day=WeekDays.FRIDAY\n",
    "\n",
    "print(day)\n",
    "print(day.value)\n",
    "print(day.name)"
   ]
  },
  {
   "cell_type": "markdown",
   "id": "e8e06cdc",
   "metadata": {},
   "source": [
    "### 使用枚举类"
   ]
  },
  {
   "cell_type": "code",
   "execution_count": 22,
   "id": "e392573e",
   "metadata": {},
   "outputs": [
    {
     "name": "stdout",
     "output_type": "stream",
     "text": [
      "study\n"
     ]
    }
   ],
   "source": [
    "import enum\n",
    "\n",
    "@enum.unique\n",
    "\n",
    "class WeekDays(enum.IntEnum):\n",
    "    MONDAY=1\n",
    "    TUESDAY=2\n",
    "    WEDNESDAY=3\n",
    "    THURSDAY=4\n",
    "    FRIDAY=5\n",
    "    \n",
    "day=WeekDays.FRIDAY\n",
    "\n",
    "if day==WeekDays.MONDAY:\n",
    "    print('work')\n",
    "elif day==WeekDays.FRIDAY:\n",
    "    print('study')"
   ]
  },
  {
   "cell_type": "code",
   "execution_count": null,
   "id": "7f2a4c3f",
   "metadata": {},
   "outputs": [],
   "source": []
  }
 ],
 "metadata": {
  "kernelspec": {
   "display_name": "Python 3 (ipykernel)",
   "language": "python",
   "name": "python3"
  },
  "language_info": {
   "codemirror_mode": {
    "name": "ipython",
    "version": 3
   },
   "file_extension": ".py",
   "mimetype": "text/x-python",
   "name": "python",
   "nbconvert_exporter": "python",
   "pygments_lexer": "ipython3",
   "version": "3.9.12"
  }
 },
 "nbformat": 4,
 "nbformat_minor": 5
}
