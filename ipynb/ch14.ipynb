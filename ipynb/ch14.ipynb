{
 "cells": [
  {
   "cell_type": "markdown",
   "id": "82c5b043",
   "metadata": {},
   "source": [
    "# 正则表达式\n",
    "## 正则表达式字符串\n",
    "* 普通字符\n",
    "* 元字符\n",
    "### 元字符\n",
    "### 字符转义\n",
    "### 开始与结束字符"
   ]
  },
  {
   "cell_type": "code",
   "execution_count": 1,
   "id": "cb82c843",
   "metadata": {},
   "outputs": [
    {
     "name": "stdout",
     "output_type": "stream",
     "text": [
      "<re.Match object; span=(16, 45), match='tony_guan588@zhijieketang.com'>\n",
      "None\n",
      "<re.Match object; span=(0, 29), match='tony_guan588@zhijieketang.com'>\n"
     ]
    }
   ],
   "source": [
    "import re\n",
    "\n",
    "p1 = r'\\w+@zhijieketang\\.com'\n",
    "p2 = r'^\\w+@zhijieketang\\.com$'\n",
    "\n",
    "text = \"Tony's email is tony_guan588@zhijieketang.com.\"\n",
    "m = re.search(p1, text)\n",
    "print(m)  # 匹配\n",
    "m = re.search(p2, text)\n",
    "print(m)  # 不匹配\n",
    "\n",
    "email = 'tony_guan588@zhijieketang.com'\n",
    "m = re.search(p2, email)\n",
    "print(m)"
   ]
  },
  {
   "cell_type": "markdown",
   "id": "b2db4c98",
   "metadata": {},
   "source": [
    "## 字符类\n",
    "### 定义字符类"
   ]
  },
  {
   "cell_type": "code",
   "execution_count": 2,
   "id": "e307e81e",
   "metadata": {},
   "outputs": [
    {
     "name": "stdout",
     "output_type": "stream",
     "text": [
      "<re.Match object; span=(7, 11), match='Java'>\n",
      "None\n",
      "<re.Match object; span=(7, 11), match='java'>\n"
     ]
    }
   ],
   "source": [
    "import re\n",
    "\n",
    "p = r'[Jj]ava'\n",
    "# p = r'Java|java|JAVA'\n",
    "\n",
    "m = re.search(p, 'I like Java and Python.')\n",
    "print(m)  # 匹配\n",
    "\n",
    "m = re.search(p, 'I like JAVA and Python.')\n",
    "print(m)  # 不匹配\n",
    "\n",
    "m = re.search(p, 'I like java and Python.')\n",
    "print(m)  # 匹配"
   ]
  },
  {
   "cell_type": "markdown",
   "id": "059c5683",
   "metadata": {},
   "source": [
    "### 字符类取反"
   ]
  },
  {
   "cell_type": "code",
   "execution_count": 3,
   "id": "585affaf",
   "metadata": {},
   "outputs": [
    {
     "name": "stdout",
     "output_type": "stream",
     "text": [
      "None\n",
      "<re.Match object; span=(0, 1), match='P'>\n"
     ]
    }
   ],
   "source": [
    "import re\n",
    "\n",
    "p = r'[^0123456789]'\n",
    "\n",
    "m = re.search(p, '1000')\n",
    "print(m)  # 不匹配\n",
    "\n",
    "m = re.search(p, 'Python 3')\n",
    "print(m)  # 匹配"
   ]
  },
  {
   "cell_type": "markdown",
   "id": "fd3854f9",
   "metadata": {},
   "source": [
    "### 区间"
   ]
  },
  {
   "cell_type": "code",
   "execution_count": 4,
   "id": "a179ca85",
   "metadata": {},
   "outputs": [
    {
     "name": "stdout",
     "output_type": "stream",
     "text": [
      "<re.Match object; span=(0, 1), match='A'>\n",
      "None\n"
     ]
    }
   ],
   "source": [
    "import re\n",
    "\n",
    "m = re.search(r'[A-Za-z0-9]', 'A10.3')\n",
    "print(m)  # 匹配\n",
    "\n",
    "m = re.search(r'[0-25-7]', 'A3489C')\n",
    "print(m)  # 不匹配"
   ]
  },
  {
   "cell_type": "markdown",
   "id": "18908002",
   "metadata": {},
   "source": [
    "### 预定义字符类"
   ]
  },
  {
   "cell_type": "code",
   "execution_count": 5,
   "id": "c878c6b4",
   "metadata": {},
   "outputs": [
    {
     "name": "stdout",
     "output_type": "stream",
     "text": [
      "None\n",
      "<re.Match object; span=(0, 1), match='P'>\n",
      "<re.Match object; span=(0, 1), match='你'>\n"
     ]
    }
   ],
   "source": [
    "import re\n",
    "\n",
    "# p = r'[^0123456789]'\n",
    "p = r'\\D'\n",
    "\n",
    "m = re.search(p, '1000')\n",
    "print(m)  # 不匹配\n",
    "\n",
    "m = re.search(p, 'Python 3')\n",
    "print(m)  # 匹配\n",
    "\n",
    "text = '你们好Hello'\n",
    "m = re.search(r'\\w', text)\n",
    "print(m)  # 匹配"
   ]
  },
  {
   "cell_type": "markdown",
   "id": "56590aa4",
   "metadata": {},
   "source": [
    "## 量词\n",
    "### 量词的使用"
   ]
  },
  {
   "cell_type": "code",
   "execution_count": 6,
   "id": "fd823e1c",
   "metadata": {},
   "outputs": [
    {
     "name": "stdout",
     "output_type": "stream",
     "text": [
      "<re.Match object; span=(0, 1), match='8'>\n",
      "<re.Match object; span=(0, 0), match=''>\n",
      "<re.Match object; span=(0, 8), match='87654321'>\n",
      "<re.Match object; span=(0, 0), match=''>\n",
      "<re.Match object; span=(0, 8), match='87654321'>\n",
      "None\n",
      "8765432 <re.Match object; span=(0, 8), match='87654321'>\n",
      "None\n",
      "<re.Match object; span=(0, 8), match='87654321'>\n",
      "None\n"
     ]
    }
   ],
   "source": [
    "import re\n",
    "\n",
    "m = re.search(r'\\d?', '87654321')  # 出现数字一次\n",
    "print(m)  # 匹配字符'8'\n",
    "\n",
    "m = re.search(r'\\d?', 'ABC')  # 出现数字零次\n",
    "print(m)  # 匹配字符''\n",
    "\n",
    "m = re.search(r'\\d*', '87654321')  # 出现数字多次\n",
    "print(m)  # 匹配字符'87654321'\n",
    "\n",
    "m = re.search(r'\\d*', 'ABC')  # 出现数字零次\n",
    "print(m)  # 匹配字符''\n",
    "\n",
    "m = re.search(r'\\d+', '87654321')  # 出现数字多次\n",
    "print(m)  # 匹配字符'87654321'\n",
    "\n",
    "m = re.search(r'\\d+', 'ABC')\n",
    "print(m)  # 不匹配\n",
    "\n",
    "m = re.search(r'\\d{8}', '87654321')  # 出现数字8次\n",
    "print('8765432', m)  # 匹配字符'87654321'\n",
    "\n",
    "m = re.search(r'\\d{8}', 'ABC')\n",
    "print(m)  # 不匹配\n",
    "\n",
    "m = re.search(r'\\d{7,8}', '87654321')  # 出现数字8次\n",
    "print(m)  # 匹配字符'87654321'\n",
    "\n",
    "m = re.search(r'\\d{9,}', '87654321')\n",
    "print(m)  # 不匹配\n"
   ]
  },
  {
   "cell_type": "markdown",
   "id": "39d512a6",
   "metadata": {},
   "source": [
    "### 贪婪量词和懒惰量词"
   ]
  },
  {
   "cell_type": "code",
   "execution_count": 7,
   "id": "8e70768c",
   "metadata": {},
   "outputs": [
    {
     "name": "stdout",
     "output_type": "stream",
     "text": [
      "<re.Match object; span=(0, 8), match='87654321'>\n",
      "<re.Match object; span=(0, 5), match='87654'>\n"
     ]
    }
   ],
   "source": [
    "import re\n",
    "\n",
    "# 使用贪婪量词\n",
    "m = re.search(r'\\d{5,8}', '87654321')  # 出现数字8次\n",
    "print(m)  # 匹配字符'87654321'\n",
    "\n",
    "# 使用惰性量词\n",
    "m = re.search(r'\\d{5,8}?', '87654321')  # 出现数字5次\n",
    "print(m)  # 匹配字符'87654'"
   ]
  },
  {
   "cell_type": "markdown",
   "id": "fb7d705f",
   "metadata": {},
   "source": [
    "## 分组\n",
    "### 分组的使用"
   ]
  },
  {
   "cell_type": "code",
   "execution_count": 8,
   "id": "f577a327",
   "metadata": {},
   "outputs": [
    {
     "name": "stdout",
     "output_type": "stream",
     "text": [
      "<re.Match object; span=(0, 6), match='121121'>\n",
      "121121\n",
      "121\n",
      "<re.Match object; span=(0, 12), match='010-87654321'>\n",
      "010-87654321\n",
      "('010', '87654321')\n"
     ]
    }
   ],
   "source": [
    "import re\n",
    "\n",
    "p = r'(121){2}'\n",
    "m = re.search(p, '121121abcabc')\n",
    "print(m)  # 匹配\n",
    "print(m.group())  # 返回匹配字符串\n",
    "print(m.group(1))  # 获得第一组内容\n",
    "\n",
    "p = r'(\\d{3,4})-(\\d{7,8})'\n",
    "m = re.search(p, '010-87654321')\n",
    "print(m)  # 匹配\n",
    "print(m.group())  # 返回匹配字符串\n",
    "print(m.groups())  # 获得所有组内容"
   ]
  },
  {
   "cell_type": "markdown",
   "id": "c35c4da3",
   "metadata": {},
   "source": [
    "### 分组命名"
   ]
  },
  {
   "cell_type": "code",
   "execution_count": 9,
   "id": "681c28e5",
   "metadata": {},
   "outputs": [
    {
     "name": "stdout",
     "output_type": "stream",
     "text": [
      "<re.Match object; span=(0, 12), match='010-87654321'>\n",
      "010-87654321\n",
      "('010', '87654321')\n",
      "010\n",
      "87654321\n",
      "010\n",
      "87654321\n"
     ]
    }
   ],
   "source": [
    "import re\n",
    "\n",
    "p = r'(?P<area_code>\\d{3,4})-(?P<phone_code>\\d{7,8})'\n",
    "m = re.search(p, '010-87654321')\n",
    "print(m)  # 匹配\n",
    "print(m.group())  # 返回匹配字符串\n",
    "print(m.groups())  # 获得所有组内容\n",
    "\n",
    "# 通过组编号返回组内容\n",
    "print(m.group(1))\n",
    "print(m.group(2))\n",
    "\n",
    "# 通过组名返回组内容\n",
    "print(m.group('area_code'))\n",
    "print(m.group('phone_code'))"
   ]
  },
  {
   "cell_type": "markdown",
   "id": "189ffd00",
   "metadata": {},
   "source": [
    "### 反向引用分组"
   ]
  },
  {
   "cell_type": "code",
   "execution_count": 10,
   "id": "66924952",
   "metadata": {},
   "outputs": [
    {
     "name": "stdout",
     "output_type": "stream",
     "text": [
      "<re.Match object; span=(0, 10), match='<a>abc</a>'>\n",
      "None\n"
     ]
    }
   ],
   "source": [
    "import re\n",
    "\n",
    "# p = r'<([\\w]+)>.*</([\\w]+)>'\n",
    "p = r'<([\\w]+)>.*</\\1>'  # 使用反向引用\n",
    "\n",
    "m = re.search(p, '<a>abc</a>')\n",
    "print(m)  # 匹配\n",
    "\n",
    "m = re.search(p, '<a>abc</b>')\n",
    "print(m)  # 不匹配"
   ]
  },
  {
   "cell_type": "markdown",
   "id": "b4d5a312",
   "metadata": {},
   "source": [
    "### 非捕获分组"
   ]
  },
  {
   "cell_type": "code",
   "execution_count": 11,
   "id": "ee4ed5aa",
   "metadata": {},
   "outputs": [
    {
     "name": "stdout",
     "output_type": "stream",
     "text": [
      "['.jpg', '.jpg']\n",
      "['img1.jpg', 'img2.jpg']\n"
     ]
    }
   ],
   "source": [
    "import re\n",
    "\n",
    "s = 'img1.jpg,img2.jpg,img3.bmp'\n",
    "\n",
    "#捕获分组\n",
    "p = r'\\w+(\\.jpg)'\n",
    "mlist = re.findall(p, s)\n",
    "print(mlist)\n",
    "\n",
    "#非捕获分组\n",
    "p = r'\\w+(?:\\.jpg)'\n",
    "mlist = re.findall(p, s)\n",
    "print(mlist)"
   ]
  },
  {
   "cell_type": "markdown",
   "id": "0bd2ce13",
   "metadata": {},
   "source": [
    "## re模块\n",
    "### search（）和match（）函数"
   ]
  },
  {
   "cell_type": "code",
   "execution_count": 12,
   "id": "1f84442f",
   "metadata": {},
   "outputs": [
    {
     "name": "stdout",
     "output_type": "stream",
     "text": [
      "<re.Match object; span=(16, 45), match='tony_guan588@zhijieketang.com'>\n",
      "None\n",
      "<re.Match object; span=(0, 29), match='tony_guan588@zhijieketang.com'>\n",
      "<re.Match object; span=(0, 29), match='tony_guan588@zhijieketang.com'>\n",
      "match对象几个方法:\n",
      "tony_guan588@zhijieketang.com\n",
      "0\n",
      "29\n",
      "(0, 29)\n"
     ]
    }
   ],
   "source": [
    "import re\n",
    "\n",
    "p = r'\\w+@zhijieketang\\.com'\n",
    "\n",
    "text = \"Tony's email is tony_guan588@zhijieketang.com.\"\n",
    "m = re.search(p, text)\n",
    "print(m)  # 匹配\n",
    "\n",
    "m = re.match(p, text)\n",
    "print(m)  # 不匹配\n",
    "\n",
    "email = 'tony_guan588@zhijieketang.com'\n",
    "m = re.search(p, email)\n",
    "print(m)  # 匹配\n",
    "\n",
    "m = re.match(p, email)\n",
    "print(m)  # 匹配\n",
    "\n",
    "# match对象几个方法\n",
    "print('match对象几个方法:')\n",
    "print(m.group())\n",
    "print(m.start())\n",
    "print(m.end())\n",
    "print(m.span())"
   ]
  },
  {
   "cell_type": "markdown",
   "id": "7469812f",
   "metadata": {},
   "source": [
    "### findall()和finditer（）函数"
   ]
  },
  {
   "cell_type": "code",
   "execution_count": 13,
   "id": "562ccd1c",
   "metadata": {},
   "outputs": [
    {
     "name": "stdout",
     "output_type": "stream",
     "text": [
      "['Java', 'java']\n",
      "Java\n",
      "java\n"
     ]
    }
   ],
   "source": [
    "import re\n",
    "\n",
    "p = r'[Jj]ava'\n",
    "text = 'I like Java and java.'\n",
    "\n",
    "match_list = re.findall(p, text)\n",
    "print(match_list)  # 匹配\n",
    "\n",
    "match_iter = re.finditer(p, text)\n",
    "for m in match_iter:\n",
    "    print(m.group())\n"
   ]
  },
  {
   "cell_type": "markdown",
   "id": "6dcfaf34",
   "metadata": {},
   "source": [
    "### 字符串分割"
   ]
  },
  {
   "cell_type": "code",
   "execution_count": 14,
   "id": "77c9fe12",
   "metadata": {},
   "outputs": [
    {
     "name": "stdout",
     "output_type": "stream",
     "text": [
      "['AB', 'CD', 'EF']\n",
      "['AB', 'CD34EF']\n",
      "['AB', 'CD', 'EF']\n"
     ]
    }
   ],
   "source": [
    "import re\n",
    "\n",
    "p = r'\\d+'\n",
    "text = 'AB12CD34EF'\n",
    "\n",
    "clist = re.split(p, text)\n",
    "print(clist)\n",
    "\n",
    "clist = re.split(p, text, maxsplit=1)\n",
    "print(clist)\n",
    "\n",
    "clist = re.split(p, text, maxsplit=2)\n",
    "print(clist)\n"
   ]
  },
  {
   "cell_type": "markdown",
   "id": "e3d195fb",
   "metadata": {},
   "source": [
    "### 字符串替换"
   ]
  },
  {
   "cell_type": "code",
   "execution_count": 15,
   "id": "e77b9d59",
   "metadata": {},
   "outputs": [
    {
     "name": "stdout",
     "output_type": "stream",
     "text": [
      "AB CD EF\n",
      "AB CD34EF\n",
      "AB CD EF\n"
     ]
    }
   ],
   "source": [
    "import re\n",
    "\n",
    "p = r'\\d+'\n",
    "text = 'AB12CD34EF'\n",
    "\n",
    "repace_text = re.sub(p, ' ', text)\n",
    "print(repace_text)\n",
    "\n",
    "repace_text = re.sub(p, ' ', text, count=1)\n",
    "print(repace_text)\n",
    "\n",
    "repace_text = re.sub(p, ' ', text, count=2)\n",
    "print(repace_text)\n"
   ]
  },
  {
   "cell_type": "markdown",
   "id": "ea1b3df6",
   "metadata": {},
   "source": [
    "## 编译正则表达式\n",
    "re.compile(pattern[,flags=0])\n",
    "### 已编译正则表达式对象"
   ]
  },
  {
   "cell_type": "code",
   "execution_count": 1,
   "id": "f8b74bb2",
   "metadata": {},
   "outputs": [
    {
     "name": "stdout",
     "output_type": "stream",
     "text": [
      "<re.Match object; span=(16, 45), match='tony_guan588@zhijieketang.com'>\n",
      "None\n",
      "['Java', 'java']\n",
      "Java\n",
      "java\n",
      "['AB', 'CD', 'EF']\n",
      "AB CD EF\n"
     ]
    }
   ],
   "source": [
    "import re\n",
    "\n",
    "p = r'\\w+@zhijieketang\\.com'\n",
    "regex = re.compile(p)\n",
    "\n",
    "text = \"Tony's email is tony_guan588@zhijieketang.com.\"\n",
    "m = regex.search(text)\n",
    "print(m)  # 匹配\n",
    "\n",
    "m = regex.match(text)\n",
    "print(m)  # 不匹配\n",
    "\n",
    "p = r'[Jj]ava'\n",
    "regex = re.compile(p)\n",
    "text = 'I like Java and java.'\n",
    "\n",
    "match_list = regex.findall(text)\n",
    "print(match_list)  # 匹配\n",
    "\n",
    "match_iter = regex.finditer(text)\n",
    "for m in match_iter:\n",
    "    print(m.group())\n",
    "\n",
    "p = r'\\d+'\n",
    "regex = re.compile(p)\n",
    "text = 'AB12CD34EF'\n",
    "\n",
    "clist = regex.split(text)\n",
    "print(clist)\n",
    "\n",
    "repace_text = regex.sub(' ', text)\n",
    "print(repace_text)"
   ]
  },
  {
   "cell_type": "markdown",
   "id": "02957bee",
   "metadata": {},
   "source": [
    "### 编译标志\n",
    "#### ASCII和Unicode"
   ]
  },
  {
   "cell_type": "code",
   "execution_count": 2,
   "id": "1c31356b",
   "metadata": {},
   "outputs": [
    {
     "name": "stdout",
     "output_type": "stream",
     "text": [
      "<re.Match object; span=(0, 8), match='你们好Hello'>\n",
      "<re.Match object; span=(0, 8), match='你们好Hello'>\n",
      "<re.Match object; span=(3, 8), match='Hello'>\n",
      "None\n"
     ]
    }
   ],
   "source": [
    "import re\n",
    "\n",
    "text = '你们好Hello'\n",
    "\n",
    "p = r'\\w+'\n",
    "regex = re.compile(p, re.U)\n",
    "\n",
    "m = regex.search(text)\n",
    "print(m)  # 匹配\n",
    "\n",
    "m = regex.match(text)\n",
    "print(m)  # 匹配\n",
    "\n",
    "regex = re.compile(p, re.A)\n",
    "\n",
    "m = regex.search(text)\n",
    "print(m)  # 匹配\n",
    "\n",
    "m = regex.match(text)\n",
    "print(m)  # 不匹配"
   ]
  },
  {
   "cell_type": "markdown",
   "id": "6608993c",
   "metadata": {},
   "source": [
    "#### 忽略大小写"
   ]
  },
  {
   "cell_type": "code",
   "execution_count": 3,
   "id": "24412934",
   "metadata": {},
   "outputs": [
    {
     "name": "stdout",
     "output_type": "stream",
     "text": [
      "<re.Match object; span=(7, 22), match='Java and Python'>\n",
      "<re.Match object; span=(7, 22), match='JAVA and Python'>\n",
      "<re.Match object; span=(7, 22), match='java and Python'>\n"
     ]
    }
   ],
   "source": [
    "import re\n",
    "\n",
    "p = r'(java).*(python)'\n",
    "regex = re.compile(p, re.I)\n",
    "\n",
    "m = regex.search('I like Java and Python.')\n",
    "print(m)  # 匹配\n",
    "\n",
    "m = regex.search('I like JAVA and Python.')\n",
    "print(m)  # 匹配\n",
    "\n",
    "m = regex.search('I like java and Python.')\n",
    "print(m)  # 匹配"
   ]
  },
  {
   "cell_type": "markdown",
   "id": "fa9e544b",
   "metadata": {},
   "source": [
    "#### 点元字符匹配换行符"
   ]
  },
  {
   "cell_type": "code",
   "execution_count": 4,
   "id": "ba42df6d",
   "metadata": {},
   "outputs": [
    {
     "name": "stdout",
     "output_type": "stream",
     "text": [
      "<re.Match object; span=(0, 5), match='Hello'>\n",
      "<re.Match object; span=(0, 12), match='Hello\\nWorld.'>\n"
     ]
    }
   ],
   "source": [
    "import re\n",
    "\n",
    "p = r'.+'\n",
    "regex = re.compile(p)\n",
    "\n",
    "m = regex.search('Hello\\nWorld.')\n",
    "print(m)  # 匹配\n",
    "\n",
    "regex = re.compile(p, re.DOTALL)\n",
    "\n",
    "m = regex.search('Hello\\nWorld.')\n",
    "print(m)  # 匹配"
   ]
  },
  {
   "cell_type": "markdown",
   "id": "c20c511a",
   "metadata": {},
   "source": [
    "#### 多行模式"
   ]
  },
  {
   "cell_type": "code",
   "execution_count": 5,
   "id": "e9b806c5",
   "metadata": {},
   "outputs": [
    {
     "name": "stdout",
     "output_type": "stream",
     "text": [
      "None\n",
      "<re.Match object; span=(6, 11), match='World'>\n"
     ]
    }
   ],
   "source": [
    "import re\n",
    "\n",
    "p = r'^World'\n",
    "regex = re.compile(p)\n",
    "\n",
    "m = regex.search('Hello\\nWorld.')\n",
    "print(m)  # 不匹配\n",
    "\n",
    "regex = re.compile(p, re.M)\n",
    "\n",
    "m = regex.search('Hello\\nWorld.')\n",
    "print(m)  # 匹配"
   ]
  },
  {
   "cell_type": "markdown",
   "id": "f202012f",
   "metadata": {},
   "source": [
    "#### 详细模式"
   ]
  },
  {
   "cell_type": "code",
   "execution_count": 6,
   "id": "b8e80fa7",
   "metadata": {},
   "outputs": [
    {
     "name": "stdout",
     "output_type": "stream",
     "text": [
      "<re.Match object; span=(7, 22), match='Java and Python'>\n",
      "<re.Match object; span=(7, 22), match='JAVA and Python'>\n",
      "<re.Match object; span=(7, 22), match='java and Python'>\n"
     ]
    }
   ],
   "source": [
    "import re\n",
    "\n",
    "p = \"\"\"(java)     #匹配java字符串\n",
    "        .*        #匹配任意字符零或多个\n",
    "        (python)  #匹配python字符串\n",
    "    \"\"\"\n",
    "\n",
    "regex = re.compile(p, re.I | re.VERBOSE)\n",
    "\n",
    "m = regex.search('I like Java and Python.')\n",
    "print(m)  # 匹配\n",
    "\n",
    "m = regex.search('I like JAVA and Python.')\n",
    "print(m)  # 匹配\n",
    "\n",
    "m = regex.search('I like java and Python.')\n",
    "print(m)  # 匹配"
   ]
  },
  {
   "cell_type": "code",
   "execution_count": null,
   "id": "339c1460",
   "metadata": {},
   "outputs": [],
   "source": []
  }
 ],
 "metadata": {
  "kernelspec": {
   "display_name": "Python 3 (ipykernel)",
   "language": "python",
   "name": "python3"
  },
  "language_info": {
   "codemirror_mode": {
    "name": "ipython",
    "version": 3
   },
   "file_extension": ".py",
   "mimetype": "text/x-python",
   "name": "python",
   "nbconvert_exporter": "python",
   "pygments_lexer": "ipython3",
   "version": "3.9.12"
  }
 },
 "nbformat": 4,
 "nbformat_minor": 5
}
