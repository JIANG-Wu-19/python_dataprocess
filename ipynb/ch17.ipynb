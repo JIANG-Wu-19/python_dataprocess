{
 "cells": [
  {
   "cell_type": "markdown",
   "id": "925d6d10",
   "metadata": {},
   "source": [
    "# 数据库编程\n",
    "## 数据持久化技术概述\n",
    "1. 文本文件\n",
    "2. 数据库\n",
    "\n",
    "## MySQL数据库管理系统\n",
    "## Python DB-API\n",
    "### 建立数据连接\n",
    "### 创建游标\n",
    "## 案例：MySQL数据库CURD操作\n",
    "### 安装PyMySQL模块\n",
    "### 数据查询操作\n",
    "#### 有条件查询实现代码"
   ]
  },
  {
   "cell_type": "code",
   "execution_count": 1,
   "id": "6ecd21e2",
   "metadata": {},
   "outputs": [
    {
     "name": "stdout",
     "output_type": "stream",
     "text": [
      "id：1 - name：Tom\n",
      "id：2 - name：Ben\n"
     ]
    }
   ],
   "source": [
    "import pymysql\n",
    "\n",
    "# 1. 建立数据库连接\n",
    "connection = pymysql.connect(host='localhost',\n",
    "                             user='root',\n",
    "                             password='986370165',\n",
    "                             database='MyDB',\n",
    "                             charset='utf8')\n",
    "\n",
    "try:\n",
    "    # 2. 创建游标对象\n",
    "    with connection.cursor() as cursor:\n",
    "\n",
    "        # 3. 执行SQL操作\n",
    "        # sql = 'select name, userid from user where userid >%s'\n",
    "        # cursor.execute(sql, [0])\n",
    "        sql = 'select name, userid from user where userid >%(id)s'\n",
    "        cursor.execute(sql, {'id': 0})\n",
    "\n",
    "        # 4. 提取结果集\n",
    "        result_set = cursor.fetchall()\n",
    "\n",
    "        for row in result_set:\n",
    "            print('id：{0} - name：{1}'.format(row[1], row[0]))\n",
    "\n",
    "    # with代码块结束 5. 关闭游标\n",
    "\n",
    "finally:\n",
    "    # 6. 关闭数据连接\n",
    "    connection.close()"
   ]
  },
  {
   "cell_type": "markdown",
   "id": "e213b594",
   "metadata": {},
   "source": [
    "#### 无条件查询实现代码"
   ]
  },
  {
   "cell_type": "code",
   "execution_count": 2,
   "id": "eb326bb0",
   "metadata": {},
   "outputs": [
    {
     "name": "stdout",
     "output_type": "stream",
     "text": [
      "最大用户Id ：2\n"
     ]
    }
   ],
   "source": [
    "import pymysql\n",
    "\n",
    "# 1. 建立数据库连接\n",
    "connection = pymysql.connect(host='localhost',\n",
    "                             user='root',\n",
    "                             password='986370165',\n",
    "                             database='MyDB',\n",
    "                             charset='utf8')\n",
    "\n",
    "try:\n",
    "    # 2. 创建游标对象\n",
    "    with connection.cursor() as cursor:\n",
    "\n",
    "        # 3. 执行SQL操作\n",
    "        sql = 'select max(userid) from user'\n",
    "        cursor.execute(sql)\n",
    "\n",
    "        # 4. 提取结果集\n",
    "        row = cursor.fetchone()\n",
    "\n",
    "        if row is not None:\n",
    "            print('最大用户Id ：{0}'.format(row[0]))\n",
    "\n",
    "    # with代码块结束 5. 关闭游标\n",
    "\n",
    "finally:\n",
    "    # 6. 关闭数据连接\n",
    "    connection.close()"
   ]
  },
  {
   "cell_type": "markdown",
   "id": "cb1f0bb6",
   "metadata": {},
   "source": [
    "### 数据修改操作\n",
    "1. 数据插入"
   ]
  },
  {
   "cell_type": "code",
   "execution_count": 4,
   "id": "44d104de",
   "metadata": {},
   "outputs": [
    {
     "name": "stdout",
     "output_type": "stream",
     "text": [
      "最大用户Id ：2\n",
      "影响的数据行数：1\n"
     ]
    }
   ],
   "source": [
    "import pymysql\n",
    "\n",
    "\n",
    "# 查询最大用户Id\n",
    "def read_max_userid():\n",
    "    # 1. 建立数据库连接\n",
    "    connection = pymysql.connect(host='localhost',\n",
    "                                 user='root',\n",
    "                                 password='986370165',\n",
    "                                 database='MyDB',\n",
    "                                 charset='utf8')\n",
    "\n",
    "    try:\n",
    "        # 2. 创建游标对象\n",
    "        with connection.cursor() as cursor:\n",
    "\n",
    "            # 3. 执行SQL操作\n",
    "            sql = 'select max(userid) from user'\n",
    "            cursor.execute(sql)\n",
    "\n",
    "            # 4. 提取结果集\n",
    "            row = cursor.fetchone()\n",
    "\n",
    "            if row is not None:\n",
    "                print('最大用户Id ：{0}'.format(row[0]))\n",
    "                return row[0]\n",
    "\n",
    "        # with代码块结束 5. 关闭游标\n",
    "\n",
    "    finally:\n",
    "        # 6. 关闭数据连接\n",
    "        connection.close()\n",
    "\n",
    "\n",
    "# 1. 建立数据库连接\n",
    "connection = pymysql.connect(host='localhost',\n",
    "                             user='root',\n",
    "                             password='986370165',\n",
    "                             database='MyDB',\n",
    "                             charset='utf8')\n",
    "\n",
    "# 查询最大值\n",
    "maxid = read_max_userid()\n",
    "\n",
    "try:\n",
    "    # 2. 创建游标对象\n",
    "    with connection.cursor() as cursor:\n",
    "\n",
    "        # 3. 执行SQL操作\n",
    "        sql = 'insert into user (userid, name) values (%s,%s)'\n",
    "        nextid = maxid + 1\n",
    "        name = 'Tony' + str(nextid)\n",
    "        affectedcount = cursor.execute(sql, (nextid, name))\n",
    "\n",
    "        print('影响的数据行数：{0}'.format(affectedcount))\n",
    "        # 4. 提交数据库事物\n",
    "        connection.commit()\n",
    "\n",
    "    # with代码块结束 5. 关闭游标\n",
    "\n",
    "except pymysql.DatabaseError:\n",
    "    # 4. 回滚数据库事物\n",
    "    connection.rollback()\n",
    "finally:\n",
    "    # 6. 关闭数据连接\n",
    "    connection.close()"
   ]
  },
  {
   "cell_type": "markdown",
   "id": "b3352ffe",
   "metadata": {},
   "source": [
    "2. 数据更新"
   ]
  },
  {
   "cell_type": "code",
   "execution_count": 5,
   "id": "9705c51a",
   "metadata": {},
   "outputs": [
    {
     "name": "stdout",
     "output_type": "stream",
     "text": [
      "影响的数据行数：1\n"
     ]
    }
   ],
   "source": [
    "import pymysql\n",
    "\n",
    "# 1. 建立数据库连接\n",
    "connection = pymysql.connect(host='localhost',\n",
    "                             user='root',\n",
    "                             password='986370165',\n",
    "                             database='MyDB',\n",
    "                             charset='utf8')\n",
    "\n",
    "try:\n",
    "    # 2. 创建游标对象\n",
    "    with connection.cursor() as cursor:\n",
    "\n",
    "        # 3. 执行SQL操作\n",
    "        sql = 'update user set name = %s where userid > %s'\n",
    "        affectedcount = cursor.execute(sql, ('Tom', 2))\n",
    "\n",
    "        print('影响的数据行数：{0}'.format(affectedcount))\n",
    "        # 4. 提交数据库事物\n",
    "        connection.commit()\n",
    "\n",
    "    # with代码块结束 5. 关闭游标\n",
    "\n",
    "except pymysql.DatabaseError as e:\n",
    "    # 4. 回滚数据库事物\n",
    "    connection.rollback()\n",
    "    print(e)\n",
    "finally:\n",
    "    # 6. 关闭数据连接\n",
    "    connection.close()"
   ]
  },
  {
   "cell_type": "markdown",
   "id": "10a7a379",
   "metadata": {},
   "source": [
    "3. 数据删除"
   ]
  },
  {
   "cell_type": "code",
   "execution_count": 6,
   "id": "818bf42e",
   "metadata": {},
   "outputs": [
    {
     "name": "stdout",
     "output_type": "stream",
     "text": [
      "最大用户Id ：3\n",
      "影响的数据行数：1\n"
     ]
    }
   ],
   "source": [
    "import pymysql\n",
    "\n",
    "\n",
    "# 查询最大用户Id\n",
    "def read_max_userid():\n",
    "    # 1. 建立数据库连接\n",
    "    connection = pymysql.connect(host='localhost',\n",
    "                                 user='root',\n",
    "                                 password='986370165',\n",
    "                                 database='MyDB',\n",
    "                                 charset='utf8')\n",
    "\n",
    "    try:\n",
    "        # 2. 创建游标对象\n",
    "        with connection.cursor() as cursor:\n",
    "\n",
    "            # 3. 执行SQL操作\n",
    "            sql = 'select max(userid) from user'\n",
    "            cursor.execute(sql)\n",
    "\n",
    "            # 4. 提取结果集\n",
    "            row = cursor.fetchone()\n",
    "\n",
    "            if row is not None:\n",
    "                print('最大用户Id ：{0}'.format(row[0]))\n",
    "                return row[0]\n",
    "\n",
    "        # with代码块结束 5. 关闭游标\n",
    "\n",
    "    finally:\n",
    "        # 6. 关闭数据连接\n",
    "        connection.close()\n",
    "\n",
    "\n",
    "# 1. 建立数据库连接\n",
    "connection = pymysql.connect(host='localhost',\n",
    "                             user='root',\n",
    "                             password='986370165',\n",
    "                             database='MyDB',\n",
    "                             charset='utf8')\n",
    "\n",
    "# 查询最大值\n",
    "maxid = read_max_userid()\n",
    "\n",
    "try:\n",
    "    # 2. 创建游标对象\n",
    "    with connection.cursor() as cursor:\n",
    "\n",
    "        # 3. 执行SQL操作\n",
    "        sql = 'delete from user where userid = %s'\n",
    "        affectedcount = cursor.execute(sql, (maxid))\n",
    "\n",
    "        print('影响的数据行数：{0}'.format(affectedcount))\n",
    "        # 4. 提交数据库事物\n",
    "        connection.commit()\n",
    "\n",
    "    # with代码块结束 5. 关闭游标\n",
    "\n",
    "except pymysql.DatabaseError:\n",
    "    # 4. 回滚数据库事物\n",
    "    connection.rollback()\n",
    "finally:\n",
    "    # 6. 关闭数据连接\n",
    "    connection.close()"
   ]
  },
  {
   "cell_type": "markdown",
   "id": "013b663b",
   "metadata": {},
   "source": [
    "## NoSQL数据存储\n",
    "### dbm数据库的打开和关闭\n",
    "dbm.open(file,flag='r')\n",
    "\n",
    "'r','w','c','n'\n",
    "\n",
    "with dbm.open(file,'c') as db:\n",
    "\n",
    "    pass\n",
    "\n",
    "\n",
    "### dbm数据存储\n"
   ]
  },
  {
   "cell_type": "code",
   "execution_count": 7,
   "id": "f373da11",
   "metadata": {},
   "outputs": [
    {
     "name": "stdout",
     "output_type": "stream",
     "text": [
      "tony\n",
      "18\n"
     ]
    }
   ],
   "source": [
    "import dbm\n",
    "\n",
    "with dbm.open('mydb', 'c') as db:\n",
    "    db['name'] = 'tony'  # 更新数据\n",
    "    print(db['name'].decode())  # 取出数据\n",
    "\n",
    "    age = int(db.get('age', b'18').decode())  # 取出数据\n",
    "    print(age)\n",
    "\n",
    "    if 'age' in db:  # 判断是否存在age数据\n",
    "        db['age'] = '20'  # 或者 b'20'\n",
    "\n",
    "    del db['name']  # 删除name数据"
   ]
  },
  {
   "cell_type": "code",
   "execution_count": null,
   "id": "1b8c5d2d",
   "metadata": {},
   "outputs": [],
   "source": []
  }
 ],
 "metadata": {
  "kernelspec": {
   "display_name": "Python 3 (ipykernel)",
   "language": "python",
   "name": "python3"
  },
  "language_info": {
   "codemirror_mode": {
    "name": "ipython",
    "version": 3
   },
   "file_extension": ".py",
   "mimetype": "text/x-python",
   "name": "python",
   "nbconvert_exporter": "python",
   "pygments_lexer": "ipython3",
   "version": "3.9.12"
  }
 },
 "nbformat": 4,
 "nbformat_minor": 5
}
