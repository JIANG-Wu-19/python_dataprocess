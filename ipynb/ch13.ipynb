{
 "cells": [
  {
   "cell_type": "markdown",
   "id": "c19e825a",
   "metadata": {},
   "source": [
    "# 常用模块\n",
    "## math模块\n",
    "### 舍入函数"
   ]
  },
  {
   "cell_type": "code",
   "execution_count": 1,
   "id": "e59c4807",
   "metadata": {},
   "outputs": [],
   "source": [
    "import math"
   ]
  },
  {
   "cell_type": "code",
   "execution_count": 2,
   "id": "2909b653",
   "metadata": {},
   "outputs": [
    {
     "data": {
      "text/plain": [
       "2"
      ]
     },
     "execution_count": 2,
     "metadata": {},
     "output_type": "execute_result"
    }
   ],
   "source": [
    "math.ceil(1.4)"
   ]
  },
  {
   "cell_type": "code",
   "execution_count": 3,
   "id": "e825a0f6",
   "metadata": {},
   "outputs": [
    {
     "data": {
      "text/plain": [
       "1"
      ]
     },
     "execution_count": 3,
     "metadata": {},
     "output_type": "execute_result"
    }
   ],
   "source": [
    "math.floor(1.4)"
   ]
  },
  {
   "cell_type": "code",
   "execution_count": 4,
   "id": "da3592a3",
   "metadata": {},
   "outputs": [
    {
     "data": {
      "text/plain": [
       "1"
      ]
     },
     "execution_count": 4,
     "metadata": {},
     "output_type": "execute_result"
    }
   ],
   "source": [
    "round(1.4)"
   ]
  },
  {
   "cell_type": "code",
   "execution_count": 5,
   "id": "e555330f",
   "metadata": {},
   "outputs": [
    {
     "data": {
      "text/plain": [
       "2"
      ]
     },
     "execution_count": 5,
     "metadata": {},
     "output_type": "execute_result"
    }
   ],
   "source": [
    "math.ceil(1.5)"
   ]
  },
  {
   "cell_type": "code",
   "execution_count": 6,
   "id": "d5609335",
   "metadata": {},
   "outputs": [
    {
     "data": {
      "text/plain": [
       "1"
      ]
     },
     "execution_count": 6,
     "metadata": {},
     "output_type": "execute_result"
    }
   ],
   "source": [
    "math.floor(1.5)"
   ]
  },
  {
   "cell_type": "code",
   "execution_count": 7,
   "id": "93b60591",
   "metadata": {},
   "outputs": [
    {
     "data": {
      "text/plain": [
       "2"
      ]
     },
     "execution_count": 7,
     "metadata": {},
     "output_type": "execute_result"
    }
   ],
   "source": [
    "math.ceil(1.6)"
   ]
  },
  {
   "cell_type": "code",
   "execution_count": 8,
   "id": "5c4347bd",
   "metadata": {},
   "outputs": [
    {
     "data": {
      "text/plain": [
       "1"
      ]
     },
     "execution_count": 8,
     "metadata": {},
     "output_type": "execute_result"
    }
   ],
   "source": [
    "math.floor(1.6)"
   ]
  },
  {
   "cell_type": "code",
   "execution_count": 9,
   "id": "d835dc09",
   "metadata": {},
   "outputs": [
    {
     "data": {
      "text/plain": [
       "2"
      ]
     },
     "execution_count": 9,
     "metadata": {},
     "output_type": "execute_result"
    }
   ],
   "source": [
    "round(1.5)"
   ]
  },
  {
   "cell_type": "code",
   "execution_count": 10,
   "id": "1760e8f7",
   "metadata": {},
   "outputs": [
    {
     "data": {
      "text/plain": [
       "2"
      ]
     },
     "execution_count": 10,
     "metadata": {},
     "output_type": "execute_result"
    }
   ],
   "source": [
    "round(1.6)"
   ]
  },
  {
   "cell_type": "markdown",
   "id": "e46fc84c",
   "metadata": {},
   "source": [
    "### 幂和对数函数"
   ]
  },
  {
   "cell_type": "code",
   "execution_count": 11,
   "id": "9db5aa9c",
   "metadata": {},
   "outputs": [
    {
     "data": {
      "text/plain": [
       "3.0"
      ]
     },
     "execution_count": 11,
     "metadata": {},
     "output_type": "execute_result"
    }
   ],
   "source": [
    "math.log(8,2)"
   ]
  },
  {
   "cell_type": "code",
   "execution_count": 12,
   "id": "3a35158d",
   "metadata": {},
   "outputs": [
    {
     "data": {
      "text/plain": [
       "8.0"
      ]
     },
     "execution_count": 12,
     "metadata": {},
     "output_type": "execute_result"
    }
   ],
   "source": [
    "math.pow(2,3)"
   ]
  },
  {
   "cell_type": "code",
   "execution_count": 13,
   "id": "1490b881",
   "metadata": {},
   "outputs": [
    {
     "data": {
      "text/plain": [
       "2.0794415416798357"
      ]
     },
     "execution_count": 13,
     "metadata": {},
     "output_type": "execute_result"
    }
   ],
   "source": [
    "math.log(8)"
   ]
  },
  {
   "cell_type": "code",
   "execution_count": 14,
   "id": "37943fa2",
   "metadata": {},
   "outputs": [
    {
     "data": {
      "text/plain": [
       "1.2649110640673518"
      ]
     },
     "execution_count": 14,
     "metadata": {},
     "output_type": "execute_result"
    }
   ],
   "source": [
    "math.sqrt(1.6)"
   ]
  },
  {
   "cell_type": "markdown",
   "id": "b15c3cd7",
   "metadata": {},
   "source": [
    "### 三角函数"
   ]
  },
  {
   "cell_type": "code",
   "execution_count": 16,
   "id": "8b8ebe07",
   "metadata": {},
   "outputs": [
    {
     "data": {
      "text/plain": [
       "90.0"
      ]
     },
     "execution_count": 16,
     "metadata": {},
     "output_type": "execute_result"
    }
   ],
   "source": [
    "math.degrees(0.5*math.pi)"
   ]
  },
  {
   "cell_type": "code",
   "execution_count": 18,
   "id": "5fd50a3a",
   "metadata": {},
   "outputs": [
    {
     "data": {
      "text/plain": [
       "1.0"
      ]
     },
     "execution_count": 18,
     "metadata": {},
     "output_type": "execute_result"
    }
   ],
   "source": [
    "math.radians(180/math.pi)"
   ]
  },
  {
   "cell_type": "code",
   "execution_count": 19,
   "id": "3111f8af",
   "metadata": {},
   "outputs": [],
   "source": [
    "a=math.radians(45/math.pi)"
   ]
  },
  {
   "cell_type": "code",
   "execution_count": 20,
   "id": "34730100",
   "metadata": {},
   "outputs": [
    {
     "data": {
      "text/plain": [
       "0.25"
      ]
     },
     "execution_count": 20,
     "metadata": {},
     "output_type": "execute_result"
    }
   ],
   "source": [
    "a"
   ]
  },
  {
   "cell_type": "code",
   "execution_count": 21,
   "id": "086efe9a",
   "metadata": {},
   "outputs": [
    {
     "data": {
      "text/plain": [
       "0.24740395925452294"
      ]
     },
     "execution_count": 21,
     "metadata": {},
     "output_type": "execute_result"
    }
   ],
   "source": [
    "math.sin(a)"
   ]
  },
  {
   "cell_type": "code",
   "execution_count": 22,
   "id": "f9db81b1",
   "metadata": {},
   "outputs": [
    {
     "data": {
      "text/plain": [
       "0.25"
      ]
     },
     "execution_count": 22,
     "metadata": {},
     "output_type": "execute_result"
    }
   ],
   "source": [
    "math.asin(math.sin(a))"
   ]
  },
  {
   "cell_type": "code",
   "execution_count": 23,
   "id": "4e1b6cf9",
   "metadata": {},
   "outputs": [
    {
     "data": {
      "text/plain": [
       "0.24999591371483254"
      ]
     },
     "execution_count": 23,
     "metadata": {},
     "output_type": "execute_result"
    }
   ],
   "source": [
    "math.asin(0.2474)"
   ]
  },
  {
   "cell_type": "code",
   "execution_count": 25,
   "id": "b4079c7d",
   "metadata": {},
   "outputs": [
    {
     "data": {
      "text/plain": [
       "0.25"
      ]
     },
     "execution_count": 25,
     "metadata": {},
     "output_type": "execute_result"
    }
   ],
   "source": [
    "math.asin(0.24740395925452294)"
   ]
  },
  {
   "cell_type": "code",
   "execution_count": 26,
   "id": "319fae8c",
   "metadata": {},
   "outputs": [
    {
     "data": {
      "text/plain": [
       "0.9689124217106447"
      ]
     },
     "execution_count": 26,
     "metadata": {},
     "output_type": "execute_result"
    }
   ],
   "source": [
    "math.cos(a)"
   ]
  },
  {
   "cell_type": "code",
   "execution_count": 27,
   "id": "35aadc08",
   "metadata": {},
   "outputs": [
    {
     "data": {
      "text/plain": [
       "0.2500000000000002"
      ]
     },
     "execution_count": 27,
     "metadata": {},
     "output_type": "execute_result"
    }
   ],
   "source": [
    "math.acos(0.9689124217106447)"
   ]
  },
  {
   "cell_type": "code",
   "execution_count": 28,
   "id": "5d0ccacd",
   "metadata": {},
   "outputs": [
    {
     "data": {
      "text/plain": [
       "0.2500000000000002"
      ]
     },
     "execution_count": 28,
     "metadata": {},
     "output_type": "execute_result"
    }
   ],
   "source": [
    "math.acos(math.cos(a))"
   ]
  },
  {
   "cell_type": "code",
   "execution_count": 29,
   "id": "f9faeb6c",
   "metadata": {},
   "outputs": [
    {
     "data": {
      "text/plain": [
       "0.25534192122103627"
      ]
     },
     "execution_count": 29,
     "metadata": {},
     "output_type": "execute_result"
    }
   ],
   "source": [
    "math.tan(a)"
   ]
  },
  {
   "cell_type": "code",
   "execution_count": 30,
   "id": "f2b2347f",
   "metadata": {},
   "outputs": [
    {
     "data": {
      "text/plain": [
       "0.25"
      ]
     },
     "execution_count": 30,
     "metadata": {},
     "output_type": "execute_result"
    }
   ],
   "source": [
    "math.atan(math.tan(a))"
   ]
  },
  {
   "cell_type": "code",
   "execution_count": 31,
   "id": "240e25e4",
   "metadata": {},
   "outputs": [
    {
     "data": {
      "text/plain": [
       "0.25"
      ]
     },
     "execution_count": 31,
     "metadata": {},
     "output_type": "execute_result"
    }
   ],
   "source": [
    "math.atan(0.25534192122103627)"
   ]
  },
  {
   "cell_type": "markdown",
   "id": "b99ceffa",
   "metadata": {},
   "source": [
    "## random模块"
   ]
  },
  {
   "cell_type": "code",
   "execution_count": 35,
   "id": "b98620b8",
   "metadata": {},
   "outputs": [
    {
     "name": "stdout",
     "output_type": "stream",
     "text": [
      "0.0<=x<1.0 random\n",
      "0.3905863037934756\n",
      "0.8922407632329942\n",
      "0.21352047760461534\n",
      "0.5211523015401928\n",
      "0.30030870435664747\n",
      "0.9862984919490358\n",
      "0.21171993560160762\n",
      "0.6653280107488534\n",
      "0.32488043176197134\n",
      "0.3562099773397064\n",
      "0<x<5 random\n",
      "0\n",
      "0\n",
      "4\n",
      "0\n",
      "2\n",
      "1\n",
      "3\n",
      "3\n",
      "0\n",
      "4\n",
      "05<=x<10 random\n",
      "7\n",
      "8\n",
      "7\n",
      "6\n",
      "8\n",
      "5\n",
      "9\n",
      "8\n",
      "7\n",
      "7\n",
      "05<=x<=10 random\n",
      "5\n",
      "5\n",
      "8\n",
      "7\n",
      "7\n",
      "9\n",
      "9\n",
      "8\n",
      "7\n",
      "5\n"
     ]
    }
   ],
   "source": [
    "import random\n",
    "print('0.0<=x<1.0 random')\n",
    "for i in range(0,10):\n",
    "    x=random.random()\n",
    "    print(x)\n",
    "print('0<x<5 random')\n",
    "for i in range(0,10):\n",
    "    x=random.randrange(5)\n",
    "    print(x)\n",
    "print('05<=x<10 random')\n",
    "for i in range(0,10):\n",
    "    x=random.randrange(5,10)\n",
    "    print(x)\n",
    "print('05<=x<=10 random')\n",
    "for i in range(0,10):\n",
    "    x=random.randint(5,10)\n",
    "    print(x)"
   ]
  },
  {
   "cell_type": "markdown",
   "id": "dc694cdb",
   "metadata": {},
   "source": [
    "## datetime模块\n",
    "### datetime、date和time类\n",
    "#### datetime类"
   ]
  },
  {
   "cell_type": "code",
   "execution_count": 36,
   "id": "5af9731a",
   "metadata": {},
   "outputs": [],
   "source": [
    "import datetime"
   ]
  },
  {
   "cell_type": "code",
   "execution_count": 37,
   "id": "453a12a1",
   "metadata": {},
   "outputs": [
    {
     "ename": "ValueError",
     "evalue": "day is out of range for month",
     "output_type": "error",
     "traceback": [
      "\u001b[1;31m---------------------------------------------------------------------------\u001b[0m",
      "\u001b[1;31mValueError\u001b[0m                                Traceback (most recent call last)",
      "Input \u001b[1;32mIn [37]\u001b[0m, in \u001b[0;36m<cell line: 1>\u001b[1;34m()\u001b[0m\n\u001b[1;32m----> 1\u001b[0m dt\u001b[38;5;241m=\u001b[39m\u001b[43mdatetime\u001b[49m\u001b[38;5;241;43m.\u001b[39;49m\u001b[43mdatetime\u001b[49m\u001b[43m(\u001b[49m\u001b[38;5;241;43m2018\u001b[39;49m\u001b[43m,\u001b[49m\u001b[38;5;241;43m2\u001b[39;49m\u001b[43m,\u001b[49m\u001b[38;5;241;43m29\u001b[39;49m\u001b[43m)\u001b[49m\n",
      "\u001b[1;31mValueError\u001b[0m: day is out of range for month"
     ]
    }
   ],
   "source": [
    "dt=datetime.datetime(2018,2,29)"
   ]
  },
  {
   "cell_type": "code",
   "execution_count": 38,
   "id": "a6be0b7a",
   "metadata": {},
   "outputs": [],
   "source": [
    "dt=datetime.datetime(2018,2,28)"
   ]
  },
  {
   "cell_type": "code",
   "execution_count": 39,
   "id": "4b2192c1",
   "metadata": {},
   "outputs": [
    {
     "data": {
      "text/plain": [
       "datetime.datetime(2018, 2, 28, 0, 0)"
      ]
     },
     "execution_count": 39,
     "metadata": {},
     "output_type": "execute_result"
    }
   ],
   "source": [
    "dt"
   ]
  },
  {
   "cell_type": "code",
   "execution_count": 40,
   "id": "4e982110",
   "metadata": {},
   "outputs": [
    {
     "ename": "ValueError",
     "evalue": "minute must be in 0..59",
     "output_type": "error",
     "traceback": [
      "\u001b[1;31m---------------------------------------------------------------------------\u001b[0m",
      "\u001b[1;31mValueError\u001b[0m                                Traceback (most recent call last)",
      "Input \u001b[1;32mIn [40]\u001b[0m, in \u001b[0;36m<cell line: 1>\u001b[1;34m()\u001b[0m\n\u001b[1;32m----> 1\u001b[0m dt\u001b[38;5;241m=\u001b[39m\u001b[43mdatetime\u001b[49m\u001b[38;5;241;43m.\u001b[39;49m\u001b[43mdatetime\u001b[49m\u001b[43m(\u001b[49m\u001b[38;5;241;43m2018\u001b[39;49m\u001b[43m,\u001b[49m\u001b[38;5;241;43m2\u001b[39;49m\u001b[43m,\u001b[49m\u001b[38;5;241;43m28\u001b[39;49m\u001b[43m,\u001b[49m\u001b[38;5;241;43m23\u001b[39;49m\u001b[43m,\u001b[49m\u001b[38;5;241;43m60\u001b[39;49m\u001b[43m,\u001b[49m\u001b[38;5;241;43m59\u001b[39;49m\u001b[43m,\u001b[49m\u001b[38;5;241;43m10000\u001b[39;49m\u001b[43m)\u001b[49m\n",
      "\u001b[1;31mValueError\u001b[0m: minute must be in 0..59"
     ]
    }
   ],
   "source": [
    "dt=datetime.datetime(2018,2,28,23,60,59,10000)"
   ]
  },
  {
   "cell_type": "code",
   "execution_count": 41,
   "id": "a5991964",
   "metadata": {},
   "outputs": [],
   "source": [
    "dt=datetime.datetime(2018,2,28,23,30,59,10000)"
   ]
  },
  {
   "cell_type": "code",
   "execution_count": 42,
   "id": "bb81f339",
   "metadata": {},
   "outputs": [
    {
     "data": {
      "text/plain": [
       "datetime.datetime(2018, 2, 28, 23, 30, 59, 10000)"
      ]
     },
     "execution_count": 42,
     "metadata": {},
     "output_type": "execute_result"
    }
   ],
   "source": [
    "dt"
   ]
  },
  {
   "cell_type": "code",
   "execution_count": 43,
   "id": "a04532e5",
   "metadata": {},
   "outputs": [
    {
     "data": {
      "text/plain": [
       "datetime.datetime(2023, 3, 21, 18, 2, 6, 436821)"
      ]
     },
     "execution_count": 43,
     "metadata": {},
     "output_type": "execute_result"
    }
   ],
   "source": [
    "datetime.datetime.today()"
   ]
  },
  {
   "cell_type": "code",
   "execution_count": 44,
   "id": "66ec18d6",
   "metadata": {},
   "outputs": [
    {
     "data": {
      "text/plain": [
       "datetime.datetime(2023, 3, 21, 18, 2, 32, 837270)"
      ]
     },
     "execution_count": 44,
     "metadata": {},
     "output_type": "execute_result"
    }
   ],
   "source": [
    "datetime.datetime.now()"
   ]
  },
  {
   "cell_type": "code",
   "execution_count": 45,
   "id": "fde805a6",
   "metadata": {},
   "outputs": [
    {
     "data": {
      "text/plain": [
       "datetime.datetime(2023, 3, 21, 10, 2, 48, 100681)"
      ]
     },
     "execution_count": 45,
     "metadata": {},
     "output_type": "execute_result"
    }
   ],
   "source": [
    "datetime.datetime.utcnow()"
   ]
  },
  {
   "cell_type": "code",
   "execution_count": 46,
   "id": "dc648316",
   "metadata": {},
   "outputs": [
    {
     "data": {
      "text/plain": [
       "datetime.datetime(2001, 9, 9, 9, 46, 39, 999000)"
      ]
     },
     "execution_count": 46,
     "metadata": {},
     "output_type": "execute_result"
    }
   ],
   "source": [
    "datetime.datetime.fromtimestamp(999999999.999)"
   ]
  },
  {
   "cell_type": "code",
   "execution_count": 47,
   "id": "13a25e1d",
   "metadata": {},
   "outputs": [
    {
     "data": {
      "text/plain": [
       "datetime.datetime(2001, 9, 9, 1, 46, 39, 999000)"
      ]
     },
     "execution_count": 47,
     "metadata": {},
     "output_type": "execute_result"
    }
   ],
   "source": [
    "datetime.datetime.utcfromtimestamp(999999999.999)"
   ]
  },
  {
   "cell_type": "markdown",
   "id": "315cfcb1",
   "metadata": {},
   "source": [
    "#### date类"
   ]
  },
  {
   "cell_type": "code",
   "execution_count": 48,
   "id": "a1f2a88c",
   "metadata": {},
   "outputs": [
    {
     "ename": "ValueError",
     "evalue": "day is out of range for month",
     "output_type": "error",
     "traceback": [
      "\u001b[1;31m---------------------------------------------------------------------------\u001b[0m",
      "\u001b[1;31mValueError\u001b[0m                                Traceback (most recent call last)",
      "Input \u001b[1;32mIn [48]\u001b[0m, in \u001b[0;36m<cell line: 1>\u001b[1;34m()\u001b[0m\n\u001b[1;32m----> 1\u001b[0m d\u001b[38;5;241m=\u001b[39m\u001b[43mdatetime\u001b[49m\u001b[38;5;241;43m.\u001b[39;49m\u001b[43mdate\u001b[49m\u001b[43m(\u001b[49m\u001b[38;5;241;43m2018\u001b[39;49m\u001b[43m,\u001b[49m\u001b[38;5;241;43m2\u001b[39;49m\u001b[43m,\u001b[49m\u001b[38;5;241;43m29\u001b[39;49m\u001b[43m)\u001b[49m\n",
      "\u001b[1;31mValueError\u001b[0m: day is out of range for month"
     ]
    }
   ],
   "source": [
    "d=datetime.date(2018,2,29)"
   ]
  },
  {
   "cell_type": "code",
   "execution_count": 49,
   "id": "6710b8eb",
   "metadata": {},
   "outputs": [],
   "source": [
    "d=datetime.date(2018,2,28)"
   ]
  },
  {
   "cell_type": "code",
   "execution_count": 50,
   "id": "b4d074a0",
   "metadata": {},
   "outputs": [
    {
     "data": {
      "text/plain": [
       "datetime.date(2018, 2, 28)"
      ]
     },
     "execution_count": 50,
     "metadata": {},
     "output_type": "execute_result"
    }
   ],
   "source": [
    "d"
   ]
  },
  {
   "cell_type": "code",
   "execution_count": 51,
   "id": "c2858650",
   "metadata": {},
   "outputs": [
    {
     "data": {
      "text/plain": [
       "datetime.date(2023, 3, 21)"
      ]
     },
     "execution_count": 51,
     "metadata": {},
     "output_type": "execute_result"
    }
   ],
   "source": [
    "datetime.date.today()"
   ]
  },
  {
   "cell_type": "code",
   "execution_count": 52,
   "id": "6ba213f3",
   "metadata": {},
   "outputs": [
    {
     "data": {
      "text/plain": [
       "datetime.date(2001, 9, 9)"
      ]
     },
     "execution_count": 52,
     "metadata": {},
     "output_type": "execute_result"
    }
   ],
   "source": [
    "datetime.date.fromtimestamp(999999999.999)"
   ]
  },
  {
   "cell_type": "markdown",
   "id": "e1d453a5",
   "metadata": {},
   "source": [
    "#### time类"
   ]
  },
  {
   "cell_type": "code",
   "execution_count": 53,
   "id": "7afb8465",
   "metadata": {},
   "outputs": [
    {
     "ename": "ValueError",
     "evalue": "hour must be in 0..23",
     "output_type": "error",
     "traceback": [
      "\u001b[1;31m---------------------------------------------------------------------------\u001b[0m",
      "\u001b[1;31mValueError\u001b[0m                                Traceback (most recent call last)",
      "Input \u001b[1;32mIn [53]\u001b[0m, in \u001b[0;36m<cell line: 1>\u001b[1;34m()\u001b[0m\n\u001b[1;32m----> 1\u001b[0m \u001b[43mdatetime\u001b[49m\u001b[38;5;241;43m.\u001b[39;49m\u001b[43mtime\u001b[49m\u001b[43m(\u001b[49m\u001b[38;5;241;43m24\u001b[39;49m\u001b[43m,\u001b[49m\u001b[38;5;241;43m59\u001b[39;49m\u001b[43m,\u001b[49m\u001b[38;5;241;43m58\u001b[39;49m\u001b[43m,\u001b[49m\u001b[38;5;241;43m1999\u001b[39;49m\u001b[43m)\u001b[49m\n",
      "\u001b[1;31mValueError\u001b[0m: hour must be in 0..23"
     ]
    }
   ],
   "source": [
    "datetime.time(24,59,58,1999)"
   ]
  },
  {
   "cell_type": "code",
   "execution_count": 54,
   "id": "01445550",
   "metadata": {},
   "outputs": [
    {
     "data": {
      "text/plain": [
       "datetime.time(23, 59, 58, 1999)"
      ]
     },
     "execution_count": 54,
     "metadata": {},
     "output_type": "execute_result"
    }
   ],
   "source": [
    "datetime.time(23,59,58,1999)"
   ]
  },
  {
   "cell_type": "markdown",
   "id": "268a12c7",
   "metadata": {},
   "source": [
    "### 日期时间计算"
   ]
  },
  {
   "cell_type": "code",
   "execution_count": 55,
   "id": "5311b3c2",
   "metadata": {},
   "outputs": [
    {
     "data": {
      "text/plain": [
       "datetime.date(2023, 3, 21)"
      ]
     },
     "execution_count": 55,
     "metadata": {},
     "output_type": "execute_result"
    }
   ],
   "source": [
    "datetime.date.today()"
   ]
  },
  {
   "cell_type": "code",
   "execution_count": 56,
   "id": "0717f5a8",
   "metadata": {},
   "outputs": [],
   "source": [
    "d=datetime.date.today()"
   ]
  },
  {
   "cell_type": "code",
   "execution_count": 57,
   "id": "14b01e9d",
   "metadata": {},
   "outputs": [],
   "source": [
    "delta=datetime.timedelta(10)"
   ]
  },
  {
   "cell_type": "code",
   "execution_count": 58,
   "id": "1bd98188",
   "metadata": {},
   "outputs": [],
   "source": [
    "d+=delta"
   ]
  },
  {
   "cell_type": "code",
   "execution_count": 59,
   "id": "b3a2170b",
   "metadata": {},
   "outputs": [
    {
     "data": {
      "text/plain": [
       "datetime.date(2023, 3, 31)"
      ]
     },
     "execution_count": 59,
     "metadata": {},
     "output_type": "execute_result"
    }
   ],
   "source": [
    "d"
   ]
  },
  {
   "cell_type": "code",
   "execution_count": 60,
   "id": "79c8252d",
   "metadata": {},
   "outputs": [],
   "source": [
    "d=datetime.date(2018,1,1)"
   ]
  },
  {
   "cell_type": "code",
   "execution_count": 61,
   "id": "439234b6",
   "metadata": {},
   "outputs": [],
   "source": [
    "delta=datetime.timedelta(weeks=5)"
   ]
  },
  {
   "cell_type": "code",
   "execution_count": 62,
   "id": "7bcc2921",
   "metadata": {},
   "outputs": [],
   "source": [
    "d-=delta"
   ]
  },
  {
   "cell_type": "code",
   "execution_count": 63,
   "id": "dda21c04",
   "metadata": {},
   "outputs": [
    {
     "data": {
      "text/plain": [
       "datetime.date(2017, 11, 27)"
      ]
     },
     "execution_count": 63,
     "metadata": {},
     "output_type": "execute_result"
    }
   ],
   "source": [
    "d"
   ]
  },
  {
   "cell_type": "markdown",
   "id": "3a58a1b8",
   "metadata": {},
   "source": [
    "### 日期时间格式化和解析"
   ]
  },
  {
   "cell_type": "code",
   "execution_count": 64,
   "id": "68d817c6",
   "metadata": {},
   "outputs": [],
   "source": [
    "d=datetime.datetime.today()"
   ]
  },
  {
   "cell_type": "code",
   "execution_count": 67,
   "id": "69ad5d6d",
   "metadata": {},
   "outputs": [
    {
     "data": {
      "text/plain": [
       "'2023-03-21 18:10:33'"
      ]
     },
     "execution_count": 67,
     "metadata": {},
     "output_type": "execute_result"
    }
   ],
   "source": [
    "d.strftime('%Y-%m-%d %H:%M:%S')"
   ]
  },
  {
   "cell_type": "code",
   "execution_count": 66,
   "id": "330f0929",
   "metadata": {},
   "outputs": [
    {
     "data": {
      "text/plain": [
       "'2023-03-21'"
      ]
     },
     "execution_count": 66,
     "metadata": {},
     "output_type": "execute_result"
    }
   ],
   "source": [
    "d.strftime('%Y-%m-%d')"
   ]
  },
  {
   "cell_type": "code",
   "execution_count": 68,
   "id": "f5a7ea16",
   "metadata": {},
   "outputs": [],
   "source": [
    "str_date='2018-02-29 10:40:26'"
   ]
  },
  {
   "cell_type": "code",
   "execution_count": 69,
   "id": "a39302e5",
   "metadata": {},
   "outputs": [
    {
     "ename": "NameError",
     "evalue": "name 'in_date' is not defined",
     "output_type": "error",
     "traceback": [
      "\u001b[1;31m---------------------------------------------------------------------------\u001b[0m",
      "\u001b[1;31mNameError\u001b[0m                                 Traceback (most recent call last)",
      "Input \u001b[1;32mIn [69]\u001b[0m, in \u001b[0;36m<cell line: 1>\u001b[1;34m()\u001b[0m\n\u001b[1;32m----> 1\u001b[0m date\u001b[38;5;241m=\u001b[39mdatetime\u001b[38;5;241m.\u001b[39mdatetime\u001b[38;5;241m.\u001b[39mstrptime(\u001b[43min_date\u001b[49m,\u001b[38;5;124m'\u001b[39m\u001b[38;5;124m%\u001b[39m\u001b[38;5;124mY-\u001b[39m\u001b[38;5;124m%\u001b[39m\u001b[38;5;124mm-\u001b[39m\u001b[38;5;132;01m%d\u001b[39;00m\u001b[38;5;124m \u001b[39m\u001b[38;5;124m%\u001b[39m\u001b[38;5;124mH:\u001b[39m\u001b[38;5;124m%\u001b[39m\u001b[38;5;124mM:\u001b[39m\u001b[38;5;124m%\u001b[39m\u001b[38;5;124mS\u001b[39m\u001b[38;5;124m'\u001b[39m)\n",
      "\u001b[1;31mNameError\u001b[0m: name 'in_date' is not defined"
     ]
    }
   ],
   "source": [
    "date=datetime.datetime.strptime(in_date,'%Y-%m-%d %H:%M:%S')"
   ]
  },
  {
   "cell_type": "code",
   "execution_count": 70,
   "id": "e81de018",
   "metadata": {},
   "outputs": [],
   "source": [
    "str_date='2018-02-28 10:40:26'"
   ]
  },
  {
   "cell_type": "code",
   "execution_count": 72,
   "id": "e9c6dd64",
   "metadata": {},
   "outputs": [],
   "source": [
    "date=datetime.datetime.strptime(str_date,'%Y-%m-%d %H:%M:%S')"
   ]
  },
  {
   "cell_type": "code",
   "execution_count": 73,
   "id": "577df239",
   "metadata": {},
   "outputs": [
    {
     "data": {
      "text/plain": [
       "datetime.datetime(2018, 2, 28, 10, 40, 26)"
      ]
     },
     "execution_count": 73,
     "metadata": {},
     "output_type": "execute_result"
    }
   ],
   "source": [
    "date"
   ]
  },
  {
   "cell_type": "code",
   "execution_count": 74,
   "id": "2df0db57",
   "metadata": {},
   "outputs": [
    {
     "ename": "ValueError",
     "evalue": "unconverted data remains:  10:40:26",
     "output_type": "error",
     "traceback": [
      "\u001b[1;31m---------------------------------------------------------------------------\u001b[0m",
      "\u001b[1;31mValueError\u001b[0m                                Traceback (most recent call last)",
      "Input \u001b[1;32mIn [74]\u001b[0m, in \u001b[0;36m<cell line: 1>\u001b[1;34m()\u001b[0m\n\u001b[1;32m----> 1\u001b[0m date\u001b[38;5;241m=\u001b[39m\u001b[43mdatetime\u001b[49m\u001b[38;5;241;43m.\u001b[39;49m\u001b[43mdatetime\u001b[49m\u001b[38;5;241;43m.\u001b[39;49m\u001b[43mstrptime\u001b[49m\u001b[43m(\u001b[49m\u001b[43mstr_date\u001b[49m\u001b[43m,\u001b[49m\u001b[38;5;124;43m'\u001b[39;49m\u001b[38;5;124;43m%\u001b[39;49m\u001b[38;5;124;43mY-\u001b[39;49m\u001b[38;5;124;43m%\u001b[39;49m\u001b[38;5;124;43mm-\u001b[39;49m\u001b[38;5;132;43;01m%d\u001b[39;49;00m\u001b[38;5;124;43m'\u001b[39;49m\u001b[43m)\u001b[49m\n",
      "File \u001b[1;32mE:\\anaconda\\lib\\_strptime.py:568\u001b[0m, in \u001b[0;36m_strptime_datetime\u001b[1;34m(cls, data_string, format)\u001b[0m\n\u001b[0;32m    565\u001b[0m \u001b[38;5;28;01mdef\u001b[39;00m \u001b[38;5;21m_strptime_datetime\u001b[39m(\u001b[38;5;28mcls\u001b[39m, data_string, \u001b[38;5;28mformat\u001b[39m\u001b[38;5;241m=\u001b[39m\u001b[38;5;124m\"\u001b[39m\u001b[38;5;132;01m%a\u001b[39;00m\u001b[38;5;124m \u001b[39m\u001b[38;5;124m%\u001b[39m\u001b[38;5;124mb \u001b[39m\u001b[38;5;132;01m%d\u001b[39;00m\u001b[38;5;124m \u001b[39m\u001b[38;5;124m%\u001b[39m\u001b[38;5;124mH:\u001b[39m\u001b[38;5;124m%\u001b[39m\u001b[38;5;124mM:\u001b[39m\u001b[38;5;124m%\u001b[39m\u001b[38;5;124mS \u001b[39m\u001b[38;5;124m%\u001b[39m\u001b[38;5;124mY\u001b[39m\u001b[38;5;124m\"\u001b[39m):\n\u001b[0;32m    566\u001b[0m     \u001b[38;5;124;03m\"\"\"Return a class cls instance based on the input string and the\u001b[39;00m\n\u001b[0;32m    567\u001b[0m \u001b[38;5;124;03m    format string.\"\"\"\u001b[39;00m\n\u001b[1;32m--> 568\u001b[0m     tt, fraction, gmtoff_fraction \u001b[38;5;241m=\u001b[39m \u001b[43m_strptime\u001b[49m\u001b[43m(\u001b[49m\u001b[43mdata_string\u001b[49m\u001b[43m,\u001b[49m\u001b[43m \u001b[49m\u001b[38;5;28;43mformat\u001b[39;49m\u001b[43m)\u001b[49m\n\u001b[0;32m    569\u001b[0m     tzname, gmtoff \u001b[38;5;241m=\u001b[39m tt[\u001b[38;5;241m-\u001b[39m\u001b[38;5;241m2\u001b[39m:]\n\u001b[0;32m    570\u001b[0m     args \u001b[38;5;241m=\u001b[39m tt[:\u001b[38;5;241m6\u001b[39m] \u001b[38;5;241m+\u001b[39m (fraction,)\n",
      "File \u001b[1;32mE:\\anaconda\\lib\\_strptime.py:352\u001b[0m, in \u001b[0;36m_strptime\u001b[1;34m(data_string, format)\u001b[0m\n\u001b[0;32m    349\u001b[0m     \u001b[38;5;28;01mraise\u001b[39;00m \u001b[38;5;167;01mValueError\u001b[39;00m(\u001b[38;5;124m\"\u001b[39m\u001b[38;5;124mtime data \u001b[39m\u001b[38;5;132;01m%r\u001b[39;00m\u001b[38;5;124m does not match format \u001b[39m\u001b[38;5;132;01m%r\u001b[39;00m\u001b[38;5;124m\"\u001b[39m \u001b[38;5;241m%\u001b[39m\n\u001b[0;32m    350\u001b[0m                      (data_string, \u001b[38;5;28mformat\u001b[39m))\n\u001b[0;32m    351\u001b[0m \u001b[38;5;28;01mif\u001b[39;00m \u001b[38;5;28mlen\u001b[39m(data_string) \u001b[38;5;241m!=\u001b[39m found\u001b[38;5;241m.\u001b[39mend():\n\u001b[1;32m--> 352\u001b[0m     \u001b[38;5;28;01mraise\u001b[39;00m \u001b[38;5;167;01mValueError\u001b[39;00m(\u001b[38;5;124m\"\u001b[39m\u001b[38;5;124munconverted data remains: \u001b[39m\u001b[38;5;132;01m%s\u001b[39;00m\u001b[38;5;124m\"\u001b[39m \u001b[38;5;241m%\u001b[39m\n\u001b[0;32m    353\u001b[0m                       data_string[found\u001b[38;5;241m.\u001b[39mend():])\n\u001b[0;32m    355\u001b[0m iso_year \u001b[38;5;241m=\u001b[39m year \u001b[38;5;241m=\u001b[39m \u001b[38;5;28;01mNone\u001b[39;00m\n\u001b[0;32m    356\u001b[0m month \u001b[38;5;241m=\u001b[39m day \u001b[38;5;241m=\u001b[39m \u001b[38;5;241m1\u001b[39m\n",
      "\u001b[1;31mValueError\u001b[0m: unconverted data remains:  10:40:26"
     ]
    }
   ],
   "source": [
    " date=datetime.datetime.strptime(str_date,'%Y-%m-%d')"
   ]
  },
  {
   "cell_type": "markdown",
   "id": "e72347b4",
   "metadata": {},
   "source": [
    "### 时区"
   ]
  },
  {
   "cell_type": "code",
   "execution_count": 75,
   "id": "b5486071",
   "metadata": {},
   "outputs": [],
   "source": [
    "from datetime import datetime,timezone,timedelta"
   ]
  },
  {
   "cell_type": "code",
   "execution_count": 76,
   "id": "e3879e67",
   "metadata": {},
   "outputs": [],
   "source": [
    "utc_dt=datetime(2008,8,19,23,59,59,tzinfo=timezone.utc)"
   ]
  },
  {
   "cell_type": "code",
   "execution_count": 77,
   "id": "88610807",
   "metadata": {},
   "outputs": [
    {
     "data": {
      "text/plain": [
       "datetime.datetime(2008, 8, 19, 23, 59, 59, tzinfo=datetime.timezone.utc)"
      ]
     },
     "execution_count": 77,
     "metadata": {},
     "output_type": "execute_result"
    }
   ],
   "source": [
    "utc_dt"
   ]
  },
  {
   "cell_type": "code",
   "execution_count": 78,
   "id": "c695485c",
   "metadata": {},
   "outputs": [
    {
     "data": {
      "text/plain": [
       "'2008-08-19 23:59:59'"
      ]
     },
     "execution_count": 78,
     "metadata": {},
     "output_type": "execute_result"
    }
   ],
   "source": [
    "utc_dt.strftime('%Y-%m-%d %H:%M:%S')"
   ]
  },
  {
   "cell_type": "code",
   "execution_count": 79,
   "id": "91e6eb7e",
   "metadata": {},
   "outputs": [
    {
     "data": {
      "text/plain": [
       "'2008-08-19 23:59:59 +0000'"
      ]
     },
     "execution_count": 79,
     "metadata": {},
     "output_type": "execute_result"
    }
   ],
   "source": [
    "utc_dt.strftime('%Y-%m-%d %H:%M:%S %z')"
   ]
  },
  {
   "cell_type": "code",
   "execution_count": 80,
   "id": "a0b4bc29",
   "metadata": {},
   "outputs": [],
   "source": [
    "bj_tz=timezone(offset=timedelta(hours=8),name='Asia/Beijing')"
   ]
  },
  {
   "cell_type": "code",
   "execution_count": 81,
   "id": "3f45be82",
   "metadata": {},
   "outputs": [
    {
     "data": {
      "text/plain": [
       "datetime.timezone(datetime.timedelta(seconds=28800), 'Asia/Beijing')"
      ]
     },
     "execution_count": 81,
     "metadata": {},
     "output_type": "execute_result"
    }
   ],
   "source": [
    "bj_tz"
   ]
  },
  {
   "cell_type": "code",
   "execution_count": 82,
   "id": "63cb08bd",
   "metadata": {},
   "outputs": [],
   "source": [
    "bj_dt=utc_dt.astimezone(bj_tz)"
   ]
  },
  {
   "cell_type": "code",
   "execution_count": 83,
   "id": "f240f0bf",
   "metadata": {},
   "outputs": [
    {
     "data": {
      "text/plain": [
       "datetime.datetime(2008, 8, 20, 7, 59, 59, tzinfo=datetime.timezone(datetime.timedelta(seconds=28800), 'Asia/Beijing'))"
      ]
     },
     "execution_count": 83,
     "metadata": {},
     "output_type": "execute_result"
    }
   ],
   "source": [
    "bj_dt"
   ]
  },
  {
   "cell_type": "code",
   "execution_count": 84,
   "id": "c82f9503",
   "metadata": {},
   "outputs": [
    {
     "data": {
      "text/plain": [
       "'2008-08-20 07:59:59 Asia/Beijing'"
      ]
     },
     "execution_count": 84,
     "metadata": {},
     "output_type": "execute_result"
    }
   ],
   "source": [
    "bj_dt.strftime('%Y-%m-%d %H:%M:%S %Z')"
   ]
  },
  {
   "cell_type": "code",
   "execution_count": 85,
   "id": "201ed460",
   "metadata": {},
   "outputs": [
    {
     "data": {
      "text/plain": [
       "'2008-08-20 07:59:59 +0800'"
      ]
     },
     "execution_count": 85,
     "metadata": {},
     "output_type": "execute_result"
    }
   ],
   "source": [
    "bj_dt.strftime('%Y-%m-%d %H:%M:%S %z')"
   ]
  },
  {
   "cell_type": "code",
   "execution_count": 86,
   "id": "3750688a",
   "metadata": {},
   "outputs": [],
   "source": [
    "bj_tz=timezone(timedelta(hours=8))"
   ]
  },
  {
   "cell_type": "code",
   "execution_count": 87,
   "id": "a232d417",
   "metadata": {},
   "outputs": [],
   "source": [
    "bj_dt=utc_dt.astimezone(bj_tz)"
   ]
  },
  {
   "cell_type": "code",
   "execution_count": 88,
   "id": "25872121",
   "metadata": {},
   "outputs": [
    {
     "data": {
      "text/plain": [
       "'2008-08-20 07:59:59 +0800'"
      ]
     },
     "execution_count": 88,
     "metadata": {},
     "output_type": "execute_result"
    }
   ],
   "source": [
    "bj_dt.strftime('%Y-%m-%d %H:%M:%S %z')"
   ]
  },
  {
   "cell_type": "markdown",
   "id": "21a3999e",
   "metadata": {},
   "source": [
    "## logging日志模块\n",
    "### 日志级别"
   ]
  },
  {
   "cell_type": "code",
   "execution_count": 4,
   "id": "097a168e",
   "metadata": {},
   "outputs": [
    {
     "name": "stderr",
     "output_type": "stream",
     "text": [
      "2023-03-21 20:15:10,230-MainThread-root-<cell line: 5>-INFO-this is info\n",
      "2023-03-21 20:15:10,246-MainThread-root-<cell line: 6>-WARNING-this is warning\n",
      "2023-03-21 20:15:10,247-MainThread-root-<cell line: 7>-ERROR-this is error\n",
      "2023-03-21 20:15:10,248-MainThread-root-<cell line: 8>-CRITICAL-this is critical\n"
     ]
    }
   ],
   "source": [
    "import logging\n",
    "logging.basicConfig(level=logging.ERROR)\n",
    "\n",
    "logging.debug('this is debug')\n",
    "logging.info('this is info')\n",
    "logging.warning('this is warning')\n",
    "logging.error('this is error')\n",
    "logging.critical('this is critical')"
   ]
  },
  {
   "cell_type": "code",
   "execution_count": 3,
   "id": "97d42289",
   "metadata": {},
   "outputs": [
    {
     "name": "stderr",
     "output_type": "stream",
     "text": [
      "2023-03-21 20:14:59,694-MainThread-__main__-<cell line: 6>-INFO-this is info\n",
      "2023-03-21 20:14:59,694-MainThread-__main__-<cell line: 7>-WARNING-this is warning\n",
      "2023-03-21 20:14:59,698-MainThread-__main__-<cell line: 8>-ERROR-this is error\n",
      "2023-03-21 20:14:59,700-MainThread-__main__-<cell line: 9>-CRITICAL-this is critical\n"
     ]
    }
   ],
   "source": [
    "import logging\n",
    "logging.basicConfig(level=logging.DEBUG)\n",
    "logger=logging.getLogger(__name__)\n",
    "\n",
    "logger.debug('this is debug')\n",
    "logger.info('this is info')\n",
    "logger.warning('this is warning')\n",
    "logger.error('this is error')\n",
    "logger.critical('this is critical')"
   ]
  },
  {
   "cell_type": "markdown",
   "id": "df2e3252",
   "metadata": {},
   "source": [
    "### 日志信息格式化"
   ]
  },
  {
   "cell_type": "code",
   "execution_count": 2,
   "id": "fc4d0e31",
   "metadata": {},
   "outputs": [
    {
     "name": "stderr",
     "output_type": "stream",
     "text": [
      "2023-03-21 20:14:51,110-MainThread-__main__-<cell line: 8>-INFO-this is info\n",
      "2023-03-21 20:14:51,120-MainThread-__main__-<cell line: 9>-WARNING-this is warning\n",
      "2023-03-21 20:14:51,122-MainThread-__main__-<cell line: 10>-ERROR-this is error\n",
      "2023-03-21 20:14:51,123-MainThread-__main__-<cell line: 11>-CRITICAL-this is critical\n",
      "2023-03-21 20:14:51,124-MainThread-__main__-<cell line: 16>-INFO-use funlog\n",
      "2023-03-21 20:14:51,124-MainThread-__main__-funlog-INFO-enter funlog\n"
     ]
    }
   ],
   "source": [
    "import logging\n",
    "logging.basicConfig(level=logging.INFO,\n",
    "                    format='%(asctime)s-%(threadName)s-'\n",
    "                    '%(name)s-%(funcName)s-%(levelname)s-%(message)s')\n",
    "logger=logging.getLogger(__name__)\n",
    "\n",
    "logger.debug('this is debug')\n",
    "logger.info('this is info')\n",
    "logger.warning('this is warning')\n",
    "logger.error('this is error')\n",
    "logger.critical('this is critical')\n",
    "\n",
    "def funlog():\n",
    "    logger.info('enter funlog')\n",
    "    \n",
    "logger.info('use funlog')\n",
    "funlog()"
   ]
  },
  {
   "cell_type": "markdown",
   "id": "a15f7054",
   "metadata": {},
   "source": [
    "### 日志重定位"
   ]
  },
  {
   "cell_type": "code",
   "execution_count": 6,
   "id": "96f1d42e",
   "metadata": {},
   "outputs": [
    {
     "name": "stderr",
     "output_type": "stream",
     "text": [
      "2023-03-21 20:17:26,157-MainThread-__main__-<cell line: 8>-INFO-this is info\n",
      "2023-03-21 20:17:26,165-MainThread-__main__-<cell line: 9>-WARNING-this is warning\n",
      "2023-03-21 20:17:26,166-MainThread-__main__-<cell line: 10>-ERROR-this is error\n",
      "2023-03-21 20:17:26,167-MainThread-__main__-<cell line: 11>-CRITICAL-this is critical\n",
      "2023-03-21 20:17:26,169-MainThread-__main__-<cell line: 16>-INFO-use funlog\n",
      "2023-03-21 20:17:26,171-MainThread-__main__-funlog-INFO-enter funlog\n"
     ]
    }
   ],
   "source": [
    "import logging\n",
    "logging.basicConfig(level=logging.INFO,\n",
    "                    format='%(asctime)s-%(threadName)s-'\n",
    "                    '%(name)s-%(funcName)s-%(levelname)s-%(message)s')\n",
    "logger=logging.getLogger(__name__)\n",
    "\n",
    "logger.debug('this is debug')\n",
    "logger.info('this is info')\n",
    "logger.warning('this is warning')\n",
    "logger.error('this is error')\n",
    "logger.critical('this is critical')\n",
    "\n",
    "def funlog():\n",
    "    logger.info('enter funlog')\n",
    "    \n",
    "logger.info('use funlog')\n",
    "funlog()"
   ]
  },
  {
   "cell_type": "markdown",
   "id": "abc8a1fa",
   "metadata": {},
   "source": [
    "### 使用配置文件"
   ]
  },
  {
   "cell_type": "code",
   "execution_count": 8,
   "id": "285ad95a",
   "metadata": {},
   "outputs": [
    {
     "name": "stdout",
     "output_type": "stream",
     "text": [
      "this is debug\n",
      "this is info\n",
      "this is warning\n",
      "this is error\n",
      "this is critical\n",
      "use funlog\n",
      "enter funlog\n"
     ]
    }
   ],
   "source": [
    "import logging\n",
    "import logging.config\n",
    "\n",
    "logging.config.fileConfig(\"logger.conf\")\n",
    "logger=logging.getLogger('loggerl')\n",
    "\n",
    "logger.debug('this is debug')\n",
    "logger.info('this is info')\n",
    "logger.warning('this is warning')\n",
    "logger.error('this is error')\n",
    "logger.critical('this is critical')\n",
    "\n",
    "def funlog():\n",
    "    logger.info('enter funlog')\n",
    "logger.info('use funlog')\n",
    "funlog()"
   ]
  },
  {
   "cell_type": "code",
   "execution_count": null,
   "id": "4b7ba062",
   "metadata": {},
   "outputs": [],
   "source": []
  },
  {
   "cell_type": "code",
   "execution_count": null,
   "id": "0f1d5b74",
   "metadata": {},
   "outputs": [],
   "source": []
  }
 ],
 "metadata": {
  "kernelspec": {
   "display_name": "Python 3 (ipykernel)",
   "language": "python",
   "name": "python3"
  },
  "language_info": {
   "codemirror_mode": {
    "name": "ipython",
    "version": 3
   },
   "file_extension": ".py",
   "mimetype": "text/x-python",
   "name": "python",
   "nbconvert_exporter": "python",
   "pygments_lexer": "ipython3",
   "version": "3.9.12"
  }
 },
 "nbformat": 4,
 "nbformat_minor": 5
}
