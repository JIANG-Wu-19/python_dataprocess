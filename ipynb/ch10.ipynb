{
 "cells": [
  {
   "cell_type": "markdown",
   "id": "3d2399cf",
   "metadata": {},
   "source": [
    "# 函数式编程\n",
    "## 定义函数\n",
    "```\n",
    "def ---:\n",
    "    ---\n",
    "    return ---\n",
    "```"
   ]
  },
  {
   "cell_type": "code",
   "execution_count": 2,
   "id": "d093be2a",
   "metadata": {},
   "outputs": [
    {
     "name": "stdout",
     "output_type": "stream",
     "text": [
      "320*420的矩形面积134400\n"
     ]
    }
   ],
   "source": [
    "def rectangle_area(width,height):\n",
    "    area=width*height\n",
    "    return area\n",
    "\n",
    "r_area=rectangle_area(320,420)\n",
    "print(\"320*420的矩形面积{0}\".format(r_area))"
   ]
  },
  {
   "cell_type": "markdown",
   "id": "894682bd",
   "metadata": {},
   "source": [
    "## 函数参数\n",
    "### 使用关键字参数调用函数"
   ]
  },
  {
   "cell_type": "code",
   "execution_count": 4,
   "id": "97f74789",
   "metadata": {},
   "outputs": [
    {
     "name": "stdout",
     "output_type": "stream",
     "text": [
      "320*420矩形的面积是：134400\n",
      "320*420矩形的面积是：134400\n",
      "320*420矩形的面积是：134400\n"
     ]
    },
    {
     "ename": "TypeError",
     "evalue": "'height' is an invalid keyword argument for print()",
     "output_type": "error",
     "traceback": [
      "\u001b[1;31m---------------------------------------------------------------------------\u001b[0m",
      "\u001b[1;31mTypeError\u001b[0m                                 Traceback (most recent call last)",
      "Input \u001b[1;32mIn [4]\u001b[0m, in \u001b[0;36m<cell line: 8>\u001b[1;34m()\u001b[0m\n\u001b[0;32m      6\u001b[0m print_area(width\u001b[38;5;241m=\u001b[39m\u001b[38;5;241m320\u001b[39m,height\u001b[38;5;241m=\u001b[39m\u001b[38;5;241m420\u001b[39m)\n\u001b[0;32m      7\u001b[0m print_area(\u001b[38;5;241m320\u001b[39m,height\u001b[38;5;241m=\u001b[39m\u001b[38;5;241m420\u001b[39m)\n\u001b[1;32m----> 8\u001b[0m \u001b[38;5;28;43mprint\u001b[39;49m\u001b[43m(\u001b[49m\u001b[43mheight\u001b[49m\u001b[38;5;241;43m=\u001b[39;49m\u001b[38;5;241;43m420\u001b[39;49m\u001b[43m,\u001b[49m\u001b[43mwidth\u001b[49m\u001b[38;5;241;43m=\u001b[39;49m\u001b[38;5;241;43m320\u001b[39;49m\u001b[43m)\u001b[49m\n",
      "\u001b[1;31mTypeError\u001b[0m: 'height' is an invalid keyword argument for print()"
     ]
    }
   ],
   "source": [
    "def print_area(width,height):\n",
    "    area=width*height\n",
    "    print(\"{0}*{1}矩形的面积是：{2}\".format(width,height,area))\n",
    "    \n",
    "print_area(320,420)\n",
    "print_area(width=320,height=420)\n",
    "print_area(320,height=420)\n",
    "print(height=420,width=320)"
   ]
  },
  {
   "cell_type": "markdown",
   "id": "75334bbc",
   "metadata": {},
   "source": [
    "### 参数默认值"
   ]
  },
  {
   "cell_type": "code",
   "execution_count": 5,
   "id": "68143d18",
   "metadata": {},
   "outputs": [
    {
     "name": "stdout",
     "output_type": "stream",
     "text": [
      "制作一杯Latte\n",
      "制作一杯Cappuccino\n"
     ]
    }
   ],
   "source": [
    "def make_coffee(name=\"Cappuccino\"):\n",
    "    return \"制作一杯{0}\".format(name)\n",
    "\n",
    "coffee1=make_coffee(\"Latte\")\n",
    "coffee2=make_coffee()\n",
    "\n",
    "print(coffee1)\n",
    "print(coffee2)"
   ]
  },
  {
   "cell_type": "markdown",
   "id": "e5e6b28f",
   "metadata": {},
   "source": [
    "### 可变参数\n",
    "#### *可变参数"
   ]
  },
  {
   "cell_type": "code",
   "execution_count": 8,
   "id": "9972cde9",
   "metadata": {},
   "outputs": [
    {
     "name": "stdout",
     "output_type": "stream",
     "text": [
      "150.0\n",
      "110\n",
      "220\n",
      "220.0\n"
     ]
    }
   ],
   "source": [
    "def sum(*numbers,multiple=1):\n",
    "    total=0\n",
    "    for number in numbers:\n",
    "        total+=number\n",
    "    return total*multiple\n",
    "\n",
    "print(sum(100.0,20.0,30.0))\n",
    "print(sum(80,30))\n",
    "print(sum(30,80,multiple=2))\n",
    "double_tuple={50.0,60.0,0.0}\n",
    "print(sum(30,80,*double_tuple))"
   ]
  },
  {
   "cell_type": "markdown",
   "id": "d221899a",
   "metadata": {},
   "source": [
    "#### **可变参数"
   ]
  },
  {
   "cell_type": "code",
   "execution_count": 9,
   "id": "574642b9",
   "metadata": {},
   "outputs": [
    {
     "name": "stdout",
     "output_type": "stream",
     "text": [
      "----info----\n",
      "name -> tony\n",
      "age -> 18\n",
      "sex -> True\n",
      "----info----\n",
      "student_name = tony\n",
      "student_no = 1000\n",
      "----info----\n",
      "name = tony\n",
      "age = 18\n",
      "sex = True\n"
     ]
    }
   ],
   "source": [
    "def show(sep=':', **info):\n",
    "    print('----info----')\n",
    "    for key, value in info.items():\n",
    "        print('{0} {2} {1}'.format(key, value, sep))\n",
    "\n",
    "\n",
    "show('->', name='tony', age=18, sex = True)\n",
    "show(student_name='tony',student_no='1000',sep='=')\n",
    "stu_dict={'name':'tony','age':18}\n",
    "show(**stu_dict,sex=True,sep='=')"
   ]
  },
  {
   "cell_type": "markdown",
   "id": "459d1fb7",
   "metadata": {},
   "source": [
    "## 函数返回值\n",
    "### 无返回值函数"
   ]
  },
  {
   "cell_type": "code",
   "execution_count": 10,
   "id": "9b15d9fa",
   "metadata": {},
   "outputs": [
    {
     "name": "stdout",
     "output_type": "stream",
     "text": [
      "----info----\n",
      "name -> tony\n",
      "age -> 18\n",
      "sex -> True\n",
      "None\n",
      "150.0\n",
      "110\n"
     ]
    }
   ],
   "source": [
    "def show(sep=':', **info):\n",
    "    print('----info----')\n",
    "    for key, value in info.items():\n",
    "        print('{0} {2} {1}'.format(key, value, sep))\n",
    "    return\n",
    "\n",
    "result=show('->', name='tony', age=18, sex = True)\n",
    "print(result)\n",
    "\n",
    "def sum(*numbers,multiple=1):\n",
    "    total=0\n",
    "    for number in numbers:\n",
    "        total+=number\n",
    "    return total*multiple\n",
    "\n",
    "print(sum(100.0,20.0,30.0))\n",
    "print(sum(80,30))"
   ]
  },
  {
   "cell_type": "markdown",
   "id": "5a24f310",
   "metadata": {},
   "source": [
    "### 多返回值函数"
   ]
  },
  {
   "cell_type": "code",
   "execution_count": 11,
   "id": "8e70c5cf",
   "metadata": {},
   "outputs": [
    {
     "name": "stdout",
     "output_type": "stream",
     "text": [
      "物体位移：(600,-300)\n"
     ]
    }
   ],
   "source": [
    "def position(dt,speed):\n",
    "    posx=speed[0]*dt\n",
    "    posy=speed[1]*dt\n",
    "    return(posx,posy)\n",
    "\n",
    "move=position(60,(10,-5))\n",
    "print(\"物体位移：({0},{1})\".format(move[0],move[1]))"
   ]
  },
  {
   "cell_type": "markdown",
   "id": "2442b5ba",
   "metadata": {},
   "source": [
    "## 函数变量作用域"
   ]
  },
  {
   "cell_type": "code",
   "execution_count": 1,
   "id": "35571031",
   "metadata": {},
   "outputs": [
    {
     "name": "stdout",
     "output_type": "stream",
     "text": [
      "函数中x=20\n",
      "全局变量=20\n"
     ]
    }
   ],
   "source": [
    "x=20\n",
    "def print_value():\n",
    "    print(\"函数中x={0}\".format(x))\n",
    "    \n",
    "print_value()\n",
    "print(\"全局变量={0}\".format(x))"
   ]
  },
  {
   "cell_type": "code",
   "execution_count": 2,
   "id": "4776fa47",
   "metadata": {},
   "outputs": [
    {
     "name": "stdout",
     "output_type": "stream",
     "text": [
      "函数中x=10\n",
      "全局变量=20\n"
     ]
    }
   ],
   "source": [
    "x=20\n",
    "def print_value():\n",
    "    x=10\n",
    "    print(\"函数中x={0}\".format(x))\n",
    "    \n",
    "print_value()\n",
    "print(\"全局变量={0}\".format(x))"
   ]
  },
  {
   "cell_type": "code",
   "execution_count": 3,
   "id": "586ac305",
   "metadata": {},
   "outputs": [
    {
     "name": "stdout",
     "output_type": "stream",
     "text": [
      "函数中x=10\n",
      "全局变量=10\n"
     ]
    }
   ],
   "source": [
    "x=20\n",
    "def print_value():\n",
    "    global x\n",
    "    x=10\n",
    "    print(\"函数中x={0}\".format(x))\n",
    "    \n",
    "print_value()\n",
    "print(\"全局变量={0}\".format(x))"
   ]
  },
  {
   "cell_type": "markdown",
   "id": "820d0fd2",
   "metadata": {},
   "source": [
    "## 生成器"
   ]
  },
  {
   "cell_type": "code",
   "execution_count": 5,
   "id": "794df0fa",
   "metadata": {},
   "outputs": [
    {
     "name": "stdout",
     "output_type": "stream",
     "text": [
      "1 4 9 16 25 "
     ]
    }
   ],
   "source": [
    "def square(num):\n",
    "    n_list=[]\n",
    "    \n",
    "    for i in range(1,num+1):\n",
    "        n_list.append(i*i)\n",
    "        \n",
    "    return n_list\n",
    "\n",
    "for i in square(5):\n",
    "    print(i,end=' ')"
   ]
  },
  {
   "cell_type": "code",
   "execution_count": 6,
   "id": "ad1a7922",
   "metadata": {},
   "outputs": [
    {
     "name": "stdout",
     "output_type": "stream",
     "text": [
      "1 4 9 16 25 "
     ]
    }
   ],
   "source": [
    "def square(num):\n",
    "    n_list=[]\n",
    "    \n",
    "    for i in range(1,num+1):\n",
    "        yield i*i\n",
    "        \n",
    "    return n_list\n",
    "\n",
    "for i in square(5):\n",
    "    print(i,end=' ')"
   ]
  },
  {
   "cell_type": "code",
   "execution_count": 7,
   "id": "02beed4b",
   "metadata": {},
   "outputs": [],
   "source": [
    "def square(num):\n",
    "    for i in range(1,num+1):\n",
    "        yield i*i"
   ]
  },
  {
   "cell_type": "code",
   "execution_count": 8,
   "id": "898de9dc",
   "metadata": {},
   "outputs": [],
   "source": [
    "n_seq=square(5)"
   ]
  },
  {
   "cell_type": "code",
   "execution_count": 9,
   "id": "21f088b9",
   "metadata": {},
   "outputs": [
    {
     "data": {
      "text/plain": [
       "1"
      ]
     },
     "execution_count": 9,
     "metadata": {},
     "output_type": "execute_result"
    }
   ],
   "source": [
    "n_seq.__next__()"
   ]
  },
  {
   "cell_type": "code",
   "execution_count": 10,
   "id": "2a84e789",
   "metadata": {},
   "outputs": [
    {
     "data": {
      "text/plain": [
       "4"
      ]
     },
     "execution_count": 10,
     "metadata": {},
     "output_type": "execute_result"
    }
   ],
   "source": [
    "n_seq.__next__()"
   ]
  },
  {
   "cell_type": "code",
   "execution_count": 11,
   "id": "e3dec18f",
   "metadata": {},
   "outputs": [
    {
     "data": {
      "text/plain": [
       "9"
      ]
     },
     "execution_count": 11,
     "metadata": {},
     "output_type": "execute_result"
    }
   ],
   "source": [
    "n_seq.__next__()"
   ]
  },
  {
   "cell_type": "code",
   "execution_count": 12,
   "id": "7c5e278d",
   "metadata": {},
   "outputs": [
    {
     "data": {
      "text/plain": [
       "16"
      ]
     },
     "execution_count": 12,
     "metadata": {},
     "output_type": "execute_result"
    }
   ],
   "source": [
    "n_seq.__next__()"
   ]
  },
  {
   "cell_type": "code",
   "execution_count": 13,
   "id": "1dad98d7",
   "metadata": {},
   "outputs": [
    {
     "data": {
      "text/plain": [
       "25"
      ]
     },
     "execution_count": 13,
     "metadata": {},
     "output_type": "execute_result"
    }
   ],
   "source": [
    "n_seq.__next__()"
   ]
  },
  {
   "cell_type": "code",
   "execution_count": 14,
   "id": "62cf1875",
   "metadata": {},
   "outputs": [
    {
     "ename": "StopIteration",
     "evalue": "",
     "output_type": "error",
     "traceback": [
      "\u001b[1;31m---------------------------------------------------------------------------\u001b[0m",
      "\u001b[1;31mStopIteration\u001b[0m                             Traceback (most recent call last)",
      "Input \u001b[1;32mIn [14]\u001b[0m, in \u001b[0;36m<cell line: 1>\u001b[1;34m()\u001b[0m\n\u001b[1;32m----> 1\u001b[0m \u001b[43mn_seq\u001b[49m\u001b[38;5;241;43m.\u001b[39;49m\u001b[38;5;21;43m__next__\u001b[39;49m\u001b[43m(\u001b[49m\u001b[43m)\u001b[49m\n",
      "\u001b[1;31mStopIteration\u001b[0m: "
     ]
    }
   ],
   "source": [
    "n_seq.__next__()"
   ]
  },
  {
   "cell_type": "markdown",
   "id": "ba24eab5",
   "metadata": {},
   "source": [
    "## 嵌套函数"
   ]
  },
  {
   "cell_type": "code",
   "execution_count": 12,
   "id": "621b97ed",
   "metadata": {},
   "outputs": [
    {
     "name": "stdout",
     "output_type": "stream",
     "text": [
      "30\n"
     ]
    }
   ],
   "source": [
    "def calculate(n1,n2,opr):\n",
    "    multiple=2\n",
    "    \n",
    "    def add(a,b):\n",
    "        return (a+b)*multiple\n",
    "    \n",
    "    def sub(a,b):\n",
    "        return (a-b)*multiple\n",
    "    \n",
    "    if opr=='+':\n",
    "        return add(n1,n2)\n",
    "    else:\n",
    "        return sub(n1,n2)\n",
    "    \n",
    "print(calculate(10,5,'+'))"
   ]
  },
  {
   "cell_type": "markdown",
   "id": "0f419507",
   "metadata": {},
   "source": [
    "## 函数式编程基础\n",
    "### 函数类型"
   ]
  },
  {
   "cell_type": "code",
   "execution_count": 13,
   "id": "1f83ab9f",
   "metadata": {},
   "outputs": [
    {
     "name": "stdout",
     "output_type": "stream",
     "text": [
      "<class 'function'>\n",
      "10+5=15\n",
      "10-5=5\n"
     ]
    }
   ],
   "source": [
    "def calculate_fun(opr):\n",
    "    def add(a,b):\n",
    "        return a+b\n",
    "    \n",
    "    def sub(a,b):\n",
    "        return a-b\n",
    "    \n",
    "    if opr=='+':\n",
    "        return add\n",
    "    else:\n",
    "        return sub\n",
    "\n",
    "f1=calculate_fun('+')\n",
    "f2=calculate_fun('-')\n",
    "\n",
    "print(type(f1))\n",
    "\n",
    "print('10+5={0}'.format(f1(10,5)))\n",
    "print('10-5={0}'.format(f2(10,5)))"
   ]
  },
  {
   "cell_type": "markdown",
   "id": "e0344064",
   "metadata": {},
   "source": [
    "### Lamda表达式"
   ]
  },
  {
   "cell_type": "code",
   "execution_count": 14,
   "id": "91dd838f",
   "metadata": {},
   "outputs": [
    {
     "name": "stdout",
     "output_type": "stream",
     "text": [
      "<class 'function'>\n",
      "10+5=15\n",
      "10-5=5\n"
     ]
    }
   ],
   "source": [
    "def calculate_fun(opr):\n",
    "    if opr=='+':\n",
    "        return lambda a,b:(a+b)\n",
    "    else:\n",
    "        return lambda a,b:(a-b)\n",
    "\n",
    "f1=calculate_fun('+')\n",
    "f2=calculate_fun('-')\n",
    "\n",
    "print(type(f1))\n",
    "\n",
    "print('10+5={0}'.format(f1(10,5)))\n",
    "print('10-5={0}'.format(f2(10,5)))"
   ]
  },
  {
   "cell_type": "markdown",
   "id": "287d0851",
   "metadata": {},
   "source": [
    "### 三大基础函数\n",
    "#### filter()"
   ]
  },
  {
   "cell_type": "code",
   "execution_count": 16,
   "id": "1f978690",
   "metadata": {},
   "outputs": [
    {
     "name": "stdout",
     "output_type": "stream",
     "text": [
      "['tony', 'tom']\n"
     ]
    }
   ],
   "source": [
    "users=['tony','tom','ben','alex']\n",
    "users_filter=filter(lambda u:u.startswith('t'),users)\n",
    "print(list(users_filter))"
   ]
  },
  {
   "cell_type": "code",
   "execution_count": 17,
   "id": "64fd5c88",
   "metadata": {},
   "outputs": [
    {
     "name": "stdout",
     "output_type": "stream",
     "text": [
      "[2, 4, 6, 8, 10]\n"
     ]
    }
   ],
   "source": [
    "number_list=range(1,11)\n",
    "number_filter=filter(lambda it:it%2==0,number_list)\n",
    "print(list(number_filter))"
   ]
  },
  {
   "cell_type": "markdown",
   "id": "8706a4bd",
   "metadata": {},
   "source": [
    "#### map()"
   ]
  },
  {
   "cell_type": "code",
   "execution_count": 18,
   "id": "f55906e1",
   "metadata": {},
   "outputs": [
    {
     "name": "stdout",
     "output_type": "stream",
     "text": [
      "['tony', 'tom', 'ben', 'alex']\n"
     ]
    }
   ],
   "source": [
    "users=['tony','tom','ben','alex']\n",
    "users_map=map(lambda u:u.lower(),users)\n",
    "print(list(users_map))"
   ]
  },
  {
   "cell_type": "code",
   "execution_count": 20,
   "id": "6925820d",
   "metadata": {},
   "outputs": [
    {
     "name": "stdout",
     "output_type": "stream",
     "text": [
      "['tony', 'tom']\n"
     ]
    }
   ],
   "source": [
    "users=['tony','tom','ben','alex']\n",
    "users_filter=filter(lambda u:u.startswith('t'),users)\n",
    "users_map=map(lambda u:u.lower(),filter(lambda u:u.startswith('t'),users))\n",
    "print(list(users_map))"
   ]
  },
  {
   "cell_type": "code",
   "execution_count": 22,
   "id": "6ad3f2de",
   "metadata": {},
   "outputs": [
    {
     "name": "stdout",
     "output_type": "stream",
     "text": [
      "10\n"
     ]
    }
   ],
   "source": [
    "from functools import reduce\n",
    "a={1,2,3,4}\n",
    "a_reduce=reduce(lambda acc,i:acc+i,a)\n",
    "print(a_reduce)"
   ]
  },
  {
   "cell_type": "markdown",
   "id": "94dee81b",
   "metadata": {},
   "source": []
  }
 ],
 "metadata": {
  "kernelspec": {
   "display_name": "Python 3 (ipykernel)",
   "language": "python",
   "name": "python3"
  },
  "language_info": {
   "codemirror_mode": {
    "name": "ipython",
    "version": 3
   },
   "file_extension": ".py",
   "mimetype": "text/x-python",
   "name": "python",
   "nbconvert_exporter": "python",
   "pygments_lexer": "ipython3",
   "version": "3.9.12"
  }
 },
 "nbformat": 4,
 "nbformat_minor": 5
}
