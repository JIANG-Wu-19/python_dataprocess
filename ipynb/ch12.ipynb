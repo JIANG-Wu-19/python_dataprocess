{
 "cells": [
  {
   "cell_type": "markdown",
   "id": "b2acde69",
   "metadata": {},
   "source": [
    "# 异常处理\n",
    "## 常见异常\n",
    "### AttributeError异常"
   ]
  },
  {
   "cell_type": "code",
   "execution_count": 1,
   "id": "bbf4a067",
   "metadata": {},
   "outputs": [],
   "source": [
    "class Animal(object):\n",
    "    pass"
   ]
  },
  {
   "cell_type": "code",
   "execution_count": 2,
   "id": "ad07f436",
   "metadata": {},
   "outputs": [],
   "source": [
    "al=Animal()"
   ]
  },
  {
   "cell_type": "code",
   "execution_count": 3,
   "id": "f96882d2",
   "metadata": {},
   "outputs": [
    {
     "ename": "AttributeError",
     "evalue": "'Animal' object has no attribute 'run'",
     "output_type": "error",
     "traceback": [
      "\u001b[1;31m---------------------------------------------------------------------------\u001b[0m",
      "\u001b[1;31mAttributeError\u001b[0m                            Traceback (most recent call last)",
      "Input \u001b[1;32mIn [3]\u001b[0m, in \u001b[0;36m<cell line: 1>\u001b[1;34m()\u001b[0m\n\u001b[1;32m----> 1\u001b[0m \u001b[43mal\u001b[49m\u001b[38;5;241;43m.\u001b[39;49m\u001b[43mrun\u001b[49m()\n",
      "\u001b[1;31mAttributeError\u001b[0m: 'Animal' object has no attribute 'run'"
     ]
    }
   ],
   "source": [
    "al.run()"
   ]
  },
  {
   "cell_type": "code",
   "execution_count": 4,
   "id": "917c4526",
   "metadata": {},
   "outputs": [
    {
     "ename": "AttributeError",
     "evalue": "'Animal' object has no attribute 'age'",
     "output_type": "error",
     "traceback": [
      "\u001b[1;31m---------------------------------------------------------------------------\u001b[0m",
      "\u001b[1;31mAttributeError\u001b[0m                            Traceback (most recent call last)",
      "Input \u001b[1;32mIn [4]\u001b[0m, in \u001b[0;36m<cell line: 1>\u001b[1;34m()\u001b[0m\n\u001b[1;32m----> 1\u001b[0m \u001b[38;5;28mprint\u001b[39m(\u001b[43mal\u001b[49m\u001b[38;5;241;43m.\u001b[39;49m\u001b[43mage\u001b[49m)\n",
      "\u001b[1;31mAttributeError\u001b[0m: 'Animal' object has no attribute 'age'"
     ]
    }
   ],
   "source": [
    "print(al.age)"
   ]
  },
  {
   "cell_type": "code",
   "execution_count": 5,
   "id": "abc74837",
   "metadata": {},
   "outputs": [
    {
     "ename": "AttributeError",
     "evalue": "type object 'Animal' has no attribute 'weight'",
     "output_type": "error",
     "traceback": [
      "\u001b[1;31m---------------------------------------------------------------------------\u001b[0m",
      "\u001b[1;31mAttributeError\u001b[0m                            Traceback (most recent call last)",
      "Input \u001b[1;32mIn [5]\u001b[0m, in \u001b[0;36m<cell line: 1>\u001b[1;34m()\u001b[0m\n\u001b[1;32m----> 1\u001b[0m \u001b[38;5;28mprint\u001b[39m(\u001b[43mAnimal\u001b[49m\u001b[38;5;241;43m.\u001b[39;49m\u001b[43mweight\u001b[49m)\n",
      "\u001b[1;31mAttributeError\u001b[0m: type object 'Animal' has no attribute 'weight'"
     ]
    }
   ],
   "source": [
    "print(Animal.weight)"
   ]
  },
  {
   "cell_type": "markdown",
   "id": "01068920",
   "metadata": {},
   "source": [
    "### OSError异常"
   ]
  },
  {
   "cell_type": "code",
   "execution_count": 6,
   "id": "6b9fde2a",
   "metadata": {},
   "outputs": [
    {
     "ename": "FileNotFoundError",
     "evalue": "[Errno 2] No such file or directory: 'abc.txt'",
     "output_type": "error",
     "traceback": [
      "\u001b[1;31m---------------------------------------------------------------------------\u001b[0m",
      "\u001b[1;31mFileNotFoundError\u001b[0m                         Traceback (most recent call last)",
      "Input \u001b[1;32mIn [6]\u001b[0m, in \u001b[0;36m<cell line: 1>\u001b[1;34m()\u001b[0m\n\u001b[1;32m----> 1\u001b[0m f\u001b[38;5;241m=\u001b[39m\u001b[38;5;28;43mopen\u001b[39;49m\u001b[43m(\u001b[49m\u001b[38;5;124;43m'\u001b[39;49m\u001b[38;5;124;43mabc.txt\u001b[39;49m\u001b[38;5;124;43m'\u001b[39;49m\u001b[43m)\u001b[49m\n",
      "\u001b[1;31mFileNotFoundError\u001b[0m: [Errno 2] No such file or directory: 'abc.txt'"
     ]
    }
   ],
   "source": [
    "f=open('abc.txt')"
   ]
  },
  {
   "cell_type": "markdown",
   "id": "3646ab48",
   "metadata": {},
   "source": [
    "### IndexError异常"
   ]
  },
  {
   "cell_type": "code",
   "execution_count": 7,
   "id": "33674410",
   "metadata": {},
   "outputs": [
    {
     "ename": "IndexError",
     "evalue": "list index out of range",
     "output_type": "error",
     "traceback": [
      "\u001b[1;31m---------------------------------------------------------------------------\u001b[0m",
      "\u001b[1;31mIndexError\u001b[0m                                Traceback (most recent call last)",
      "Input \u001b[1;32mIn [7]\u001b[0m, in \u001b[0;36m<cell line: 2>\u001b[1;34m()\u001b[0m\n\u001b[0;32m      1\u001b[0m code_list\u001b[38;5;241m=\u001b[39m[\u001b[38;5;241m125\u001b[39m,\u001b[38;5;241m56\u001b[39m,\u001b[38;5;241m89\u001b[39m,\u001b[38;5;241m36\u001b[39m]\n\u001b[1;32m----> 2\u001b[0m \u001b[43mcode_list\u001b[49m\u001b[43m[\u001b[49m\u001b[38;5;241;43m4\u001b[39;49m\u001b[43m]\u001b[49m\n",
      "\u001b[1;31mIndexError\u001b[0m: list index out of range"
     ]
    }
   ],
   "source": [
    "code_list=[125,56,89,36]\n",
    "code_list[4]"
   ]
  },
  {
   "cell_type": "markdown",
   "id": "160ba10b",
   "metadata": {},
   "source": [
    "### KeyError异常\n",
    "访问字典里不存在的键时引发"
   ]
  },
  {
   "cell_type": "code",
   "execution_count": 9,
   "id": "6f8d6d75",
   "metadata": {},
   "outputs": [
    {
     "ename": "NameError",
     "evalue": "name 'dict1' is not defined",
     "output_type": "error",
     "traceback": [
      "\u001b[1;31m---------------------------------------------------------------------------\u001b[0m",
      "\u001b[1;31mNameError\u001b[0m                                 Traceback (most recent call last)",
      "Input \u001b[1;32mIn [9]\u001b[0m, in \u001b[0;36m<cell line: 1>\u001b[1;34m()\u001b[0m\n\u001b[1;32m----> 1\u001b[0m \u001b[43mdict1\u001b[49m[\u001b[38;5;241m104\u001b[39m]\n",
      "\u001b[1;31mNameError\u001b[0m: name 'dict1' is not defined"
     ]
    }
   ],
   "source": [
    "dict1[104]"
   ]
  },
  {
   "cell_type": "markdown",
   "id": "8defec5d",
   "metadata": {},
   "source": [
    "### NameError异常"
   ]
  },
  {
   "cell_type": "code",
   "execution_count": 10,
   "id": "5e0e6d7f",
   "metadata": {},
   "outputs": [
    {
     "ename": "NameError",
     "evalue": "name 'value1' is not defined",
     "output_type": "error",
     "traceback": [
      "\u001b[1;31m---------------------------------------------------------------------------\u001b[0m",
      "\u001b[1;31mNameError\u001b[0m                                 Traceback (most recent call last)",
      "Input \u001b[1;32mIn [10]\u001b[0m, in \u001b[0;36m<cell line: 1>\u001b[1;34m()\u001b[0m\n\u001b[1;32m----> 1\u001b[0m \u001b[43mvalue1\u001b[49m\n",
      "\u001b[1;31mNameError\u001b[0m: name 'value1' is not defined"
     ]
    }
   ],
   "source": [
    "value1"
   ]
  },
  {
   "cell_type": "code",
   "execution_count": 11,
   "id": "e1e7298a",
   "metadata": {},
   "outputs": [
    {
     "ename": "NameError",
     "evalue": "name 'value1' is not defined",
     "output_type": "error",
     "traceback": [
      "\u001b[1;31m---------------------------------------------------------------------------\u001b[0m",
      "\u001b[1;31mNameError\u001b[0m                                 Traceback (most recent call last)",
      "Input \u001b[1;32mIn [11]\u001b[0m, in \u001b[0;36m<cell line: 1>\u001b[1;34m()\u001b[0m\n\u001b[1;32m----> 1\u001b[0m a\u001b[38;5;241m=\u001b[39m\u001b[43mvalue1\u001b[49m\n",
      "\u001b[1;31mNameError\u001b[0m: name 'value1' is not defined"
     ]
    }
   ],
   "source": [
    "a=value1"
   ]
  },
  {
   "cell_type": "code",
   "execution_count": 12,
   "id": "5bf8ba3c",
   "metadata": {},
   "outputs": [],
   "source": [
    "value1=10"
   ]
  },
  {
   "cell_type": "markdown",
   "id": "6f388eed",
   "metadata": {},
   "source": [
    "### TypeError异常"
   ]
  },
  {
   "cell_type": "code",
   "execution_count": 13,
   "id": "fe7c138d",
   "metadata": {},
   "outputs": [],
   "source": [
    "i='2'"
   ]
  },
  {
   "cell_type": "code",
   "execution_count": 14,
   "id": "9de407f1",
   "metadata": {},
   "outputs": [
    {
     "ename": "TypeError",
     "evalue": "unsupported operand type(s) for /: 'int' and 'str'",
     "output_type": "error",
     "traceback": [
      "\u001b[1;31m---------------------------------------------------------------------------\u001b[0m",
      "\u001b[1;31mTypeError\u001b[0m                                 Traceback (most recent call last)",
      "Input \u001b[1;32mIn [14]\u001b[0m, in \u001b[0;36m<cell line: 1>\u001b[1;34m()\u001b[0m\n\u001b[1;32m----> 1\u001b[0m \u001b[38;5;28mprint\u001b[39m(\u001b[38;5;241;43m5\u001b[39;49m\u001b[38;5;241;43m/\u001b[39;49m\u001b[43mi\u001b[49m)\n",
      "\u001b[1;31mTypeError\u001b[0m: unsupported operand type(s) for /: 'int' and 'str'"
     ]
    }
   ],
   "source": [
    "print(5/i)"
   ]
  },
  {
   "cell_type": "markdown",
   "id": "e7224b56",
   "metadata": {},
   "source": [
    "### ValueError异常"
   ]
  },
  {
   "cell_type": "code",
   "execution_count": 15,
   "id": "2eabbbf2",
   "metadata": {},
   "outputs": [],
   "source": [
    "i='QWE'"
   ]
  },
  {
   "cell_type": "code",
   "execution_count": 16,
   "id": "83e59534",
   "metadata": {},
   "outputs": [
    {
     "ename": "ValueError",
     "evalue": "invalid literal for int() with base 10: 'QWE'",
     "output_type": "error",
     "traceback": [
      "\u001b[1;31m---------------------------------------------------------------------------\u001b[0m",
      "\u001b[1;31mValueError\u001b[0m                                Traceback (most recent call last)",
      "Input \u001b[1;32mIn [16]\u001b[0m, in \u001b[0;36m<cell line: 1>\u001b[1;34m()\u001b[0m\n\u001b[1;32m----> 1\u001b[0m \u001b[38;5;28mprint\u001b[39m(\u001b[38;5;241m5\u001b[39m\u001b[38;5;241m/\u001b[39m\u001b[38;5;28;43mint\u001b[39;49m\u001b[43m(\u001b[49m\u001b[43mi\u001b[49m\u001b[43m)\u001b[49m)\n",
      "\u001b[1;31mValueError\u001b[0m: invalid literal for int() with base 10: 'QWE'"
     ]
    }
   ],
   "source": [
    "print(5/int(i))"
   ]
  },
  {
   "cell_type": "markdown",
   "id": "697fd9c1",
   "metadata": {},
   "source": [
    "## 捕获异常\n",
    "### try-except语句"
   ]
  },
  {
   "cell_type": "code",
   "execution_count": 18,
   "id": "0cbb36e6",
   "metadata": {},
   "outputs": [
    {
     "name": "stdout",
     "output_type": "stream",
     "text": [
      "日期=2018-08-18 00:00:00\n"
     ]
    }
   ],
   "source": [
    "import datetime as dt\n",
    "\n",
    "def read_date(in_date):\n",
    "    try:\n",
    "        date=dt.datetime.strptime(in_date,'%Y-%m-%d')\n",
    "        return date\n",
    "    except ValueError:\n",
    "        print('处理ValueError异常')\n",
    "\n",
    "\n",
    "str_date='2018-8-18'\n",
    "print('日期={0}'.format(read_date(str_date)))"
   ]
  },
  {
   "cell_type": "code",
   "execution_count": 19,
   "id": "b18392a8",
   "metadata": {},
   "outputs": [],
   "source": [
    "def read_date(in_date):\n",
    "    try:\n",
    "        date=dt.datetime.strptime(in_date,'%Y-%m-%d')\n",
    "        return date\n",
    "    except ValueError as e:\n",
    "        print('处理ValueError异常')\n",
    "        print(e)"
   ]
  },
  {
   "cell_type": "code",
   "execution_count": 20,
   "id": "9522e4d1",
   "metadata": {},
   "outputs": [
    {
     "name": "stdout",
     "output_type": "stream",
     "text": [
      "处理ValueError异常\n",
      "time data '201B-8-18' does not match format '%Y-%m-%d'\n",
      "日期=None\n"
     ]
    }
   ],
   "source": [
    "str_date='201B-8-18'\n",
    "print('日期={0}'.format(read_date(str_date)))"
   ]
  },
  {
   "cell_type": "markdown",
   "id": "e8b0c0fd",
   "metadata": {},
   "source": [
    "### 多except代码块"
   ]
  },
  {
   "cell_type": "code",
   "execution_count": 1,
   "id": "fae3d597",
   "metadata": {},
   "outputs": [
    {
     "name": "stdout",
     "output_type": "stream",
     "text": [
      "处理FileNotFoundError异常\n",
      "[Errno 2] No such file or directory: 'read.txt'\n",
      "日期=None\n"
     ]
    }
   ],
   "source": [
    "import datetime as dt\n",
    "\n",
    "\n",
    "def read_date_from_file(filename):\n",
    "    try:\n",
    "        file=open(filename)\n",
    "        in_date=file.read()\n",
    "        in_date=in_date.strip()\n",
    "        date=dt.datetime.strptime(in_date,'%Y-%m-%d')\n",
    "        return date\n",
    "    except ValueError as e:\n",
    "        print('处理ValueError异常')\n",
    "        print(e)\n",
    "    except FileNotFoundError as e:\n",
    "        print('处理FileNotFoundError异常')\n",
    "        print(e)\n",
    "        \n",
    "date=read_date_from_file('read.txt')\n",
    "print('日期={0}'.format(date))"
   ]
  },
  {
   "cell_type": "code",
   "execution_count": 2,
   "id": "3f65733e",
   "metadata": {},
   "outputs": [
    {
     "name": "stdout",
     "output_type": "stream",
     "text": [
      "处理FileNotFoundError异常\n",
      "[Errno 2] No such file or directory: 'read.txt'\n",
      "日期=None\n"
     ]
    }
   ],
   "source": [
    "import datetime as dt\n",
    "\n",
    "\n",
    "def read_date_from_file(filename):\n",
    "    try:\n",
    "        file=open(filename)\n",
    "        in_date=file.read()\n",
    "        in_date=in_date.strip()\n",
    "        date=dt.datetime.strptime(in_date,'%Y-%m-%d')\n",
    "        return date\n",
    "    except ValueError as e:\n",
    "        print('处理ValueError异常')\n",
    "        print(e)\n",
    "    except FileNotFoundError as e:\n",
    "        print('处理FileNotFoundError异常')\n",
    "        print(e)\n",
    "    except OSError as e:\n",
    "        print('处理OSError异常')\n",
    "        print(e)\n",
    "        \n",
    "date=read_date_from_file('read.txt')\n",
    "print('日期={0}'.format(date))"
   ]
  },
  {
   "cell_type": "markdown",
   "id": "8b8c9e1d",
   "metadata": {},
   "source": [
    "### try-except语句嵌套"
   ]
  },
  {
   "cell_type": "code",
   "execution_count": 3,
   "id": "21106a42",
   "metadata": {},
   "outputs": [
    {
     "name": "stdout",
     "output_type": "stream",
     "text": [
      "处理FileNotFoundError异常\n",
      "[Errno 2] No such file or directory: 'read.txt'\n",
      "日期=None\n"
     ]
    }
   ],
   "source": [
    "import datetime as dt\n",
    "\n",
    "def read_date_from_file(filename):\n",
    "    try:\n",
    "        file=open(filename)\n",
    "        try:\n",
    "            in_date = file.read()\n",
    "            in_date = in_date.strip()\n",
    "            date = dt.datetime.strptime(in_date, '%Y-%m-%d')\n",
    "            return date\n",
    "        except ValueError as e:\n",
    "            print('处理ValueError异常')\n",
    "            print(e)\n",
    "    except FileNotFoundError as e:\n",
    "        print('处理FileNotFoundError异常')\n",
    "        print(e)\n",
    "    except OSError as e:\n",
    "        print('处理OSError异常')\n",
    "        print(e)\n",
    "        \n",
    "date=read_date_from_file('read.txt')\n",
    "print('日期={0}'.format(date))"
   ]
  },
  {
   "cell_type": "markdown",
   "id": "70875337",
   "metadata": {},
   "source": [
    "### 多重异常捕获"
   ]
  },
  {
   "cell_type": "code",
   "execution_count": 4,
   "id": "1e85ec9f",
   "metadata": {},
   "outputs": [
    {
     "name": "stdout",
     "output_type": "stream",
     "text": [
      "调用---\n",
      "[Errno 2] No such file or directory: 'read.txt'\n",
      "日期=None\n"
     ]
    }
   ],
   "source": [
    "import datetime as dt\n",
    "def read_date_from_file(filename):\n",
    "    try:\n",
    "        file=open(filename)\n",
    "        in_date=file.read()\n",
    "        in_date=in_date.strip()\n",
    "        date=dt.datetime.strptime(in_date,'%Y-%m-%d')\n",
    "        return date\n",
    "    except (ValueError,OSError) as e:\n",
    "        print('调用---')\n",
    "        print(e)\n",
    "        \n",
    "date=read_date_from_file('read.txt')\n",
    "print('日期={0}'.format(date))\n"
   ]
  },
  {
   "cell_type": "markdown",
   "id": "c09fdc68",
   "metadata": {},
   "source": [
    "## 异常堆栈跟踪"
   ]
  },
  {
   "cell_type": "code",
   "execution_count": 6,
   "id": "72dd597f",
   "metadata": {},
   "outputs": [
    {
     "name": "stdout",
     "output_type": "stream",
     "text": [
      "调用---\n",
      "[Errno 2] No such file or directory: 'read.txt'\n",
      "日期=None\n"
     ]
    },
    {
     "name": "stderr",
     "output_type": "stream",
     "text": [
      "Traceback (most recent call last):\n",
      "  File \"C:\\Users\\HP\\AppData\\Local\\Temp\\ipykernel_8772\\538862610.py\", line 5, in read_date_from_file\n",
      "    file=open(filename)\n",
      "FileNotFoundError: [Errno 2] No such file or directory: 'read.txt'\n"
     ]
    }
   ],
   "source": [
    "import datetime as dt\n",
    "import traceback as tb\n",
    "def read_date_from_file(filename):\n",
    "    try:\n",
    "        file=open(filename)\n",
    "        in_date=file.read()\n",
    "        in_date=in_date.strip()\n",
    "        date=dt.datetime.strptime(in_date,'%Y-%m-%d')\n",
    "        return date\n",
    "    except (ValueError,OSError) as e:\n",
    "        print('调用---')\n",
    "        print(e)\n",
    "        tb.print_exc()\n",
    "        \n",
    "date=read_date_from_file('read.txt')\n",
    "print('日期={0}'.format(date))"
   ]
  },
  {
   "cell_type": "markdown",
   "id": "d7dbd7dd",
   "metadata": {},
   "source": [
    "## 释放资源\n",
    "### finally代码块"
   ]
  },
  {
   "cell_type": "code",
   "execution_count": 7,
   "id": "1b69e5cf",
   "metadata": {},
   "outputs": [
    {
     "name": "stdout",
     "output_type": "stream",
     "text": [
      "处理FileNotFoundError异常\n",
      "[Errno 2] No such file or directory: 'read.txt'\n"
     ]
    },
    {
     "ename": "UnboundLocalError",
     "evalue": "local variable 'file' referenced before assignment",
     "output_type": "error",
     "traceback": [
      "\u001b[1;31m---------------------------------------------------------------------------\u001b[0m",
      "\u001b[1;31mUnboundLocalError\u001b[0m                         Traceback (most recent call last)",
      "Input \u001b[1;32mIn [7]\u001b[0m, in \u001b[0;36m<cell line: 21>\u001b[1;34m()\u001b[0m\n\u001b[0;32m     18\u001b[0m     \u001b[38;5;28;01mfinally\u001b[39;00m:\n\u001b[0;32m     19\u001b[0m         file\u001b[38;5;241m.\u001b[39mclose()\n\u001b[1;32m---> 21\u001b[0m date\u001b[38;5;241m=\u001b[39m\u001b[43mread_date_from_file\u001b[49m\u001b[43m(\u001b[49m\u001b[38;5;124;43m'\u001b[39;49m\u001b[38;5;124;43mread.txt\u001b[39;49m\u001b[38;5;124;43m'\u001b[39;49m\u001b[43m)\u001b[49m\n\u001b[0;32m     22\u001b[0m \u001b[38;5;28mprint\u001b[39m(\u001b[38;5;124m'\u001b[39m\u001b[38;5;124m日期=\u001b[39m\u001b[38;5;132;01m{0}\u001b[39;00m\u001b[38;5;124m'\u001b[39m\u001b[38;5;241m.\u001b[39mformat(date))\n",
      "Input \u001b[1;32mIn [7]\u001b[0m, in \u001b[0;36mread_date_from_file\u001b[1;34m(filename)\u001b[0m\n\u001b[0;32m     17\u001b[0m     \u001b[38;5;28mprint\u001b[39m(e)\n\u001b[0;32m     18\u001b[0m \u001b[38;5;28;01mfinally\u001b[39;00m:\n\u001b[1;32m---> 19\u001b[0m     \u001b[43mfile\u001b[49m\u001b[38;5;241m.\u001b[39mclose()\n",
      "\u001b[1;31mUnboundLocalError\u001b[0m: local variable 'file' referenced before assignment"
     ]
    }
   ],
   "source": [
    "import datetime as dt\n",
    "def read_date_from_file(filename):\n",
    "    try:\n",
    "        file=open(filename)\n",
    "        in_date=file.read()\n",
    "        in_date=in_date.strip()\n",
    "        date=dt.datetime.strptime(in_date,'%Y-%m-%d')\n",
    "        return date\n",
    "    except ValueError as e:\n",
    "        print('处理ValueError异常')\n",
    "        print(e)\n",
    "    except FileNotFoundError as e:\n",
    "        print('处理FileNotFoundError异常')\n",
    "        print(e)\n",
    "    except OSError as e:\n",
    "        print('处理OSError异常')\n",
    "        print(e)\n",
    "    finally:\n",
    "        file.close()\n",
    "        \n",
    "date=read_date_from_file('read.txt')\n",
    "print('日期={0}'.format(date))"
   ]
  },
  {
   "cell_type": "markdown",
   "id": "1391a162",
   "metadata": {},
   "source": [
    "### else代码块"
   ]
  },
  {
   "cell_type": "code",
   "execution_count": 1,
   "id": "fd2e2383",
   "metadata": {},
   "outputs": [
    {
     "name": "stdout",
     "output_type": "stream",
     "text": [
      "打开文件失败\n",
      "日期=None\n"
     ]
    }
   ],
   "source": [
    "import datetime as dt\n",
    "import traceback as tb\n",
    "\n",
    "def read_date_from_file(filename):\n",
    "    try:\n",
    "        file=open(filename)\n",
    "    except OSError as e:\n",
    "        print('打开文件失败')\n",
    "    else:\n",
    "        print('打开文件成功')\n",
    "        try:\n",
    "            in_date = file.read()\n",
    "            in_date = in_date.strip()\n",
    "            date = dt.datetime.strptime(in_date, '%Y-%m-%d')\n",
    "            return date\n",
    "        except ValueError as e:\n",
    "            print('处理ValueError异常')\n",
    "            print(e)\n",
    "        except OSError as e:\n",
    "            print('处理OSError异常')\n",
    "            print(e)\n",
    "        finally:\n",
    "            file.close()\n",
    "            \n",
    "date=read_date_from_file('read.txt')\n",
    "print('日期={0}'.format(date))"
   ]
  },
  {
   "cell_type": "markdown",
   "id": "c14e37df",
   "metadata": {},
   "source": [
    "### with as 代码块自动资源管理"
   ]
  },
  {
   "cell_type": "code",
   "execution_count": 2,
   "id": "c9631816",
   "metadata": {},
   "outputs": [
    {
     "name": "stdout",
     "output_type": "stream",
     "text": [
      "处理OSError异常\n",
      "[Errno 2] No such file or directory: 'read.txt'\n",
      "日期=None\n"
     ]
    }
   ],
   "source": [
    "import datetime as dt\n",
    "def read_date_from_file(filename):\n",
    "    try:\n",
    "        with open(filename) as file:\n",
    "            in_date=file.read()\n",
    "        in_date=in_date.strip()\n",
    "        date=dt.datetime.strptime(in_date,'%Y-%m-%d')\n",
    "        return date\n",
    "    except ValueError as e:\n",
    "        print('处理ValueError异常')\n",
    "        print(e)\n",
    "    except OSError as e:\n",
    "        print('处理OSError异常')\n",
    "        print(e)\n",
    "        \n",
    "date=read_date_from_file('read.txt')\n",
    "print('日期={0}'.format(date))"
   ]
  },
  {
   "cell_type": "markdown",
   "id": "05ca4ef3",
   "metadata": {},
   "source": [
    "## 自定义异常类"
   ]
  },
  {
   "cell_type": "code",
   "execution_count": 3,
   "id": "c53490c2",
   "metadata": {},
   "outputs": [],
   "source": [
    "class MyException(Exception):\n",
    "    def __init__(self,message):\n",
    "        super().__init__(message)"
   ]
  },
  {
   "cell_type": "markdown",
   "id": "73bb808e",
   "metadata": {},
   "source": [
    "## 显式抛出异常"
   ]
  },
  {
   "cell_type": "code",
   "execution_count": 4,
   "id": "c974af82",
   "metadata": {},
   "outputs": [
    {
     "ename": "MyException",
     "evalue": "文件找不到",
     "output_type": "error",
     "traceback": [
      "\u001b[1;31m---------------------------------------------------------------------------\u001b[0m",
      "\u001b[1;31mFileNotFoundError\u001b[0m                         Traceback (most recent call last)",
      "Input \u001b[1;32mIn [4]\u001b[0m, in \u001b[0;36mread_date_from_file\u001b[1;34m(filename)\u001b[0m\n\u001b[0;32m      7\u001b[0m \u001b[38;5;28;01mtry\u001b[39;00m:\n\u001b[1;32m----> 8\u001b[0m     file\u001b[38;5;241m=\u001b[39m\u001b[38;5;28;43mopen\u001b[39;49m\u001b[43m(\u001b[49m\u001b[43mfilename\u001b[49m\u001b[43m)\u001b[49m\n\u001b[0;32m      9\u001b[0m     in_date\u001b[38;5;241m=\u001b[39mfile\u001b[38;5;241m.\u001b[39mread()\n",
      "\u001b[1;31mFileNotFoundError\u001b[0m: [Errno 2] No such file or directory: 'read.txt'",
      "\nDuring handling of the above exception, another exception occurred:\n",
      "\u001b[1;31mMyException\u001b[0m                               Traceback (most recent call last)",
      "Input \u001b[1;32mIn [4]\u001b[0m, in \u001b[0;36m<cell line: 20>\u001b[1;34m()\u001b[0m\n\u001b[0;32m     17\u001b[0m     \u001b[38;5;28;01mexcept\u001b[39;00m \u001b[38;5;167;01mOSError\u001b[39;00m \u001b[38;5;28;01mas\u001b[39;00m e:\n\u001b[0;32m     18\u001b[0m         \u001b[38;5;28;01mraise\u001b[39;00m MyException(\u001b[38;5;124m'\u001b[39m\u001b[38;5;124m文件无法打开或无法读取\u001b[39m\u001b[38;5;124m'\u001b[39m)\n\u001b[1;32m---> 20\u001b[0m date\u001b[38;5;241m=\u001b[39m\u001b[43mread_date_from_file\u001b[49m\u001b[43m(\u001b[49m\u001b[38;5;124;43m'\u001b[39;49m\u001b[38;5;124;43mread.txt\u001b[39;49m\u001b[38;5;124;43m'\u001b[39;49m\u001b[43m)\u001b[49m\n\u001b[0;32m     21\u001b[0m \u001b[38;5;28mprint\u001b[39m(\u001b[38;5;124m'\u001b[39m\u001b[38;5;124m日期=\u001b[39m\u001b[38;5;132;01m{0}\u001b[39;00m\u001b[38;5;124m'\u001b[39m\u001b[38;5;241m.\u001b[39mformat(date))\n",
      "Input \u001b[1;32mIn [4]\u001b[0m, in \u001b[0;36mread_date_from_file\u001b[1;34m(filename)\u001b[0m\n\u001b[0;32m     14\u001b[0m     \u001b[38;5;28;01mraise\u001b[39;00m MyException(\u001b[38;5;124m'\u001b[39m\u001b[38;5;124m不是有效日期\u001b[39m\u001b[38;5;124m'\u001b[39m)\n\u001b[0;32m     15\u001b[0m \u001b[38;5;28;01mexcept\u001b[39;00m \u001b[38;5;167;01mFileNotFoundError\u001b[39;00m \u001b[38;5;28;01mas\u001b[39;00m e:\n\u001b[1;32m---> 16\u001b[0m     \u001b[38;5;28;01mraise\u001b[39;00m MyException(\u001b[38;5;124m'\u001b[39m\u001b[38;5;124m文件找不到\u001b[39m\u001b[38;5;124m'\u001b[39m)\n\u001b[0;32m     17\u001b[0m \u001b[38;5;28;01mexcept\u001b[39;00m \u001b[38;5;167;01mOSError\u001b[39;00m \u001b[38;5;28;01mas\u001b[39;00m e:\n\u001b[0;32m     18\u001b[0m     \u001b[38;5;28;01mraise\u001b[39;00m MyException(\u001b[38;5;124m'\u001b[39m\u001b[38;5;124m文件无法打开或无法读取\u001b[39m\u001b[38;5;124m'\u001b[39m)\n",
      "\u001b[1;31mMyException\u001b[0m: 文件找不到"
     ]
    }
   ],
   "source": [
    "import datetime as dt\n",
    "class MyException(Exception):\n",
    "    def __init__(self,message):\n",
    "        super().__init__(message)\n",
    "        \n",
    "def read_date_from_file(filename):\n",
    "    try:\n",
    "        file=open(filename)\n",
    "        in_date=file.read()\n",
    "        in_date=in_date.strip()\n",
    "        date=dt.datetime.strptime(in_date,'%Y-%m-%d')\n",
    "        return date\n",
    "    except ValueError as e:\n",
    "        raise MyException('不是有效日期')\n",
    "    except FileNotFoundError as e:\n",
    "        raise MyException('文件找不到')\n",
    "    except OSError as e:\n",
    "        raise MyException('文件无法打开或无法读取')\n",
    "\n",
    "date=read_date_from_file('read.txt')\n",
    "print('日期={0}'.format(date))"
   ]
  },
  {
   "cell_type": "code",
   "execution_count": null,
   "id": "1ce120d3",
   "metadata": {},
   "outputs": [],
   "source": []
  }
 ],
 "metadata": {
  "kernelspec": {
   "display_name": "Python 3 (ipykernel)",
   "language": "python",
   "name": "python3"
  },
  "language_info": {
   "codemirror_mode": {
    "name": "ipython",
    "version": 3
   },
   "file_extension": ".py",
   "mimetype": "text/x-python",
   "name": "python",
   "nbconvert_exporter": "python",
   "pygments_lexer": "ipython3",
   "version": "3.9.12"
  }
 },
 "nbformat": 4,
 "nbformat_minor": 5
}
